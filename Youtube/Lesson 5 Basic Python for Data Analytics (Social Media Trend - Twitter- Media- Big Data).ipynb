{
 "cells": [
  {
   "cell_type": "markdown",
   "metadata": {},
   "source": [
    "# Lesson 5 Basic Python for Data Analytics (Social Media Trend - Twitter- Media- Big Data)\n",
    "# Introduction\n",
    "\n",
    "During the US presidential election, Trump and Hillary have become the most talked candidates over the others. \n",
    "The US Presidential Primaries were nothing short of a news sensation. Many news and social media generated fads over who are going to win the presidential election. Now in 2017, we have the hindsight of Trump winning the presidential election. \n",
    "\n",
    "However, could we have predicted his winning earlier by using twitter analysis?\n",
    "Could we apply these to others? Let's say, whether Samsung and Apple going to win in the future?\n",
    "How open are netizens to the walls that Trump going to built? Are they running to China to rely on business opportunities?\n",
    "\n",
    "Let's find out whether we can do these. But for now, let's analyse the presidential election\n"
   ]
  },
  {
   "cell_type": "markdown",
   "metadata": {},
   "source": [
    "# <font color='red'>Notice:</font>\n",
    "\n",
    "As I have found recently that Twitter only allows historical data on administration and financial fee case. I decided to analyse these presidential election post election using saved data who I received from data. However, this data method can still be used for other election such as Indonesian presidential election (which is happening soon -- Jan & Feb 2017. \n",
    "\n",
    "If you are still interested on the real analysis on the USA presidential election 2016, feel free to open my inspiration link here: http://datadrivenjournalism.net/news_and_analysis/scraping_27000_tweets_for_presidential_sentiment_analysis\n",
    "\n",
    "For more information on how you can grab Twitter Historical Data (more than a week past). Feel free to retrieve from here\n",
    "https://blog.gnip.com/tag/historical-twitter-data/\n"
   ]
  },
  {
   "cell_type": "markdown",
   "metadata": {},
   "source": [
    "## Objective\n",
    "\n",
    "* To use twippy (Python Library linked with Twitter) to load data from Twitter\n",
    "* Setting up Twitter Developer account linked to profile\n",
    "* Initialize Connections and Extracting the presidential election tweets\n",
    "* To explore Presidential Election Trump vs Hillary from Twitter data \n",
    "    * Viewing the data\n",
    "    * Search Term Analysis\n",
    "    * Exploring Twitter Trends\n",
    "* Sentimental Analysis\n",
    "    * Generating Sentimental Analysis\n",
    "    * Plotting out Sentimental Analysis\n",
    "    * How about the news media. How often do they mention the election candidates?\n",
    "* Topic Analysis\n",
    "    * Generating Topic with LDA\n",
    "    * Plotting out Topic Analysis\n",
    "* Challenges:\n",
    "    * Analysing fake news\n",
    "    * Analysing geographic locations sentiments given charts\n",
    "    * Applying these techniques for companies, commodities, and stocks\n",
    "* Next lesson:\n",
    "    * Lesson 6 Basic Python for Data Analytics (Optimization Model for Operations Management)"
   ]
  },
  {
   "cell_type": "markdown",
   "metadata": {},
   "source": [
    "# Setting up Twitter Developer account linked to profile\n",
    "https://apps.twitter.com/"
   ]
  },
  {
   "cell_type": "markdown",
   "metadata": {},
   "source": [
    "## Initialize Connection"
   ]
  },
  {
   "cell_type": "code",
   "execution_count": 3,
   "metadata": {
    "collapsed": false
   },
   "outputs": [],
   "source": [
    "import tweepy\n",
    "import json\n",
    "import time\n",
    "\n",
    "#consumer key, consumer secret, access token, access secret.\n",
    "ckey=\"tLolJ53qD8C7MzxWOynytE7Wr\"\n",
    "csecret=\"k7XtFldKsnWwY85FAUE1BMrmKFSQT9ZvIsxWLhXdnRmiZ8H2LY\"\n",
    "atoken=\"2400788581-SqJ2TljEPI7GEKZa67AoDPGUZr3DqEUJ7cBp5Ng\"\n",
    "asecret=\"tnPy4kKayWeIZt6lN1iCY1C1cnzC7PKrlTSJXAD1iXvIX\"\n",
    "\n",
    "# Instantiating objects of authentication \n",
    "auth = tweepy.OAuthHandler(ckey, csecret)\n",
    "auth.set_access_token(atoken, asecret)"
   ]
  },
  {
   "cell_type": "markdown",
   "metadata": {},
   "source": [
    "## Testing the connection"
   ]
  },
  {
   "cell_type": "code",
   "execution_count": 4,
   "metadata": {
    "collapsed": false
   },
   "outputs": [],
   "source": [
    "# Creation of the actual interface, using authentication\n",
    "api = tweepy.API(auth)\n",
    " \n",
    "# Sample method, used to update a status\n",
    "# api.update_status('Hello I am creating a python youtube tutorial!')\n",
    "\n",
    "# Creates the user object. The me() method returns the user whose authentication keys were used.\n",
    "user = api.me()"
   ]
  },
  {
   "cell_type": "markdown",
   "metadata": {},
   "source": [
    "## Getting out profile data"
   ]
  },
  {
   "cell_type": "code",
   "execution_count": 5,
   "metadata": {
    "collapsed": false
   },
   "outputs": [
    {
     "name": "stdout",
     "output_type": "stream",
     "text": [
      "Name: Vincent Tatan\n",
      "Location: Amsterdam, The Netherlands\n",
      "Friends: 56\n"
     ]
    }
   ],
   "source": [
    "# Printing out profile data\n",
    "print('Name: ' + user.name)\n",
    "print('Location: ' + user.location)\n",
    "print('Friends: ' + str(user.friends_count))"
   ]
  },
  {
   "cell_type": "code",
   "execution_count": 6,
   "metadata": {
    "collapsed": false
   },
   "outputs": [
    {
     "name": "stdout",
     "output_type": "stream",
     "text": [
      "On average, women earn 18% less than men #econarchive https://t.co/0j7dI2pb2g\n",
      "President Trump overrules Rex Tillerson, rejecting Elliott Abrams for deputy secretary of state https://t.co/y0Ad86Dhyk\n",
      "An Arctic oil town is in trouble because a 97-year-old well is closing https://t.co/wJw66cZg8t https://t.co/V54lXTnMCK\n",
      "This is the world's ugliest color — and it has an important job https://t.co/2yEC1rYg4k\n",
      "Third time lucky for student in Google's coding competition https://t.co/2AiCvlRGSo https://t.co/AzsO1JIgTY\n",
      "DARPA shows off its SideArm system catching drones mid-flight https://t.co/7rZiteRuBc https://t.co/bmblIzad9l\n",
      "Alec Baldwin is getting ready for his 17th stint as host of \"Saturday Night Live.\" Will President Trump be watching… https://t.co/MzPSr9fibi\n",
      "Why Amsterdam’s coffee shops are closing https://t.co/FqKIjFuQ4m\n",
      "It's a bad sign when Unilever's bonds yields less than France's https://t.co/JxhwGkjsu7 https://t.co/kCG5IexiqK\n",
      "Opinion:  Ivanka’s frocks and Trump’s retail politics https://t.co/ufx4MWEJgv\n"
     ]
    }
   ],
   "source": [
    "# Reading your timeline status\n",
    "for status in tweepy.Cursor(api.home_timeline).items(10):\n",
    "    # Process a single status\n",
    "    print(status.text) "
   ]
  },
  {
   "cell_type": "markdown",
   "metadata": {},
   "source": [
    "## Tweepy Cookbook\n",
    "http://tweepy.readthedocs.io/en/v3.5.0/"
   ]
  },
  {
   "cell_type": "markdown",
   "metadata": {},
   "source": [
    "# Streaming Presidential Election Tweets"
   ]
  },
  {
   "cell_type": "code",
   "execution_count": 7,
   "metadata": {
    "collapsed": false,
    "scrolled": true
   },
   "outputs": [
    {
     "name": "stdout",
     "output_type": "stream",
     "text": [
      "Twitter Download is interrupted\n"
     ]
    }
   ],
   "source": [
    "# Initializing a listener class that streams Twitter status\n",
    "class StdOutListener(tweepy.StreamListener):\n",
    "#     Create an init statement\n",
    "    def __init__(self, start_time, time_limit=100):\n",
    "        self.time = start_time\n",
    "        self.limit = time_limit\n",
    "        self.tweet_data = []\n",
    "    \n",
    "#     Defining what you are going to do based on data\n",
    "    def on_data(self, data):\n",
    "        try:\n",
    "#             Opening data for streaming\n",
    "            with open('presidentialtweets.json', 'a') as f:\n",
    "                f.write(data)\n",
    "                return True\n",
    "        except KeyboardInterrupt:\n",
    "            print(\"Twitter Download is interrupted\")\n",
    "        except BaseException as e:\n",
    "            print(str(e))\n",
    "        return True\n",
    "\n",
    "    def on_error(self, status):\n",
    "        print status\n",
    "\n",
    "\n",
    "\n",
    "#This handles Twitter authetification and the connection to Twitter Streaming API\n",
    "start_time = time.strptime(\"9 Nov 16\", \"%d %b %y\")    \n",
    "l = StdOutListener(start_time)\n",
    "stream = tweepy.Stream(auth, l)\n",
    "\n",
    "#This line filter Twitter Streams to capture data by the keywords: 'trump', 'hillary'\n",
    "try:\n",
    "    stream.filter(track=['trump','hillary'])\n",
    "except KeyboardInterrupt:\n",
    "        print(\"Twitter Download is interrupted\")\n"
   ]
  },
  {
   "cell_type": "markdown",
   "metadata": {},
   "source": [
    "# Exploring data"
   ]
  },
  {
   "cell_type": "markdown",
   "metadata": {},
   "source": [
    "To explore Presidential Election Trump vs Hillary from Twitter data \n",
    "    * Reading and Preparing the data\n",
    "    * Viewing the data\n",
    "    * Search Term Analysis"
   ]
  },
  {
   "cell_type": "markdown",
   "metadata": {},
   "source": [
    "## Reading and Preparing the data"
   ]
  },
  {
   "cell_type": "code",
   "execution_count": 501,
   "metadata": {
    "collapsed": true
   },
   "outputs": [],
   "source": [
    "# Importing json (JavaScript Object Notation) library to read twitter data\n",
    "import json\n",
    "\n",
    "# Importing data analytics related libraries (DataFrame and Visualization)\n",
    "import pandas as pd\n",
    "import matplotlib.pyplot as plt\n",
    "from matplotlib import style\n",
    "\n",
    "# Adjusting the size of matplotlib\n",
    "import matplotlib as mpl\n",
    "mpl.rc('figure', figsize=(8, 7))\n",
    "mpl.__version__\n",
    "\n",
    "# Adjusting the style of matplotlib\n",
    "style.use('ggplot')\n",
    "\n",
    "# Magic to tell python notebook we want matplotlib charts included\n",
    "%matplotlib inline\n"
   ]
  },
  {
   "cell_type": "code",
   "execution_count": 502,
   "metadata": {
    "collapsed": false
   },
   "outputs": [
    {
     "name": "stdout",
     "output_type": "stream",
     "text": [
      "43340\n"
     ]
    }
   ],
   "source": [
    "# Where you put the data of twitter stream\n",
    "tweets_data_path = 'presidentialtweets.json'\n",
    "\n",
    "# tweets_data_path = 'dataset/US_election_data.txt'\n",
    "tweets_data = []\n",
    "tweets_file = open(tweets_data_path, \"r\")\n",
    "\n",
    "for line in tweets_file:\n",
    "    try:\n",
    "        tweet = json.loads(line)\n",
    "        tweets_data.append(tweet)\n",
    "    except:\n",
    "        continue\n",
    "\n",
    "# Printing the length of the tweets data\n",
    "print len(tweets_data)"
   ]
  },
  {
   "cell_type": "code",
   "execution_count": 503,
   "metadata": {
    "collapsed": false
   },
   "outputs": [],
   "source": [
    "from datetime import datetime\n",
    "\n",
    "def gettext(tweet,element):\n",
    "    try:\n",
    "        return tweet[element]\n",
    "    except KeyError:\n",
    "        pass\n",
    "\n",
    "# Getting the data and texts along the ways using gettext\n",
    "tweets = pd.DataFrame()\n",
    "tweets['text'] = [gettext(tweet,'text') for tweet in tweets_data]\n",
    "tweets['lang'] = [gettext(tweet,'lang') for tweet in tweets_data]\n",
    "tweets['created_at'] = [gettext(tweet,'created_at') for tweet in tweets_data]\n",
    "tweets['created_at'] = pd.to_datetime(tweets['created_at'],errors='ignore')\n",
    "tweets.set_index('created_at',inplace=True)"
   ]
  },
  {
   "cell_type": "markdown",
   "metadata": {},
   "source": [
    "## Remove empty text twitter"
   ]
  },
  {
   "cell_type": "code",
   "execution_count": 504,
   "metadata": {
    "collapsed": false
   },
   "outputs": [
    {
     "data": {
      "text/plain": [
       "text    0\n",
       "lang    0\n",
       "dtype: int64"
      ]
     },
     "execution_count": 504,
     "metadata": {},
     "output_type": "execute_result"
    }
   ],
   "source": [
    "tweets.dropna(axis=0,how=\"any\",inplace=True)\n",
    "tweets.isnull().sum()"
   ]
  },
  {
   "cell_type": "markdown",
   "metadata": {},
   "source": [
    "## What languages are used in the Twitter Feeds?"
   ]
  },
  {
   "cell_type": "code",
   "execution_count": 505,
   "metadata": {
    "collapsed": false
   },
   "outputs": [
    {
     "data": {
      "text/plain": [
       "<matplotlib.axes._subplots.AxesSubplot at 0x2646f6a0>"
      ]
     },
     "execution_count": 505,
     "metadata": {},
     "output_type": "execute_result"
    },
    {
     "data": {
      "image/png": "[encoded data removed]",
      "text/plain": [
       "<matplotlib.figure.Figure at 0xa342ea90>"
      ]
     },
     "metadata": {},
     "output_type": "display_data"
    }
   ],
   "source": [
    "tweets_by_lang = tweets['lang'].value_counts()\n",
    "tweets_by_lang.head(10).plot(kind=\"bar\")"
   ]
  },
  {
   "cell_type": "markdown",
   "metadata": {},
   "source": [
    "## Extracting the relevant posts for each presidential candidate"
   ]
  },
  {
   "cell_type": "code",
   "execution_count": 506,
   "metadata": {
    "collapsed": false
   },
   "outputs": [
    {
     "name": "stdout",
     "output_type": "stream",
     "text": [
      "True\n"
     ]
    }
   ],
   "source": [
    "# Importing Regular expression for word searching\n",
    "import re\n",
    "def word_in_text(word, text):\n",
    "    try:\n",
    "        text = text.lower()\n",
    "        match = re.search(word, text)\n",
    "        if match:\n",
    "            return True\n",
    "        return False\n",
    "    except AttributeError:\n",
    "        return False\n",
    "\n",
    "# Testing out word_in_text to find a certain word in a text\n",
    "print(word_in_text('hello','Hi there maybe, I would say hello instead'))"
   ]
  },
  {
   "cell_type": "code",
   "execution_count": 507,
   "metadata": {
    "collapsed": false
   },
   "outputs": [
    {
     "name": "stdout",
     "output_type": "stream",
     "text": [
      "31531\n",
      "842\n"
     ]
    }
   ],
   "source": [
    "# Checking how many tweets talk about each presidential candidate\n",
    "\n",
    "# Please check if there are any texts that have certain words here\n",
    "tweets['trump'] = tweets['text'].apply(lambda tweet: word_in_text('trump', tweet))\n",
    "tweets['hillary'] = tweets['text'].apply(lambda tweet: word_in_text('hillary', tweet))\n",
    "\n",
    "# Check how many have the mentions of trump and hillary\n",
    "print tweets['trump'].value_counts()[1]\n",
    "print tweets['hillary'].value_counts()[1]"
   ]
  },
  {
   "cell_type": "code",
   "execution_count": 508,
   "metadata": {
    "collapsed": false,
    "scrolled": false
   },
   "outputs": [
    {
     "name": "stdout",
     "output_type": "stream",
     "text": [
      "[[31531, 842]]\n"
     ]
    },
    {
     "data": {
      "text/plain": [
       "<matplotlib.axes._subplots.AxesSubplot at 0x26332208>"
      ]
     },
     "execution_count": 508,
     "metadata": {},
     "output_type": "execute_result"
    },
    {
     "data": {
      "image/png": "[encoded data removed]",
      "text/plain": [
       "<matplotlib.figure.Figure at 0x3d859208>"
      ]
     },
     "metadata": {},
     "output_type": "display_data"
    }
   ],
   "source": [
    "presidential_candidates = ['trump', 'hillary']\n",
    "tweets_by_pres_candidates = [[tweets['trump'].value_counts()[1], tweets['hillary'].value_counts()[1]]]\n",
    "print(tweets_by_pres_candidates)\n",
    "\n",
    "# Plotting the candidate counts\n",
    "candidate_frame = pd.DataFrame(tweets_by_pres_candidates,columns=presidential_candidates)\n",
    "candidate_frame.T.plot(kind='bar',legend=False,title=\"Twitter counts of presidential candidates\")\n"
   ]
  },
  {
   "cell_type": "markdown",
   "metadata": {},
   "source": [
    "## Exploring Tweets trend"
   ]
  },
  {
   "cell_type": "code",
   "execution_count": 517,
   "metadata": {
    "collapsed": false,
    "scrolled": true
   },
   "outputs": [
    {
     "data": {
      "text/html": [
       "<div>\n",
       "<table border=\"1\" class=\"dataframe\">\n",
       "  <thead>\n",
       "    <tr style=\"text-align: right;\">\n",
       "      <th></th>\n",
       "      <th>text</th>\n",
       "      <th>lang</th>\n",
       "      <th>trump</th>\n",
       "      <th>hillary</th>\n",
       "      <th>polarity</th>\n",
       "      <th>subjectivity</th>\n",
       "      <th>polaritytext</th>\n",
       "      <th>subjectivitytext</th>\n",
       "    </tr>\n",
       "    <tr>\n",
       "      <th>created_at</th>\n",
       "      <th></th>\n",
       "      <th></th>\n",
       "      <th></th>\n",
       "      <th></th>\n",
       "      <th></th>\n",
       "      <th></th>\n",
       "      <th></th>\n",
       "      <th></th>\n",
       "    </tr>\n",
       "  </thead>\n",
       "  <tbody>\n",
       "    <tr>\n",
       "      <th>2017-01-20 11:12:24</th>\n",
       "      <td>RT @TheDairylandDon: Respect for Trump is best...</td>\n",
       "      <td>en</td>\n",
       "      <td>True</td>\n",
       "      <td>False</td>\n",
       "      <td>1.000</td>\n",
       "      <td>0.3</td>\n",
       "      <td>happy</td>\n",
       "      <td>meaningful</td>\n",
       "    </tr>\n",
       "    <tr>\n",
       "      <th>2017-01-20 11:12:24</th>\n",
       "      <td>RT @TerryMoran: Trump says no POTUS ever had i...</td>\n",
       "      <td>en</td>\n",
       "      <td>True</td>\n",
       "      <td>False</td>\n",
       "      <td>0.000</td>\n",
       "      <td>0.0</td>\n",
       "      <td>neutral</td>\n",
       "      <td>meaningful</td>\n",
       "    </tr>\n",
       "    <tr>\n",
       "      <th>2017-01-20 11:12:24</th>\n",
       "      <td>RT @Impeach_D_Trump: Hey Donald Trump @realDon...</td>\n",
       "      <td>en</td>\n",
       "      <td>True</td>\n",
       "      <td>False</td>\n",
       "      <td>0.375</td>\n",
       "      <td>0.5</td>\n",
       "      <td>happy</td>\n",
       "      <td>meaningful</td>\n",
       "    </tr>\n",
       "    <tr>\n",
       "      <th>2017-01-20 11:12:24</th>\n",
       "      <td>RT @_ReMona: Them: Donald Trump is our preside...</td>\n",
       "      <td>en</td>\n",
       "      <td>True</td>\n",
       "      <td>False</td>\n",
       "      <td>0.000</td>\n",
       "      <td>0.0</td>\n",
       "      <td>neutral</td>\n",
       "      <td>meaningful</td>\n",
       "    </tr>\n",
       "    <tr>\n",
       "      <th>2017-01-20 11:12:24</th>\n",
       "      <td>RT @robreiner: Upon Donald Trump's swearing in...</td>\n",
       "      <td>en</td>\n",
       "      <td>True</td>\n",
       "      <td>False</td>\n",
       "      <td>0.500</td>\n",
       "      <td>0.5</td>\n",
       "      <td>happy</td>\n",
       "      <td>meaningful</td>\n",
       "    </tr>\n",
       "  </tbody>\n",
       "</table>\n",
       "</div>"
      ],
      "text/plain": [
       "                                                                  text lang  \\\n",
       "created_at                                                                    \n",
       "2017-01-20 11:12:24  RT @TheDairylandDon: Respect for Trump is best...   en   \n",
       "2017-01-20 11:12:24  RT @TerryMoran: Trump says no POTUS ever had i...   en   \n",
       "2017-01-20 11:12:24  RT @Impeach_D_Trump: Hey Donald Trump @realDon...   en   \n",
       "2017-01-20 11:12:24  RT @_ReMona: Them: Donald Trump is our preside...   en   \n",
       "2017-01-20 11:12:24  RT @robreiner: Upon Donald Trump's swearing in...   en   \n",
       "\n",
       "                    trump hillary  polarity  subjectivity polaritytext  \\\n",
       "created_at                                                               \n",
       "2017-01-20 11:12:24  True   False     1.000           0.3        happy   \n",
       "2017-01-20 11:12:24  True   False     0.000           0.0      neutral   \n",
       "2017-01-20 11:12:24  True   False     0.375           0.5        happy   \n",
       "2017-01-20 11:12:24  True   False     0.000           0.0      neutral   \n",
       "2017-01-20 11:12:24  True   False     0.500           0.5        happy   \n",
       "\n",
       "                    subjectivitytext  \n",
       "created_at                            \n",
       "2017-01-20 11:12:24       meaningful  \n",
       "2017-01-20 11:12:24       meaningful  \n",
       "2017-01-20 11:12:24       meaningful  \n",
       "2017-01-20 11:12:24       meaningful  \n",
       "2017-01-20 11:12:24       meaningful  "
      ]
     },
     "execution_count": 517,
     "metadata": {},
     "output_type": "execute_result"
    }
   ],
   "source": [
    "tweets.head()"
   ]
  },
  {
   "cell_type": "code",
   "execution_count": 519,
   "metadata": {
    "collapsed": false,
    "scrolled": true
   },
   "outputs": [
    {
     "data": {
      "text/plain": [
       "<matplotlib.axes._subplots.AxesSubplot at 0x9d83f780>"
      ]
     },
     "execution_count": 519,
     "metadata": {},
     "output_type": "execute_result"
    },
    {
     "data": {
      "image/png": "[encoded data removed]",
      "text/plain": [
       "<matplotlib.figure.Figure at 0xa43fc7f0>"
      ]
     },
     "metadata": {},
     "output_type": "display_data"
    }
   ],
   "source": [
    "# Exploring tweetscounts by each date\n",
    "trumptweetsbydate = tweets.trump.groupby(tweets.index.date).sum()\n",
    "hillarytweetsbydate = tweets.hillary.groupby(tweets.index.date).sum()\n",
    "\n",
    "# Getting a dataframe of both tweets over time\n",
    "pd.concat([trumptweetsbydate, hillarytweetsbydate], axis=1).plot(kind='bar')"
   ]
  },
  {
   "cell_type": "markdown",
   "metadata": {},
   "source": [
    "**Conclusion**\n",
    "\n",
    "Notice, the numbers might not be so meaningful because the reason why a lot of tweets at 28th is that I streamed it at that time. Regardless the main point should be how Trump's tweet exceeds Hillary's Tweets. This highlights how Trump became more popular in his time as the USA president while Hillary is moving out of the overall picture"
   ]
  },
  {
   "cell_type": "markdown",
   "metadata": {},
   "source": [
    "## Sentimental Analysis\n",
    "\n",
    "***Python TextBlob Sentiment Analysis***\n",
    "\n",
    "Sentiment Analysis refers to the process of taking natural language to identify and extract subjective information. You can take text, run it through the TextBlob and the program will spit out if the text is positive, neutral, or negative by analyzing the language used in the text.\n",
    "\n",
    "Sentiment Analysis\t\n",
    "\n",
    "| Text        | Values           | \n",
    "| ------------- |:-------------:|\n",
    "| Polarity      | -0.0875 |\n",
    "| Subjectivity      | 0.575      |\n",
    "| Classification | neg      |\n",
    "| P_Pos | 0.344455873      |\n",
    "| P_Neg | 0.655544127      |\n",
    "\n",
    "***What does that mean?***\n",
    "\n",
    "***Polarity*** - a measure of the negativity, the neutralness, or the positivity of the text\n",
    "\n",
    "***Subjectivity*** - a measure of the subjectiveness of the object. The more it is, the more subjective is the information\n",
    "\n",
    "***Classification*** - either pos or neg indicating if the text is positive or negative\n",
    "To calculate the overall sentiment, we look at the polarity score:"
   ]
  },
  {
   "cell_type": "markdown",
   "metadata": {},
   "source": [
    "## Generating the Polarity and Subjectivity (Sentiment Values)"
   ]
  },
  {
   "cell_type": "code",
   "execution_count": 520,
   "metadata": {
    "collapsed": false,
    "scrolled": true
   },
   "outputs": [
    {
     "data": {
      "text/html": [
       "<div>\n",
       "<table border=\"1\" class=\"dataframe\">\n",
       "  <thead>\n",
       "    <tr style=\"text-align: right;\">\n",
       "      <th></th>\n",
       "      <th>text</th>\n",
       "      <th>lang</th>\n",
       "      <th>trump</th>\n",
       "      <th>hillary</th>\n",
       "      <th>polarity</th>\n",
       "      <th>subjectivity</th>\n",
       "      <th>polaritytext</th>\n",
       "      <th>subjectivitytext</th>\n",
       "    </tr>\n",
       "    <tr>\n",
       "      <th>created_at</th>\n",
       "      <th></th>\n",
       "      <th></th>\n",
       "      <th></th>\n",
       "      <th></th>\n",
       "      <th></th>\n",
       "      <th></th>\n",
       "      <th></th>\n",
       "      <th></th>\n",
       "    </tr>\n",
       "  </thead>\n",
       "  <tbody>\n",
       "    <tr>\n",
       "      <th>2017-01-20 11:12:24</th>\n",
       "      <td>RT @TheDairylandDon: Respect for Trump is best...</td>\n",
       "      <td>en</td>\n",
       "      <td>True</td>\n",
       "      <td>False</td>\n",
       "      <td>1.000</td>\n",
       "      <td>0.3</td>\n",
       "      <td>happy</td>\n",
       "      <td>meaningful</td>\n",
       "    </tr>\n",
       "    <tr>\n",
       "      <th>2017-01-20 11:12:24</th>\n",
       "      <td>RT @TerryMoran: Trump says no POTUS ever had i...</td>\n",
       "      <td>en</td>\n",
       "      <td>True</td>\n",
       "      <td>False</td>\n",
       "      <td>0.000</td>\n",
       "      <td>0.0</td>\n",
       "      <td>neutral</td>\n",
       "      <td>meaningful</td>\n",
       "    </tr>\n",
       "    <tr>\n",
       "      <th>2017-01-20 11:12:24</th>\n",
       "      <td>RT @Impeach_D_Trump: Hey Donald Trump @realDon...</td>\n",
       "      <td>en</td>\n",
       "      <td>True</td>\n",
       "      <td>False</td>\n",
       "      <td>0.375</td>\n",
       "      <td>0.5</td>\n",
       "      <td>happy</td>\n",
       "      <td>meaningful</td>\n",
       "    </tr>\n",
       "    <tr>\n",
       "      <th>2017-01-20 11:12:24</th>\n",
       "      <td>RT @_ReMona: Them: Donald Trump is our preside...</td>\n",
       "      <td>en</td>\n",
       "      <td>True</td>\n",
       "      <td>False</td>\n",
       "      <td>0.000</td>\n",
       "      <td>0.0</td>\n",
       "      <td>neutral</td>\n",
       "      <td>meaningful</td>\n",
       "    </tr>\n",
       "    <tr>\n",
       "      <th>2017-01-20 11:12:24</th>\n",
       "      <td>RT @robreiner: Upon Donald Trump's swearing in...</td>\n",
       "      <td>en</td>\n",
       "      <td>True</td>\n",
       "      <td>False</td>\n",
       "      <td>0.500</td>\n",
       "      <td>0.5</td>\n",
       "      <td>happy</td>\n",
       "      <td>meaningful</td>\n",
       "    </tr>\n",
       "  </tbody>\n",
       "</table>\n",
       "</div>"
      ],
      "text/plain": [
       "                                                                  text lang  \\\n",
       "created_at                                                                    \n",
       "2017-01-20 11:12:24  RT @TheDairylandDon: Respect for Trump is best...   en   \n",
       "2017-01-20 11:12:24  RT @TerryMoran: Trump says no POTUS ever had i...   en   \n",
       "2017-01-20 11:12:24  RT @Impeach_D_Trump: Hey Donald Trump @realDon...   en   \n",
       "2017-01-20 11:12:24  RT @_ReMona: Them: Donald Trump is our preside...   en   \n",
       "2017-01-20 11:12:24  RT @robreiner: Upon Donald Trump's swearing in...   en   \n",
       "\n",
       "                    trump hillary  polarity  subjectivity polaritytext  \\\n",
       "created_at                                                               \n",
       "2017-01-20 11:12:24  True   False     1.000           0.3        happy   \n",
       "2017-01-20 11:12:24  True   False     0.000           0.0      neutral   \n",
       "2017-01-20 11:12:24  True   False     0.375           0.5        happy   \n",
       "2017-01-20 11:12:24  True   False     0.000           0.0      neutral   \n",
       "2017-01-20 11:12:24  True   False     0.500           0.5        happy   \n",
       "\n",
       "                    subjectivitytext  \n",
       "created_at                            \n",
       "2017-01-20 11:12:24       meaningful  \n",
       "2017-01-20 11:12:24       meaningful  \n",
       "2017-01-20 11:12:24       meaningful  \n",
       "2017-01-20 11:12:24       meaningful  \n",
       "2017-01-20 11:12:24       meaningful  "
      ]
     },
     "execution_count": 520,
     "metadata": {},
     "output_type": "execute_result"
    }
   ],
   "source": [
    "# Importing TextBlob from textblob to find polarity\n",
    "from textblob import TextBlob\n",
    "\n",
    "def find_polarity(tweet):\n",
    "    return TextBlob(tweet).polarity\n",
    "    \n",
    "def find_subjectivity(tweet):\n",
    "    return TextBlob(tweet).subjectivity\n",
    "\n",
    "# Applying textblob to each tweets text\n",
    "tweets['polarity'] = tweets['text'].apply(lambda tweet:find_polarity(tweet))\n",
    "tweets['subjectivity'] = tweets['text'].apply(lambda tweet:find_subjectivity(tweet))\n",
    "tweets.head()"
   ]
  },
  {
   "cell_type": "markdown",
   "metadata": {},
   "source": [
    "Transforming Polarity and Subjectivity to Sentiment Analysis"
   ]
  },
  {
   "cell_type": "code",
   "execution_count": 521,
   "metadata": {
    "collapsed": false,
    "scrolled": true
   },
   "outputs": [
    {
     "data": {
      "text/html": [
       "<div>\n",
       "<table border=\"1\" class=\"dataframe\">\n",
       "  <thead>\n",
       "    <tr style=\"text-align: right;\">\n",
       "      <th></th>\n",
       "      <th>polarity</th>\n",
       "      <th>subjectivity</th>\n",
       "    </tr>\n",
       "  </thead>\n",
       "  <tbody>\n",
       "    <tr>\n",
       "      <th>count</th>\n",
       "      <td>40458.000000</td>\n",
       "      <td>40458.000000</td>\n",
       "    </tr>\n",
       "    <tr>\n",
       "      <th>mean</th>\n",
       "      <td>0.025619</td>\n",
       "      <td>0.277450</td>\n",
       "    </tr>\n",
       "    <tr>\n",
       "      <th>std</th>\n",
       "      <td>0.267783</td>\n",
       "      <td>0.330499</td>\n",
       "    </tr>\n",
       "    <tr>\n",
       "      <th>min</th>\n",
       "      <td>-1.000000</td>\n",
       "      <td>0.000000</td>\n",
       "    </tr>\n",
       "    <tr>\n",
       "      <th>25%</th>\n",
       "      <td>0.000000</td>\n",
       "      <td>0.000000</td>\n",
       "    </tr>\n",
       "    <tr>\n",
       "      <th>50%</th>\n",
       "      <td>0.000000</td>\n",
       "      <td>0.100000</td>\n",
       "    </tr>\n",
       "    <tr>\n",
       "      <th>75%</th>\n",
       "      <td>0.087500</td>\n",
       "      <td>0.500000</td>\n",
       "    </tr>\n",
       "    <tr>\n",
       "      <th>max</th>\n",
       "      <td>1.000000</td>\n",
       "      <td>1.000000</td>\n",
       "    </tr>\n",
       "  </tbody>\n",
       "</table>\n",
       "</div>"
      ],
      "text/plain": [
       "           polarity  subjectivity\n",
       "count  40458.000000  40458.000000\n",
       "mean       0.025619      0.277450\n",
       "std        0.267783      0.330499\n",
       "min       -1.000000      0.000000\n",
       "25%        0.000000      0.000000\n",
       "50%        0.000000      0.100000\n",
       "75%        0.087500      0.500000\n",
       "max        1.000000      1.000000"
      ]
     },
     "execution_count": 521,
     "metadata": {},
     "output_type": "execute_result"
    }
   ],
   "source": [
    "tweets.describe()"
   ]
  },
  {
   "cell_type": "markdown",
   "metadata": {},
   "source": [
    "## Categorizing satisfactions based on polarity"
   ]
  },
  {
   "cell_type": "code",
   "execution_count": 522,
   "metadata": {
    "collapsed": true
   },
   "outputs": [],
   "source": [
    "# Determining if they a comment is satisfied or not satisfied\n",
    "tweets['polaritytext'] =  pd.cut(tweets.polarity, 3,labels=[\"unhappy\",\"neutral\",\"happy\"])\n",
    "tweets['subjectivitytext'] =  pd.cut(tweets.subjectivity, 2,labels=[\"meaningful\",\"subjective\"])"
   ]
  },
  {
   "cell_type": "markdown",
   "metadata": {},
   "source": [
    "Next step\n",
    "Timeline of satisfied and subjective reports and run more data"
   ]
  },
  {
   "cell_type": "code",
   "execution_count": 523,
   "metadata": {
    "collapsed": false,
    "scrolled": true
   },
   "outputs": [
    {
     "data": {
      "text/html": [
       "<div>\n",
       "<table border=\"1\" class=\"dataframe\">\n",
       "  <thead>\n",
       "    <tr style=\"text-align: right;\">\n",
       "      <th></th>\n",
       "      <th>text</th>\n",
       "      <th>lang</th>\n",
       "      <th>trump</th>\n",
       "      <th>hillary</th>\n",
       "      <th>polarity</th>\n",
       "      <th>subjectivity</th>\n",
       "      <th>polaritytext</th>\n",
       "      <th>subjectivitytext</th>\n",
       "    </tr>\n",
       "    <tr>\n",
       "      <th>created_at</th>\n",
       "      <th></th>\n",
       "      <th></th>\n",
       "      <th></th>\n",
       "      <th></th>\n",
       "      <th></th>\n",
       "      <th></th>\n",
       "      <th></th>\n",
       "      <th></th>\n",
       "    </tr>\n",
       "  </thead>\n",
       "  <tbody>\n",
       "    <tr>\n",
       "      <th>2017-01-20 11:12:24</th>\n",
       "      <td>RT @TheDairylandDon: Respect for Trump is best...</td>\n",
       "      <td>en</td>\n",
       "      <td>True</td>\n",
       "      <td>False</td>\n",
       "      <td>1.000</td>\n",
       "      <td>0.3</td>\n",
       "      <td>happy</td>\n",
       "      <td>meaningful</td>\n",
       "    </tr>\n",
       "    <tr>\n",
       "      <th>2017-01-20 11:12:24</th>\n",
       "      <td>RT @TerryMoran: Trump says no POTUS ever had i...</td>\n",
       "      <td>en</td>\n",
       "      <td>True</td>\n",
       "      <td>False</td>\n",
       "      <td>0.000</td>\n",
       "      <td>0.0</td>\n",
       "      <td>neutral</td>\n",
       "      <td>meaningful</td>\n",
       "    </tr>\n",
       "    <tr>\n",
       "      <th>2017-01-20 11:12:24</th>\n",
       "      <td>RT @Impeach_D_Trump: Hey Donald Trump @realDon...</td>\n",
       "      <td>en</td>\n",
       "      <td>True</td>\n",
       "      <td>False</td>\n",
       "      <td>0.375</td>\n",
       "      <td>0.5</td>\n",
       "      <td>happy</td>\n",
       "      <td>meaningful</td>\n",
       "    </tr>\n",
       "    <tr>\n",
       "      <th>2017-01-20 11:12:24</th>\n",
       "      <td>RT @_ReMona: Them: Donald Trump is our preside...</td>\n",
       "      <td>en</td>\n",
       "      <td>True</td>\n",
       "      <td>False</td>\n",
       "      <td>0.000</td>\n",
       "      <td>0.0</td>\n",
       "      <td>neutral</td>\n",
       "      <td>meaningful</td>\n",
       "    </tr>\n",
       "    <tr>\n",
       "      <th>2017-01-20 11:12:24</th>\n",
       "      <td>RT @robreiner: Upon Donald Trump's swearing in...</td>\n",
       "      <td>en</td>\n",
       "      <td>True</td>\n",
       "      <td>False</td>\n",
       "      <td>0.500</td>\n",
       "      <td>0.5</td>\n",
       "      <td>happy</td>\n",
       "      <td>meaningful</td>\n",
       "    </tr>\n",
       "  </tbody>\n",
       "</table>\n",
       "</div>"
      ],
      "text/plain": [
       "                                                                  text lang  \\\n",
       "created_at                                                                    \n",
       "2017-01-20 11:12:24  RT @TheDairylandDon: Respect for Trump is best...   en   \n",
       "2017-01-20 11:12:24  RT @TerryMoran: Trump says no POTUS ever had i...   en   \n",
       "2017-01-20 11:12:24  RT @Impeach_D_Trump: Hey Donald Trump @realDon...   en   \n",
       "2017-01-20 11:12:24  RT @_ReMona: Them: Donald Trump is our preside...   en   \n",
       "2017-01-20 11:12:24  RT @robreiner: Upon Donald Trump's swearing in...   en   \n",
       "\n",
       "                    trump hillary  polarity  subjectivity polaritytext  \\\n",
       "created_at                                                               \n",
       "2017-01-20 11:12:24  True   False     1.000           0.3        happy   \n",
       "2017-01-20 11:12:24  True   False     0.000           0.0      neutral   \n",
       "2017-01-20 11:12:24  True   False     0.375           0.5        happy   \n",
       "2017-01-20 11:12:24  True   False     0.000           0.0      neutral   \n",
       "2017-01-20 11:12:24  True   False     0.500           0.5        happy   \n",
       "\n",
       "                    subjectivitytext  \n",
       "created_at                            \n",
       "2017-01-20 11:12:24       meaningful  \n",
       "2017-01-20 11:12:24       meaningful  \n",
       "2017-01-20 11:12:24       meaningful  \n",
       "2017-01-20 11:12:24       meaningful  \n",
       "2017-01-20 11:12:24       meaningful  "
      ]
     },
     "execution_count": 523,
     "metadata": {},
     "output_type": "execute_result"
    }
   ],
   "source": [
    "# Getting the result of the polarity\n",
    "tweets.head()"
   ]
  },
  {
   "cell_type": "markdown",
   "metadata": {},
   "source": [
    "## Plotting out the sentimental analysis"
   ]
  },
  {
   "cell_type": "code",
   "execution_count": 524,
   "metadata": {
    "collapsed": false
   },
   "outputs": [],
   "source": [
    "# Separating TrumpTweets and HillaryTweets\n",
    "trumptweets = tweets[tweets.trump==True]\n",
    "hillarytweets = tweets[tweets.hillary == True]"
   ]
  },
  {
   "cell_type": "code",
   "execution_count": 525,
   "metadata": {
    "collapsed": false
   },
   "outputs": [
    {
     "name": "stdout",
     "output_type": "stream",
     "text": [
      "         trump  hillary\n",
      "happy     3281       99\n",
      "neutral  25950      637\n",
      "unhappy   2300      106\n",
      "            trump  hillary\n",
      "meaningful  24333      595\n",
      "subjective   7198      247\n"
     ]
    }
   ],
   "source": [
    "# Polarity analysis\n",
    "trumppolaritycnt = trumptweets['polaritytext'].value_counts().rename(\"trump\")\n",
    "hillarypolaritycnt = hillarytweets['polaritytext'].value_counts().rename(\"hillary\")\n",
    "\n",
    "presidentialpolaritycnt = pd.concat([trumppolaritycnt, hillarypolaritycnt], axis=1)\n",
    "print(presidentialpolaritycnt)\n",
    "\n",
    "\n",
    "# SubjectivityAnalysis\n",
    "trumpsubjectivitycnt = trumptweets['subjectivitytext'].value_counts().rename(\"trump\")\n",
    "hillarysubjectivitycnt = hillarytweets['subjectivitytext'].value_counts().rename(\"hillary\")\n",
    "\n",
    "presidentialsubjectivitycnt = pd.concat([trumpsubjectivitycnt, hillarysubjectivitycnt], axis=1)\n",
    "print(presidentialsubjectivitycnt)\n"
   ]
  },
  {
   "cell_type": "code",
   "execution_count": 526,
   "metadata": {
    "collapsed": false
   },
   "outputs": [
    {
     "data": {
      "text/html": [
       "<div>\n",
       "<table border=\"1\" class=\"dataframe\">\n",
       "  <thead>\n",
       "    <tr style=\"text-align: right;\">\n",
       "      <th></th>\n",
       "      <th>trump</th>\n",
       "      <th>hillary</th>\n",
       "      <th>trumpratio</th>\n",
       "      <th>hillaryratio</th>\n",
       "    </tr>\n",
       "  </thead>\n",
       "  <tbody>\n",
       "    <tr>\n",
       "      <th>happy</th>\n",
       "      <td>3281</td>\n",
       "      <td>99</td>\n",
       "      <td>0.104056</td>\n",
       "      <td>0.117577</td>\n",
       "    </tr>\n",
       "    <tr>\n",
       "      <th>neutral</th>\n",
       "      <td>25950</td>\n",
       "      <td>637</td>\n",
       "      <td>0.823000</td>\n",
       "      <td>0.756532</td>\n",
       "    </tr>\n",
       "    <tr>\n",
       "      <th>unhappy</th>\n",
       "      <td>2300</td>\n",
       "      <td>106</td>\n",
       "      <td>0.072944</td>\n",
       "      <td>0.125891</td>\n",
       "    </tr>\n",
       "  </tbody>\n",
       "</table>\n",
       "</div>"
      ],
      "text/plain": [
       "         trump  hillary  trumpratio  hillaryratio\n",
       "happy     3281       99    0.104056      0.117577\n",
       "neutral  25950      637    0.823000      0.756532\n",
       "unhappy   2300      106    0.072944      0.125891"
      ]
     },
     "execution_count": 526,
     "metadata": {},
     "output_type": "execute_result"
    }
   ],
   "source": [
    "# Polarity Ratio Count\n",
    "presidentialpolaritycnt['trumpratio'] = presidentialpolaritycnt.trump/presidentialpolaritycnt.trump.sum()\n",
    "presidentialpolaritycnt['hillaryratio'] = presidentialpolaritycnt.hillary/presidentialpolaritycnt.hillary.sum()\n",
    "\n",
    "presidentialpolaritycnt"
   ]
  },
  {
   "cell_type": "code",
   "execution_count": 527,
   "metadata": {
    "collapsed": false
   },
   "outputs": [
    {
     "data": {
      "text/plain": [
       "<matplotlib.axes._subplots.AxesSubplot at 0x4ae47e48>"
      ]
     },
     "execution_count": 527,
     "metadata": {},
     "output_type": "execute_result"
    },
    {
     "data": {
      "image/png": "[encoded data removed]",
      "text/plain": [
       "<matplotlib.figure.Figure at 0xa43fc898>"
      ]
     },
     "metadata": {},
     "output_type": "display_data"
    }
   ],
   "source": [
    "# Plotting the polarity\n",
    "presidentialpolaritycnt.loc[:,'trumpratio':'hillaryratio'].T.plot(kind='bar',stacked=True,rot=1)"
   ]
  },
  {
   "cell_type": "code",
   "execution_count": 528,
   "metadata": {
    "collapsed": false
   },
   "outputs": [
    {
     "data": {
      "text/html": [
       "<div>\n",
       "<table border=\"1\" class=\"dataframe\">\n",
       "  <thead>\n",
       "    <tr style=\"text-align: right;\">\n",
       "      <th></th>\n",
       "      <th>trump</th>\n",
       "      <th>hillary</th>\n",
       "      <th>trumpratio</th>\n",
       "      <th>hillaryratio</th>\n",
       "    </tr>\n",
       "  </thead>\n",
       "  <tbody>\n",
       "    <tr>\n",
       "      <th>meaningful</th>\n",
       "      <td>24333</td>\n",
       "      <td>595</td>\n",
       "      <td>0.771717</td>\n",
       "      <td>0.706651</td>\n",
       "    </tr>\n",
       "    <tr>\n",
       "      <th>subjective</th>\n",
       "      <td>7198</td>\n",
       "      <td>247</td>\n",
       "      <td>0.228283</td>\n",
       "      <td>0.293349</td>\n",
       "    </tr>\n",
       "  </tbody>\n",
       "</table>\n",
       "</div>"
      ],
      "text/plain": [
       "            trump  hillary  trumpratio  hillaryratio\n",
       "meaningful  24333      595    0.771717      0.706651\n",
       "subjective   7198      247    0.228283      0.293349"
      ]
     },
     "execution_count": 528,
     "metadata": {},
     "output_type": "execute_result"
    }
   ],
   "source": [
    "# Subjectivity Ratio Count\n",
    "\n",
    "presidentialsubjectivitycnt['trumpratio'] = presidentialsubjectivitycnt.trump/presidentialsubjectivitycnt.trump.sum()\n",
    "presidentialsubjectivitycnt['hillaryratio'] = presidentialsubjectivitycnt.hillary/presidentialsubjectivitycnt.hillary.sum()\n",
    "\n",
    "presidentialsubjectivitycnt"
   ]
  },
  {
   "cell_type": "code",
   "execution_count": 529,
   "metadata": {
    "collapsed": false,
    "scrolled": true
   },
   "outputs": [
    {
     "data": {
      "text/plain": [
       "<matplotlib.axes._subplots.AxesSubplot at 0xa485c710>"
      ]
     },
     "execution_count": 529,
     "metadata": {},
     "output_type": "execute_result"
    },
    {
     "data": {
      "image/png": "[encoded data removed]",
      "text/plain": [
       "<matplotlib.figure.Figure at 0xa47241d0>"
      ]
     },
     "metadata": {},
     "output_type": "display_data"
    }
   ],
   "source": [
    "# Plotting the subjectivity\n",
    "presidentialsubjectivitycnt.loc[:,'trumpratio':'hillaryratio'].T.plot(kind='bar',stacked=True)"
   ]
  },
  {
   "cell_type": "markdown",
   "metadata": {},
   "source": [
    "**Conclusion**\n",
    "\n",
    "Although Trump has released many controversial/outrageous policies and promised. The overall sentiments are happy to regard Trump in their tweets. There are also many meaningful/informative remarks about Trump in overall tweet sentiments. Probably because of analysts and news that have been increasingly commenting on Trump's policies. "
   ]
  },
  {
   "cell_type": "markdown",
   "metadata": {},
   "source": [
    "## Plotting Out Sentimental Analysis Timeline"
   ]
  },
  {
   "cell_type": "code",
   "execution_count": 542,
   "metadata": {
    "collapsed": false
   },
   "outputs": [
    {
     "data": {
      "text/plain": [
       "<matplotlib.axes._subplots.AxesSubplot at 0xa4976c88>"
      ]
     },
     "execution_count": 542,
     "metadata": {},
     "output_type": "execute_result"
    },
    {
     "data": {
      "image/png": "[encoded data removed]",
      "text/plain": [
       "<matplotlib.figure.Figure at 0xa63e9f98>"
      ]
     },
     "metadata": {},
     "output_type": "display_data"
    }
   ],
   "source": [
    "# Counting polarity text by day to day basis\n",
    "trumppolaritydaycnt=trumptweets.groupby([trumptweets.index.date,\"polaritytext\"]).count().text\n",
    "hillarypolaritydaycnt=hillarytweets.groupby([hillarytweets.index.date,\"polaritytext\"]).count().text\n",
    "\n",
    "trumppolaritydaycnt.unstack(level=0).T.plot(kind='bar')"
   ]
  },
  {
   "cell_type": "markdown",
   "metadata": {},
   "source": [
    "**Conclusion**\n",
    "\n",
    "Again, the numbers might not be so meaningful because the reason why a lot of tweets at 28th is that I streamed it at that time. Regardless the main point should be how good or bad Trump is regarded over the time (probably in timeline format). This would be visible once there are longer twitter streaming data available."
   ]
  },
  {
   "cell_type": "markdown",
   "metadata": {},
   "source": [
    "## How about the news media. How often do they mention the election candidates?"
   ]
  },
  {
   "cell_type": "code",
   "execution_count": 531,
   "metadata": {
    "collapsed": false
   },
   "outputs": [
    {
     "data": {
      "text/html": [
       "<div>\n",
       "<table border=\"1\" class=\"dataframe\">\n",
       "  <thead>\n",
       "    <tr style=\"text-align: right;\">\n",
       "      <th></th>\n",
       "      <th>text</th>\n",
       "      <th>lang</th>\n",
       "      <th>trump</th>\n",
       "      <th>hillary</th>\n",
       "      <th>polarity</th>\n",
       "      <th>subjectivity</th>\n",
       "      <th>polaritytext</th>\n",
       "      <th>subjectivitytext</th>\n",
       "      <th>newssource</th>\n",
       "    </tr>\n",
       "    <tr>\n",
       "      <th>created_at</th>\n",
       "      <th></th>\n",
       "      <th></th>\n",
       "      <th></th>\n",
       "      <th></th>\n",
       "      <th></th>\n",
       "      <th></th>\n",
       "      <th></th>\n",
       "      <th></th>\n",
       "      <th></th>\n",
       "    </tr>\n",
       "  </thead>\n",
       "  <tbody>\n",
       "    <tr>\n",
       "      <th>2017-01-20 11:12:24</th>\n",
       "      <td>RT @TheDairylandDon: Respect for Trump is best...</td>\n",
       "      <td>en</td>\n",
       "      <td>True</td>\n",
       "      <td>False</td>\n",
       "      <td>1.000</td>\n",
       "      <td>0.3</td>\n",
       "      <td>happy</td>\n",
       "      <td>meaningful</td>\n",
       "      <td>unidentified</td>\n",
       "    </tr>\n",
       "    <tr>\n",
       "      <th>2017-01-20 11:12:24</th>\n",
       "      <td>RT @TerryMoran: Trump says no POTUS ever had i...</td>\n",
       "      <td>en</td>\n",
       "      <td>True</td>\n",
       "      <td>False</td>\n",
       "      <td>0.000</td>\n",
       "      <td>0.0</td>\n",
       "      <td>neutral</td>\n",
       "      <td>meaningful</td>\n",
       "      <td>unidentified</td>\n",
       "    </tr>\n",
       "    <tr>\n",
       "      <th>2017-01-20 11:12:24</th>\n",
       "      <td>RT @Impeach_D_Trump: Hey Donald Trump @realDon...</td>\n",
       "      <td>en</td>\n",
       "      <td>True</td>\n",
       "      <td>False</td>\n",
       "      <td>0.375</td>\n",
       "      <td>0.5</td>\n",
       "      <td>happy</td>\n",
       "      <td>meaningful</td>\n",
       "      <td>unidentified</td>\n",
       "    </tr>\n",
       "    <tr>\n",
       "      <th>2017-01-20 11:12:24</th>\n",
       "      <td>RT @_ReMona: Them: Donald Trump is our preside...</td>\n",
       "      <td>en</td>\n",
       "      <td>True</td>\n",
       "      <td>False</td>\n",
       "      <td>0.000</td>\n",
       "      <td>0.0</td>\n",
       "      <td>neutral</td>\n",
       "      <td>meaningful</td>\n",
       "      <td>unidentified</td>\n",
       "    </tr>\n",
       "    <tr>\n",
       "      <th>2017-01-20 11:12:24</th>\n",
       "      <td>RT @robreiner: Upon Donald Trump's swearing in...</td>\n",
       "      <td>en</td>\n",
       "      <td>True</td>\n",
       "      <td>False</td>\n",
       "      <td>0.500</td>\n",
       "      <td>0.5</td>\n",
       "      <td>happy</td>\n",
       "      <td>meaningful</td>\n",
       "      <td>unidentified</td>\n",
       "    </tr>\n",
       "  </tbody>\n",
       "</table>\n",
       "</div>"
      ],
      "text/plain": [
       "                                                                  text lang  \\\n",
       "created_at                                                                    \n",
       "2017-01-20 11:12:24  RT @TheDairylandDon: Respect for Trump is best...   en   \n",
       "2017-01-20 11:12:24  RT @TerryMoran: Trump says no POTUS ever had i...   en   \n",
       "2017-01-20 11:12:24  RT @Impeach_D_Trump: Hey Donald Trump @realDon...   en   \n",
       "2017-01-20 11:12:24  RT @_ReMona: Them: Donald Trump is our preside...   en   \n",
       "2017-01-20 11:12:24  RT @robreiner: Upon Donald Trump's swearing in...   en   \n",
       "\n",
       "                    trump hillary  polarity  subjectivity polaritytext  \\\n",
       "created_at                                                               \n",
       "2017-01-20 11:12:24  True   False     1.000           0.3        happy   \n",
       "2017-01-20 11:12:24  True   False     0.000           0.0      neutral   \n",
       "2017-01-20 11:12:24  True   False     0.375           0.5        happy   \n",
       "2017-01-20 11:12:24  True   False     0.000           0.0      neutral   \n",
       "2017-01-20 11:12:24  True   False     0.500           0.5        happy   \n",
       "\n",
       "                    subjectivitytext    newssource  \n",
       "created_at                                          \n",
       "2017-01-20 11:12:24       meaningful  unidentified  \n",
       "2017-01-20 11:12:24       meaningful  unidentified  \n",
       "2017-01-20 11:12:24       meaningful  unidentified  \n",
       "2017-01-20 11:12:24       meaningful  unidentified  \n",
       "2017-01-20 11:12:24       meaningful  unidentified  "
      ]
     },
     "execution_count": 531,
     "metadata": {},
     "output_type": "execute_result"
    }
   ],
   "source": [
    "# Identifying new column and newslist to scrape based on current tweets data\n",
    "tweets[\"newssource\"] = \"unidentified\"\n",
    "newslist=['nytimes','foxnews','cnn','nbc']\n",
    "\n",
    "# Looping through each news and give news sources\n",
    "for news in newslist:\n",
    "    tweets.ix[tweets.text.str.contains(\"@\"+news), 'newssource'] = news\n",
    "\n",
    "tweets.head()    "
   ]
  },
  {
   "cell_type": "code",
   "execution_count": 532,
   "metadata": {
    "collapsed": false
   },
   "outputs": [
    {
     "data": {
      "text/plain": [
       "<matplotlib.axes._subplots.AxesSubplot at 0xa4c50240>"
      ]
     },
     "execution_count": 532,
     "metadata": {},
     "output_type": "execute_result"
    },
    {
     "data": {
      "image/png": "[encoded data removed]",
      "text/plain": [
       "<matplotlib.figure.Figure at 0xa4ea7710>"
      ]
     },
     "metadata": {},
     "output_type": "display_data"
    }
   ],
   "source": [
    "# Creating figure of pyplot to put graph side by side\n",
    "fig, axs = plt.subplots(1,2)\n",
    "fig.set_size_inches(16, 4)\n",
    "\n",
    "# Getting polarity text analysis based on tweetsnews\n",
    "trumptweetsnews = tweets[(tweets.trump == True) & (tweets.newssource!=\"unidentified\")]\n",
    "hillarytweetsnews = tweets[(tweets.hillary == True) & (tweets.newssource!=\"unidentified\")]\n",
    "\n",
    "trumptweetsnewscnt = trumptweetsnews.groupby([\"newssource\",\"polaritytext\"]).text.count()\n",
    "trumptweetsnewscnt.unstack(level=0).T.plot(kind='bar',stacked=True,rot=1,title=\"Trump news tweet\",ax=axs[0])\n",
    "\n",
    "hillarytweetsnewscnt = hillarytweetsnews.groupby([\"newssource\",\"polaritytext\"]).text.count()\n",
    "hillarytweetsnewscnt.unstack(level=0).T.plot(kind='bar',stacked=True,rot=1,title=\"Hillary news tweet\",ax=axs[1])"
   ]
  },
  {
   "cell_type": "markdown",
   "metadata": {},
   "source": [
    "**Conclusion**\n",
    "\n",
    "NYtimes and CNN mentioned about Trump a lot of times compared to other major news. Furthermore, NYTimes are more frequently seen to regard Trump in an unsatisfied way. This is probably the director who feeds on Trump's brash comments to attract more publicity. Regardless it is quite interesting that despite nytimes mentioning Trump so many times, Trump is still views in a decent manner among the Twitter users."
   ]
  },
  {
   "cell_type": "markdown",
   "metadata": {},
   "source": [
    "# Topic extractions\n",
    "This section illustrates how to do approximate topic modeling in Python. We will use a technique called non-negative matrix factorization (NMF) that strongly resembles Latent Dirichlet Allocation (LDA) which is used to find extract topics from bags of words (list of words)"
   ]
  },
  {
   "cell_type": "markdown",
   "metadata": {},
   "source": [
    "## Preparing data for topic extractions by making texts into bags of words"
   ]
  },
  {
   "cell_type": "code",
   "execution_count": 533,
   "metadata": {
    "collapsed": false
   },
   "outputs": [
    {
     "data": {
      "text/html": [
       "<div>\n",
       "<table border=\"1\" class=\"dataframe\">\n",
       "  <thead>\n",
       "    <tr style=\"text-align: right;\">\n",
       "      <th></th>\n",
       "      <th>text</th>\n",
       "      <th>lang</th>\n",
       "      <th>trump</th>\n",
       "      <th>hillary</th>\n",
       "      <th>polarity</th>\n",
       "      <th>subjectivity</th>\n",
       "      <th>polaritytext</th>\n",
       "      <th>subjectivitytext</th>\n",
       "      <th>newssource</th>\n",
       "    </tr>\n",
       "    <tr>\n",
       "      <th>created_at</th>\n",
       "      <th></th>\n",
       "      <th></th>\n",
       "      <th></th>\n",
       "      <th></th>\n",
       "      <th></th>\n",
       "      <th></th>\n",
       "      <th></th>\n",
       "      <th></th>\n",
       "      <th></th>\n",
       "    </tr>\n",
       "  </thead>\n",
       "  <tbody>\n",
       "    <tr>\n",
       "      <th>2017-01-20 11:12:24</th>\n",
       "      <td>RT @TheDairylandDon: Respect for Trump is best...</td>\n",
       "      <td>en</td>\n",
       "      <td>True</td>\n",
       "      <td>False</td>\n",
       "      <td>1.000</td>\n",
       "      <td>0.3</td>\n",
       "      <td>happy</td>\n",
       "      <td>meaningful</td>\n",
       "      <td>unidentified</td>\n",
       "    </tr>\n",
       "    <tr>\n",
       "      <th>2017-01-20 11:12:24</th>\n",
       "      <td>RT @TerryMoran: Trump says no POTUS ever had i...</td>\n",
       "      <td>en</td>\n",
       "      <td>True</td>\n",
       "      <td>False</td>\n",
       "      <td>0.000</td>\n",
       "      <td>0.0</td>\n",
       "      <td>neutral</td>\n",
       "      <td>meaningful</td>\n",
       "      <td>unidentified</td>\n",
       "    </tr>\n",
       "    <tr>\n",
       "      <th>2017-01-20 11:12:24</th>\n",
       "      <td>RT @Impeach_D_Trump: Hey Donald Trump @realDon...</td>\n",
       "      <td>en</td>\n",
       "      <td>True</td>\n",
       "      <td>False</td>\n",
       "      <td>0.375</td>\n",
       "      <td>0.5</td>\n",
       "      <td>happy</td>\n",
       "      <td>meaningful</td>\n",
       "      <td>unidentified</td>\n",
       "    </tr>\n",
       "    <tr>\n",
       "      <th>2017-01-20 11:12:24</th>\n",
       "      <td>RT @_ReMona: Them: Donald Trump is our preside...</td>\n",
       "      <td>en</td>\n",
       "      <td>True</td>\n",
       "      <td>False</td>\n",
       "      <td>0.000</td>\n",
       "      <td>0.0</td>\n",
       "      <td>neutral</td>\n",
       "      <td>meaningful</td>\n",
       "      <td>unidentified</td>\n",
       "    </tr>\n",
       "    <tr>\n",
       "      <th>2017-01-20 11:12:24</th>\n",
       "      <td>RT @robreiner: Upon Donald Trump's swearing in...</td>\n",
       "      <td>en</td>\n",
       "      <td>True</td>\n",
       "      <td>False</td>\n",
       "      <td>0.500</td>\n",
       "      <td>0.5</td>\n",
       "      <td>happy</td>\n",
       "      <td>meaningful</td>\n",
       "      <td>unidentified</td>\n",
       "    </tr>\n",
       "  </tbody>\n",
       "</table>\n",
       "</div>"
      ],
      "text/plain": [
       "                                                                  text lang  \\\n",
       "created_at                                                                    \n",
       "2017-01-20 11:12:24  RT @TheDairylandDon: Respect for Trump is best...   en   \n",
       "2017-01-20 11:12:24  RT @TerryMoran: Trump says no POTUS ever had i...   en   \n",
       "2017-01-20 11:12:24  RT @Impeach_D_Trump: Hey Donald Trump @realDon...   en   \n",
       "2017-01-20 11:12:24  RT @_ReMona: Them: Donald Trump is our preside...   en   \n",
       "2017-01-20 11:12:24  RT @robreiner: Upon Donald Trump's swearing in...   en   \n",
       "\n",
       "                    trump hillary  polarity  subjectivity polaritytext  \\\n",
       "created_at                                                               \n",
       "2017-01-20 11:12:24  True   False     1.000           0.3        happy   \n",
       "2017-01-20 11:12:24  True   False     0.000           0.0      neutral   \n",
       "2017-01-20 11:12:24  True   False     0.375           0.5        happy   \n",
       "2017-01-20 11:12:24  True   False     0.000           0.0      neutral   \n",
       "2017-01-20 11:12:24  True   False     0.500           0.5        happy   \n",
       "\n",
       "                    subjectivitytext    newssource  \n",
       "created_at                                          \n",
       "2017-01-20 11:12:24       meaningful  unidentified  \n",
       "2017-01-20 11:12:24       meaningful  unidentified  \n",
       "2017-01-20 11:12:24       meaningful  unidentified  \n",
       "2017-01-20 11:12:24       meaningful  unidentified  \n",
       "2017-01-20 11:12:24       meaningful  unidentified  "
      ]
     },
     "execution_count": 533,
     "metadata": {},
     "output_type": "execute_result"
    }
   ],
   "source": [
    "tweets.head()"
   ]
  },
  {
   "cell_type": "code",
   "execution_count": 534,
   "metadata": {
    "collapsed": false
   },
   "outputs": [
    {
     "name": "stdout",
     "output_type": "stream",
     "text": [
      "created_at\n",
      "2017-01-20 11:12:24    RT @TheDairylandDon: Respect for Trump is best...\n",
      "2017-01-20 11:12:24    RT @TerryMoran: Trump says no POTUS ever had i...\n",
      "2017-01-20 11:12:24    RT @Impeach_D_Trump: Hey Donald Trump @realDon...\n",
      "2017-01-20 11:12:24    RT @_ReMona: Them: Donald Trump is our preside...\n",
      "2017-01-20 11:12:24    RT @robreiner: Upon Donald Trump's swearing in...\n",
      "Name: text, dtype: object\n"
     ]
    }
   ],
   "source": [
    "# Importing necessary model values\n",
    "import numpy as np\n",
    "from sklearn.feature_extraction.text import CountVectorizer\n",
    "\n",
    "# Getting the X_train\n",
    "X_train = tweets.text\n",
    "print(X_train.head())"
   ]
  },
  {
   "cell_type": "code",
   "execution_count": 535,
   "metadata": {
    "collapsed": false
   },
   "outputs": [
    {
     "name": "stdout",
     "output_type": "stream",
     "text": [
      "(40458, 49869)\n",
      "49869\n"
     ]
    }
   ],
   "source": [
    "# tokenize and vectorize the words inside the list of documents/tweets\n",
    "vectorizer = CountVectorizer(stop_words='english')\n",
    "X_train_dtm = vectorizer.fit_transform(X_train)\n",
    "vocab = np.array(vectorizer.get_feature_names())\n",
    "\n",
    "print(X_train_dtm.shape)\n",
    "print(len(vocab))"
   ]
  },
  {
   "cell_type": "markdown",
   "metadata": {},
   "source": [
    "## Generating Decomposition Model to extract topic\n",
    "**By analogy with LDA, we will use NMF to get a document-topic matrix (topics here will also be referred to as “components”) and a list of top words for each topic. We will make analogy clear by using the same variable names: doctopic and topic_words**"
   ]
  },
  {
   "cell_type": "code",
   "execution_count": 536,
   "metadata": {
    "collapsed": false
   },
   "outputs": [],
   "source": [
    "# Using sklearn library to get the necessary LDA model\n",
    "from sklearn import decomposition\n",
    "\n",
    "num_topics = 8\n",
    "num_top_words = 8\n",
    "clf = decomposition.NMF(n_components=num_topics, random_state=1)\n",
    "\n",
    "# this next step may take some time to train depending on the texts you have\n",
    "doctopic = clf.fit_transform(X_train_dtm)\n",
    "# doctopic"
   ]
  },
  {
   "cell_type": "code",
   "execution_count": 537,
   "metadata": {
    "collapsed": false
   },
   "outputs": [],
   "source": [
    "# Getting the dominant topic for each word\n",
    "topic_words = []\n",
    "\n",
    "# Appending top important vocabset list onto topic_words list\n",
    "for topic in clf.components_:\n",
    "    word_idx = np.argsort(topic)[::-1][0:num_top_words]\n",
    "    topic_words.append([vocab[i] for i in word_idx])\n",
    "\n",
    "# topic_words"
   ]
  },
  {
   "cell_type": "code",
   "execution_count": 538,
   "metadata": {
    "collapsed": false
   },
   "outputs": [
    {
     "name": "stdout",
     "output_type": "stream",
     "text": [
      "Topic 0: https cheney dick thehill refugee stand thinks news\n",
      "Topic 1: trump president que en el la wall obama\n",
      "Topic 2: rt people amp going just hillary realdonaldtrump good\n",
      "Topic 3: day holocaust remembrance trump country muslimban signed religion\n",
      "Topic 4: 000 pay years public students send university annual\n",
      "Topic 5: donald trump president just leakdump inauguration berlin mayor\n",
      "Topic 6: ban muslim trump countries joyannreid immigration said cheney\n",
      "Topic 7: order executive trump refugees president 11 amp vetting\n"
     ]
    }
   ],
   "source": [
    "for t in range(len(topic_words)):\n",
    "    print(\"Topic {}: {}\".format(t, ' '.join(topic_words[t][:15])))"
   ]
  },
  {
   "cell_type": "markdown",
   "metadata": {},
   "source": [
    "# Visualizing the topics"
   ]
  },
  {
   "cell_type": "code",
   "execution_count": 539,
   "metadata": {
    "collapsed": false
   },
   "outputs": [
    {
     "name": "stdout",
     "output_type": "stream",
     "text": [
      "(40458, 9)\n",
      "(40458, 10)\n"
     ]
    }
   ],
   "source": [
    "import matplotlib.pyplot as plt\n",
    "\n",
    "# Making DataFrame that gets the doctopic (values of topics for each text)\n",
    "dftopic = pd.DataFrame(doctopic,columns=topic_words)\n",
    "dftopicinv=dftopic.T\n",
    "\n",
    "# Getting the dominant topic\n",
    "topic_series = []\n",
    "for i in np.arange(dftopic.shape[0]):\n",
    "    topic_series.append(dftopicinv[i].argmax())\n",
    "\n",
    "dftopic['dominanttopic'] = topic_series\n",
    "tweets['dominanttopic'] = topic_series\n",
    "\n",
    "print(dftopic.shape)\n",
    "print(tweets.shape)"
   ]
  },
  {
   "cell_type": "code",
   "execution_count": 540,
   "metadata": {
    "collapsed": false
   },
   "outputs": [
    {
     "name": "stdout",
     "output_type": "stream",
     "text": [
      "(https, trump, rt, day, 000, donald, ban, order)                           19784\n",
      "(dick, que, amp, remembrance, years, president, trump, trump)               9169\n",
      "(cheney, president, people, holocaust, pay, trump, muslim, executive)       3297\n",
      "(stand, la, hillary, muslimban, send, inauguration, immigration, 11)        3224\n",
      "(news, obama, good, religion, annual, mayor, cheney, vetting)               2115\n",
      "(thehill, en, going, trump, public, just, countries, refugees)              1281\n",
      "(thinks, wall, realdonaldtrump, signed, university, berlin, said, amp)      1265\n",
      "(refugee, el, just, country, students, leakdump, joyannreid, president)      323\n",
      "Name: dominanttopic, dtype: int64\n"
     ]
    },
    {
     "data": {
      "image/png": "[encoded data removed]",
      "text/plain": [
       "<matplotlib.figure.Figure at 0x9e0fef98>"
      ]
     },
     "metadata": {},
     "output_type": "display_data"
    }
   ],
   "source": [
    "# Getting top dominant topics and count them\n",
    "topic_count =tweets.dominanttopic.value_counts()\n",
    "print(topic_count)\n",
    "\n",
    "# Visualizing dominant topics count\n",
    "\n",
    "#The pie chart is oval by default. To make it a circle use pyplot.axis(\"equal\")\n",
    "plt.axis(\"equal\") \n",
    "\n",
    "#To show the percentage of each pie slice, pass an output format to the autopctparameter \n",
    "plt.pie(value_count.values,labels=value_count.index,autopct=\"%1.1f%%\") \n",
    "plt.title(\"Topics most talked\")\n",
    "plt.show()"
   ]
  },
  {
   "cell_type": "markdown",
   "metadata": {},
   "source": [
    "## Plotting Out Sentimental Analysis Timeline"
   ]
  },
  {
   "cell_type": "code",
   "execution_count": 552,
   "metadata": {
    "collapsed": false
   },
   "outputs": [
    {
     "data": {
      "text/plain": [
       "<matplotlib.axes._subplots.AxesSubplot at 0x9b1596d8>"
      ]
     },
     "execution_count": 552,
     "metadata": {},
     "output_type": "execute_result"
    },
    {
     "data": {
      "image/png": "[encoded data removed]",
      "text/plain": [
       "<matplotlib.figure.Figure at 0xa8ecbf28>"
      ]
     },
     "metadata": {},
     "output_type": "display_data"
    }
   ],
   "source": [
    "topic_time_count =tweets.loc[:,'dominanttopic']\n",
    "topic_time_count\n",
    "# Make a timeline\n",
    "topic_day_count = topic_time_count.groupby([topic_time_count.index.date,topic_time_count.values]).count()\n",
    "topic_day_count.unstack(level=0).T.plot(kind='bar',legend=True,figsize=(15, 7))"
   ]
  },
  {
   "cell_type": "markdown",
   "metadata": {},
   "source": [
    "# Challenges (To Be Continued):\n",
    "* Analysing fake news\n",
    "* Analysing geographic locations sentiments given charts\n",
    "* Applying these techniques for companies, commodities, and stocks"
   ]
  },
  {
   "cell_type": "markdown",
   "metadata": {},
   "source": [
    "# Next lesson:\n",
    "## Lesson 6 Basic Python for Data Analytics (Optimization Model for Operations Management)"
   ]
  }
 ],
 "metadata": {
  "kernelspec": {
   "display_name": "Python 2",
   "language": "python",
   "name": "python2"
  },
  "language_info": {
   "codemirror_mode": {
    "name": "ipython",
    "version": 2
   },
   "file_extension": ".py",
   "mimetype": "text/x-python",
   "name": "python",
   "nbconvert_exporter": "python",
   "pygments_lexer": "ipython2",
   "version": "2.7.11"
  }
 },
 "nbformat": 4,
 "nbformat_minor": 0
}
