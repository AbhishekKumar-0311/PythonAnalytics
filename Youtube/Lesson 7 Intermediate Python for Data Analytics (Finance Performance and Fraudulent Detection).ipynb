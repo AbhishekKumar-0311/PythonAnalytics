{
 "cells": [
  {
   "cell_type": "markdown",
   "metadata": {},
   "source": [
    "# Lesson 7 Intermediate Python for Data Analytics (Finance Performance and Fraudulent Detection)\n",
    "# Introduction\n",
    "\n",
    "\n",
    "## In this lesson we are going to try to scrape financial data:\n",
    "* Income statement\n",
    "* Balance sheet\n",
    "* Cashflows\n",
    "\n",
    "## Objective\n",
    "* To use twippy (Python Library linked with Twitter) to load data from Twitter\n",
    "* Setting up Twitter Developer account linked to profile\n",
    "* Initialize Connections and Extracting the presidential election tweets\n",
    "* To explore Presidential Election Trump vs Hillary from Twitter data\n",
    "    * Viewing the data\n",
    "    * Search Term Analysis\n",
    "    * Exploring Twitter Trends\n",
    "* Sentimental Analysis\n",
    "    * Generating Sentimental Analysis\n",
    "    * Plotting out Sentimental Analysis\n",
    "    * How about the news media. How often do they mention the election candidates?\n",
    "* Topic Analysis\n",
    "    * Generating Topic with LDA\n",
    "    * Plotting out Topic Analysis\n",
    "* Challenges:\n",
    "    * Analysing fake news\n",
    "    * Analysing geographic locations sentiments given charts\n",
    "    * Applying these techniques for companies, commodities, and stocks\n",
    "* Next lesson:\n",
    "    * Lesson 6 Basic Python for Data Analytics (Optimization Model for Operations Management)"
   ]
  },
  {
   "cell_type": "code",
   "execution_count": 1,
   "metadata": {
    "collapsed": false
   },
   "outputs": [
    {
     "data": {
      "text/html": [
       "<div>\n",
       "<table border=\"1\" class=\"dataframe\">\n",
       "  <thead>\n",
       "    <tr style=\"text-align: right;\">\n",
       "      <th></th>\n",
       "      <th>AAPL</th>\n",
       "      <th>GE</th>\n",
       "      <th>GOOG</th>\n",
       "      <th>IBM</th>\n",
       "      <th>MSFT</th>\n",
       "    </tr>\n",
       "    <tr>\n",
       "      <th>Date</th>\n",
       "      <th></th>\n",
       "      <th></th>\n",
       "      <th></th>\n",
       "      <th></th>\n",
       "      <th></th>\n",
       "    </tr>\n",
       "  </thead>\n",
       "  <tbody>\n",
       "    <tr>\n",
       "      <th>2017-06-19</th>\n",
       "      <td>146.34</td>\n",
       "      <td>28.80</td>\n",
       "      <td>957.37</td>\n",
       "      <td>154.84</td>\n",
       "      <td>70.87</td>\n",
       "    </tr>\n",
       "    <tr>\n",
       "      <th>2017-06-20</th>\n",
       "      <td>145.01</td>\n",
       "      <td>28.13</td>\n",
       "      <td>950.63</td>\n",
       "      <td>154.95</td>\n",
       "      <td>69.91</td>\n",
       "    </tr>\n",
       "    <tr>\n",
       "      <th>2017-06-21</th>\n",
       "      <td>145.87</td>\n",
       "      <td>27.78</td>\n",
       "      <td>959.45</td>\n",
       "      <td>153.79</td>\n",
       "      <td>70.27</td>\n",
       "    </tr>\n",
       "    <tr>\n",
       "      <th>2017-06-22</th>\n",
       "      <td>145.63</td>\n",
       "      <td>27.55</td>\n",
       "      <td>957.09</td>\n",
       "      <td>154.40</td>\n",
       "      <td>70.26</td>\n",
       "    </tr>\n",
       "    <tr>\n",
       "      <th>2017-06-23</th>\n",
       "      <td>146.28</td>\n",
       "      <td>27.57</td>\n",
       "      <td>965.59</td>\n",
       "      <td>154.11</td>\n",
       "      <td>71.21</td>\n",
       "    </tr>\n",
       "  </tbody>\n",
       "</table>\n",
       "</div>"
      ],
      "text/plain": [
       "              AAPL     GE    GOOG     IBM   MSFT\n",
       "Date                                            \n",
       "2017-06-19  146.34  28.80  957.37  154.84  70.87\n",
       "2017-06-20  145.01  28.13  950.63  154.95  69.91\n",
       "2017-06-21  145.87  27.78  959.45  153.79  70.27\n",
       "2017-06-22  145.63  27.55  957.09  154.40  70.26\n",
       "2017-06-23  146.28  27.57  965.59  154.11  71.21"
      ]
     },
     "execution_count": 1,
     "metadata": {},
     "output_type": "execute_result"
    }
   ],
   "source": [
    "import pandas as pd\n",
    "import datetime\n",
    "import pandas_datareader.data as web\n",
    "from pandas import Series, DataFrame\n",
    "\n",
    "\n",
    "days_per_year = 365.24\n",
    "\n",
    "start = datetime.datetime.now()-datetime.timedelta(days=(5*days_per_year))\n",
    "end = datetime.datetime.now()\n",
    "\n",
    "companies = ['AAPL', 'GE', 'GOOG', 'IBM', 'MSFT']\n",
    "\n",
    "# To pull individual stock\n",
    "# df = web.DataReader(\"AAPL\", 'google', start, end)\n",
    "# df.tail()\n",
    "\n",
    "# To pull group stocks\n",
    "dfcomp = web.DataReader(companies,'google',\n",
    "                               start=start, \n",
    "                               end=end)['Close']\n",
    "dfcomp.tail()"
   ]
  },
  {
   "cell_type": "markdown",
   "metadata": {},
   "source": [
    "# Scraping Wikipedia SP500 Data Using Beautiful Soup"
   ]
  },
  {
   "cell_type": "code",
   "execution_count": 2,
   "metadata": {
    "collapsed": false
   },
   "outputs": [],
   "source": [
    "import bs4 as bs\n",
    "import pickle\n",
    "import requests\n",
    "\n",
    "# This will keep tickers + gics industries & sub industries\n",
    "def save_sp500_stocks_info():\n",
    "    resp = requests.get('http://en.wikipedia.org/wiki/List_of_S%26P_500_companies')\n",
    "    soup = bs.BeautifulSoup(resp.text, 'lxml')\n",
    "    table = soup.find('table', {'class': 'wikitable sortable'})\n",
    "    stocks_info=[]\n",
    "    tickers = []\n",
    "    gics_industries = []\n",
    "    gics_sub_industries = []\n",
    "    for row in table.findAll('tr')[1:]:\n",
    "        ticker = row.findAll('td')[0].text\n",
    "        gics_industry = row.findAll('td')[3].text\n",
    "        gics_sub_industry = row.findAll('td')[4].text\n",
    "\n",
    "        tickers.append(ticker.lower())\n",
    "        gics_industries.append(gics_industry.lower())\n",
    "        gics_sub_industries.append(gics_sub_industry.lower())\n",
    "    \n",
    "    stocks_info.append(tickers)\n",
    "    stocks_info.append(gics_industries)\n",
    "    stocks_info.append(gics_sub_industries)\n",
    "    return stocks_info\n",
    "\n",
    "stocks_info = save_sp500_stocks_info()\n",
    "stocks_info_df = pd.DataFrame(stocks_info).T\n",
    "stocks_info_df.columns=['tickers','gics_industry','gics_sub_industry']\n",
    "stocks_info_df.set_index('tickers',inplace=True)\n",
    "\n",
    "# Extract just the tickers list\n",
    "tickers= stocks_info[0]"
   ]
  },
  {
   "cell_type": "code",
   "execution_count": 3,
   "metadata": {
    "collapsed": false
   },
   "outputs": [
    {
     "data": {
      "text/plain": [
       "[u'mmm', u'abt', u'abbv', u'acn', u'atvi']"
      ]
     },
     "execution_count": 3,
     "metadata": {},
     "output_type": "execute_result"
    }
   ],
   "source": [
    "tickers[:5]"
   ]
  },
  {
   "cell_type": "markdown",
   "metadata": {},
   "source": [
    "# Scraping Financial Data\n",
    "Using Selenium to scrape \n",
    "http://www.nasdaq.com/symbol/aapl/financials?query=income-statement&data=quarterly"
   ]
  },
  {
   "cell_type": "markdown",
   "metadata": {},
   "source": [
    "## Repeat the scraping for multiple websites"
   ]
  },
  {
   "cell_type": "code",
   "execution_count": 1,
   "metadata": {
    "collapsed": false
   },
   "outputs": [],
   "source": [
    "import pandas as pd\n",
    "from numpy import nan\n",
    "from selenium import webdriver\n",
    "from selenium.webdriver.common.by import By\n",
    "from selenium.webdriver.support.ui import WebDriverWait\n",
    "from selenium.webdriver.support import expected_conditions as EC\n",
    "from selenium.webdriver.chrome.options import Options"
   ]
  },
  {
   "cell_type": "code",
   "execution_count": 2,
   "metadata": {
    "collapsed": true
   },
   "outputs": [],
   "source": [
    "## return nan values if elements not found, and convert the webelements to text\n",
    "def get_elements(xpath,browser):\n",
    "    ## find the elements\n",
    "    elements = browser.find_elements_by_xpath(xpath)\n",
    "    ## if any are missing, return all nan values\n",
    "    if len(elements) != 4:\n",
    "        return [nan] * 4\n",
    "    ## otherwise, return just the text of the element \n",
    "    else:\n",
    "        text = []\n",
    "        for e in elements:\n",
    "            text.append(e.text)\n",
    "        return text"
   ]
  },
  {
   "cell_type": "code",
   "execution_count": 107,
   "metadata": {
    "collapsed": true
   },
   "outputs": [],
   "source": [
    "dollarlist = [u'total_revenue', u'gross_profit',u'net_income', u'total_assets', u'total_liabilities', u'total_equity','fixed_assets','goodwill','net_cash_flow'] \n",
    "\n",
    "ratiolist = [u'liq_current_ratio', u'liq_quick_ratio', u'liq_cash_ratio',\n",
    "       u'prof_gross_margin', u'prof_operating_margin', u'prof_profit_margin']"
   ]
  },
  {
   "cell_type": "code",
   "execution_count": 128,
   "metadata": {
    "collapsed": true
   },
   "outputs": [],
   "source": [
    "import numpy as np\n",
    "def clean_up(period,df):\n",
    "    \n",
    "#     Let the null be regarded as 0\n",
    "    df.loc[:,dollarlist]=df.loc[:,dollarlist].fillna('$0')\n",
    "# Do a regex setting to replace dollar sign\n",
    "    df.loc[:,dollarlist] = df.loc[:,dollarlist].replace( '[\\$,)]','', regex=True ).replace( '[(]','-',   regex=True ).astype(long)\n",
    "    if period=='yearly':\n",
    "\n",
    "#     Let the null be regarded as 0\n",
    "        df.loc[:,ratiolist]=df.loc[:,ratiolist].fillna('0%')\n",
    "# Do a regex setting to process percentage sign\n",
    "        df.loc[:,ratiolist] = df.loc[:,ratiolist].apply(lambda x: x.str.replace('%','')).astype(np.float)/100\n",
    "    return df"
   ]
  },
  {
   "cell_type": "code",
   "execution_count": 11,
   "metadata": {
    "collapsed": true
   },
   "outputs": [],
   "source": [
    "# Yearly\n",
    "\n",
    "def scrapenasdaq(period,symbols,csv_path):\n",
    "    \n",
    "    chrome_options = Options()\n",
    "    chrome_options.add_argument(\"--disable-extensions\")\n",
    "\n",
    "    ## launch the Chrome browser (this will generate a window)\n",
    "    my_path = \"chromedriver.exe\"\n",
    "    browser = webdriver.Chrome(executable_path=my_path,chrome_options=chrome_options)\n",
    "    browser.maximize_window()\n",
    "    df = pd.DataFrame()\n",
    "    \n",
    "    financials_xpath = \"//tbody/tr/th[text() = '{}']/../td[contains(text(), '$')]\"\n",
    "    ratios_xpath = \"//tbody/tr/th[text() = '{}']/../td[contains(text(), '%')]\"\n",
    "\n",
    "#     Create yearly scraping or quarterly scraping\n",
    "    if period == 'yearly':\n",
    "        url_form = \"http://www.nasdaq.com/symbol/{}/financials?query={}\" \n",
    "    else:\n",
    "        url_form = \"http://www.nasdaq.com/symbol/{}/financials?query={}&data=quarterly\" \n",
    "\n",
    "    for i, symbol in enumerate(symbols):\n",
    "        try:\n",
    "            ## navigate to income statement quarterly page    \n",
    "            url = url_form.format(symbol, \"income-statement\")\n",
    "            browser.get(url)\n",
    "\n",
    "            company_xpath = \"//h1[contains(text(), 'Company Financials')]\"\n",
    "            company = WebDriverWait(browser, 10).until(EC.presence_of_element_located((By.XPATH, company_xpath))).text\n",
    "            \n",
    "            period_endings=\"\"\n",
    "            quarters = \"\"\n",
    "            quarter_endings = \"\"\n",
    "            if period=='yearly':\n",
    "                period_endings_xpath = \"//thead/tr[th[1][text() = 'Period Ending:']]/th[position()>=3]\"\n",
    "                period_endings = get_elements(period_endings_xpath,browser)\n",
    "            else:\n",
    "                quarters_xpath = \"//thead/tr[th[1][text() = 'Quarter:']]/th[position()>=3]\"\n",
    "                quarters = get_elements(quarters_xpath,browser)\n",
    "\n",
    "                quarter_endings_xpath = \"//thead/tr[th[1][text() = 'Quarter Ending:']]/th[position()>=3]\"\n",
    "                quarter_endings = get_elements(quarter_endings_xpath,browser)\n",
    "                         \n",
    "            total_revenue = get_elements(financials_xpath.format(\"Total Revenue\"),browser)\n",
    "            gross_profit = get_elements(financials_xpath.format(\"Gross Profit\"),browser)\n",
    "            net_income = get_elements(financials_xpath.format(\"Net Income\"),browser)\n",
    "\n",
    "            ## navigate to balance sheet quarterly page \n",
    "            url = url_form.format(symbol, \"balance-sheet\")\n",
    "            browser.get(url)\n",
    "\n",
    "            total_assets = get_elements(financials_xpath.format(\"Total Assets\"),browser)\n",
    "            total_liabilities = get_elements(financials_xpath.format(\"Total Liabilities\"),browser)\n",
    "            total_equity = get_elements(financials_xpath.format(\"Total Equity\"),browser)\n",
    "            fixed_assets = get_elements(financials_xpath.format(\"Fixed Assets\"),browser)\n",
    "            goodwill = get_elements(financials_xpath.format(\"Goodwill\"),browser)\n",
    "\n",
    "\n",
    "            ## navigate to cash flow quarterly page \n",
    "            url = url_form.format(symbol, \"cash-flow\")\n",
    "            browser.get(url)\n",
    "\n",
    "            net_cash_flow = get_elements(financials_xpath.format(\"Net Cash Flow\"),browser)\n",
    "\n",
    "            \n",
    "            ## navigate to ratios page \n",
    "            if period=='yearly':\n",
    "                url = url_form.format(symbol, \"ratios\")\n",
    "                browser.get(url)\n",
    "\n",
    "                liq_current_ratio = get_elements(ratios_xpath.format(\"Current Ratio\"),browser)\n",
    "                liq_quick_ratio = get_elements(ratios_xpath.format(\"Quick Ratio\"),browser)\n",
    "                liq_cash_ratio = get_elements(ratios_xpath.format(\"Cash Ratio\"),browser)\n",
    "                prof_gross_margin = get_elements(ratios_xpath.format(\"Gross Margin\"),browser)\n",
    "                prof_operating_margin = get_elements(ratios_xpath.format(\"Operating Margin\"),browser)\n",
    "                prof_profit_margin = get_elements(ratios_xpath.format(\"Profit Margin\"),browser)\n",
    "            \n",
    "            ## fill the datarame with the scraped data, 4 rows per company\n",
    "            for j in range(4):  \n",
    "                row = i*4 + j\n",
    "                df.loc[row, 'company'] = company\n",
    "                df.loc[row, 'symbol'] = symbol\n",
    "                \n",
    "                if period == 'yearly':\n",
    "                    df.loc[row, 'period_endings'] = period_endings[j]\n",
    "                    df.loc[row, 'liq_current_ratio'] = liq_current_ratio[j]\n",
    "                    df.loc[row, 'liq_quick_ratio'] = liq_quick_ratio[j]\n",
    "                    df.loc[row, 'liq_cash_ratio'] = liq_cash_ratio[j]\n",
    "                    df.loc[row, 'prof_gross_margin'] = prof_gross_margin[j]\n",
    "                    df.loc[row, 'prof_operating_margin'] = prof_operating_margin[j]            \n",
    "                    df.loc[row, 'prof_profit_margin'] = prof_profit_margin[j]\n",
    "                else:\n",
    "                    df.loc[row, 'quarter'] = quarters[j]\n",
    "                    df.loc[row, 'quarter_ending'] = quarter_endings[j]\n",
    "                \n",
    "                df.loc[row, 'total_revenue'] = total_revenue[j]\n",
    "                df.loc[row, 'gross_profit'] = gross_profit[j]\n",
    "                df.loc[row, 'net_income'] = net_income[j]\n",
    "                df.loc[row, 'total_assets'] = total_assets[j]\n",
    "                df.loc[row, 'total_liabilities'] = total_liabilities[j]\n",
    "                df.loc[row, 'total_equity'] = total_equity[j]\n",
    "                df.loc[row, 'fixed_assets'] = fixed_assets[j]\n",
    "                df.loc[row, 'goodwill'] = goodwill[j]\n",
    "                \n",
    "                df.loc[row, 'net_cash_flow'] = net_cash_flow[j]\n",
    "        except IOError as e: \n",
    "            print(\"Symbol is not collected : \",symbol)\n",
    "        except ValueError:\n",
    "            print(\"Symbol is not collected : \",symbol)\n",
    "        except:\n",
    "            print(\"Symbol is not collected : \",symbol)\n",
    "    \n",
    "    browser.quit()\n",
    "#     df = clean_up(period,df)\n",
    "    \n",
    "    ## create a csv file in our working directory with our scraped data\n",
    "    df.to_csv(csv_path, index=False)\n",
    "    \n",
    "    return df"
   ]
  },
  {
   "cell_type": "code",
   "execution_count": 24,
   "metadata": {
    "collapsed": false
   },
   "outputs": [
    {
     "name": "stdout",
     "output_type": "stream",
     "text": [
      "('Symbol is not collected : ', u'acn')\n",
      "('Symbol is not collected : ', u'aes')\n",
      "('Symbol is not collected : ', u'aet')\n",
      "('Symbol is not collected : ', u'a')\n",
      "('Symbol is not collected : ', u'agn')\n",
      "('Symbol is not collected : ', u'googl')\n",
      "('Symbol is not collected : ', u'goog')\n",
      "('Symbol is not collected : ', u'adp')\n",
      "('Symbol is not collected : ', u'brk-b')\n",
      "('Symbol is not collected : ', u'blk')\n",
      "('Symbol is not collected : ', u'bf-b')\n",
      "('Symbol is not collected : ', u'ca')\n",
      "('Symbol is not collected : ', u'cbs')\n",
      "('Symbol is not collected : ', u'ctxs')\n",
      "('Symbol is not collected : ', u'coh')\n",
      "('Symbol is not collected : ', u'cmcsa')\n",
      "('Symbol is not collected : ', u'cop')\n",
      "('Symbol is not collected : ', u'dow')\n",
      "('Symbol is not collected : ', u'dte')\n",
      "('Symbol is not collected : ', u'esrx')\n",
      "('Symbol is not collected : ', u'fitb')\n",
      "Wall time: 3h 13min 30s\n"
     ]
    }
   ],
   "source": [
    "# 200 tickers = 3 hours 13 minutes\n",
    "%%time\n",
    "tickersused = tickers[:200]\n",
    "# tickersused = ['msft','goog','mmm']\n",
    "scrapenasdaq('yearly',tickersused,'output.csv')"
   ]
  },
  {
   "cell_type": "markdown",
   "metadata": {},
   "source": [
    "### Reading output csv"
   ]
  },
  {
   "cell_type": "code",
   "execution_count": 187,
   "metadata": {
    "collapsed": false
   },
   "outputs": [],
   "source": [
    "financedf = pd.read_csv('200stockdata.csv')\n",
    "financedf.set_index('symbol',inplace=True)\n",
    "financedf = clean_up('yearly',financedf)\n",
    "financedf[dollarlist]=financedf[dollarlist].astype('int64')\n",
    "financedf[ratiolist]=financedf[ratiolist].astype('float')"
   ]
  },
  {
   "cell_type": "markdown",
   "metadata": {},
   "source": [
    "# Getting Market data"
   ]
  },
  {
   "cell_type": "code",
   "execution_count": 26,
   "metadata": {
    "collapsed": false
   },
   "outputs": [],
   "source": [
    "import datetime\n",
    "import pandas_datareader.data as web\n",
    "\n",
    "\n",
    "start = datetime.datetime(2017, 1, 1)\n",
    "end = datetime.datetime.now()\n",
    "\n",
    "closingpricedf = web.DataReader(tickersused,'yahoo',\n",
    "                               start=start, \n",
    "                               end=end)['Adj Close']\n",
    "volumedf = web.DataReader(tickersused,'yahoo',\n",
    "                               start=start, \n",
    "                               end=end)['Volume']\n",
    "marketcapdf = closingpricedf*volumedf"
   ]
  },
  {
   "cell_type": "code",
   "execution_count": 74,
   "metadata": {
    "collapsed": false
   },
   "outputs": [],
   "source": [
    "marketdf = pd.DataFrame()\n",
    "marketdf['closing_price'] = closingpricedf.reset_index().drop('Date',axis=1).tail(1).T.iloc[:,0].astype('int')\n",
    "marketdf['volume'] = volumedf.reset_index().drop('Date',axis=1).tail(1).T.iloc[:,0].astype('int')\n",
    "marketdf['market_cap'] = marketcapdf.reset_index().drop('Date',axis=1).tail(1).T.iloc[:,0].astype('int')"
   ]
  },
  {
   "cell_type": "markdown",
   "metadata": {},
   "source": [
    "# Generating Financial Ratios data"
   ]
  },
  {
   "cell_type": "markdown",
   "metadata": {},
   "source": [
    "A ratio analysis is a quantitative analysis of information contained in a company’s financial statements. Ratio analysis is based on line items in financial statements like the balance sheet, income statement and cash flow statement; the ratios of one item – or a combination of items - to another item or combination are then calculated. Ratio analysis is used to evaluate various aspects of a company’s operating and financial performance such as its efficiency, liquidity, profitability and solvency.\n",
    "\n",
    "Read more: Ratio Analysis Definition | Investopedia http://www.investopedia.com/terms/r/ratioanalysis.asp#ixzz4ZzYSyt15 \n",
    "Follow us: Investopedia on Facebook \n",
    "\n",
    "http://www.investorguide.com/article/13690/list-of-important-financial-ratios-for-stock-analysis/\n",
    "http://www.va-interactive.com/inbusiness/editorial/finance/ibt/ratio_analysis.html"
   ]
  },
  {
   "cell_type": "markdown",
   "metadata": {},
   "source": [
    "•\tPrice to liquidation Value  \n",
    "        Amount that the shareholders will get if it is liquidated\n",
    "        (Current Asset – Total liabilities) / Outstanding shares\n",
    "        \n",
    "•\tPrice to tangible Book Value  \n",
    "        Total assets – Good will – Tangible assets – total liabilities\n",
    "        \n",
    "        \n",
    "•\tMarket cap\n",
    "        Outstanding shares/ Shareprice\n",
    "        \n",
    "•\tEV (enterprise Value) \n",
    "        (Market cap +debt -cash )/EBIT (Earnings before interest and taxes  Earnings can be manipulated \n",
    "        \n",
    "•\tEV (Enterprise Value) /FCF  (Free Cash Flow) Net cash flow Operating- Net Cash Flow investing\n"
   ]
  },
  {
   "cell_type": "code",
   "execution_count": 222,
   "metadata": {
    "collapsed": false
   },
   "outputs": [],
   "source": [
    "# Putting in market information from marketdf\n",
    "financedf['market_cap'] = marketdf['market_cap']\n",
    "financedf['closing_price'] = marketdf['closing_price']\n",
    "financedf['volume'] = marketdf['volume']\n",
    "\n",
    "# Putting in industries from sp 500 list on wikipedia\n",
    "financedf['gics_industry'] = stocks_info_df['gics_industry']\n",
    "financedf['gics_sub_industry'] = stocks_info_df['gics_sub_industry']\n"
   ]
  },
  {
   "cell_type": "code",
   "execution_count": 223,
   "metadata": {
    "collapsed": false
   },
   "outputs": [
    {
     "data": {
      "text/plain": [
       "Index([u'company', u'period_endings', u'liq_current_ratio', u'liq_quick_ratio',\n",
       "       u'liq_cash_ratio', u'prof_gross_margin', u'prof_operating_margin',\n",
       "       u'prof_profit_margin', u'total_revenue', u'gross_profit', u'net_income',\n",
       "       u'total_assets', u'total_liabilities', u'total_equity', u'fixed_assets',\n",
       "       u'goodwill', u'net_cash_flow', u'market_cap', u'closing_price',\n",
       "       u'volume', u'gics_industry', u'gics_sub_industry'],\n",
       "      dtype='object')"
      ]
     },
     "execution_count": 223,
     "metadata": {},
     "output_type": "execute_result"
    }
   ],
   "source": [
    "financedf.columns"
   ]
  },
  {
   "cell_type": "code",
   "execution_count": 224,
   "metadata": {
    "collapsed": false
   },
   "outputs": [],
   "source": [
    "# Add on the ratios \n",
    "\n",
    "financedf['price_to_tangible_book_values'] = financedf.total_assets-financedf.goodwill-financedf.fixed_assets-financedf.total_liabilities"
   ]
  },
  {
   "cell_type": "code",
   "execution_count": 225,
   "metadata": {
    "collapsed": false
   },
   "outputs": [
    {
     "data": {
      "text/html": [
       "<div>\n",
       "<table border=\"1\" class=\"dataframe\">\n",
       "  <thead>\n",
       "    <tr style=\"text-align: right;\">\n",
       "      <th></th>\n",
       "      <th>company</th>\n",
       "      <th>period_endings</th>\n",
       "      <th>liq_current_ratio</th>\n",
       "      <th>liq_quick_ratio</th>\n",
       "      <th>liq_cash_ratio</th>\n",
       "      <th>prof_gross_margin</th>\n",
       "      <th>prof_operating_margin</th>\n",
       "      <th>prof_profit_margin</th>\n",
       "      <th>total_revenue</th>\n",
       "      <th>gross_profit</th>\n",
       "      <th>...</th>\n",
       "      <th>total_equity</th>\n",
       "      <th>fixed_assets</th>\n",
       "      <th>goodwill</th>\n",
       "      <th>net_cash_flow</th>\n",
       "      <th>market_cap</th>\n",
       "      <th>closing_price</th>\n",
       "      <th>volume</th>\n",
       "      <th>gics_industry</th>\n",
       "      <th>gics_sub_industry</th>\n",
       "      <th>price_to_tangible_book_values</th>\n",
       "    </tr>\n",
       "    <tr>\n",
       "      <th>symbol</th>\n",
       "      <th></th>\n",
       "      <th></th>\n",
       "      <th></th>\n",
       "      <th></th>\n",
       "      <th></th>\n",
       "      <th></th>\n",
       "      <th></th>\n",
       "      <th></th>\n",
       "      <th></th>\n",
       "      <th></th>\n",
       "      <th></th>\n",
       "      <th></th>\n",
       "      <th></th>\n",
       "      <th></th>\n",
       "      <th></th>\n",
       "      <th></th>\n",
       "      <th></th>\n",
       "      <th></th>\n",
       "      <th></th>\n",
       "      <th></th>\n",
       "      <th></th>\n",
       "    </tr>\n",
       "  </thead>\n",
       "  <tbody>\n",
       "    <tr>\n",
       "      <th>mmm</th>\n",
       "      <td>MMM Company Financials</td>\n",
       "      <td>12/31/2016</td>\n",
       "      <td>1.89</td>\n",
       "      <td>1.34</td>\n",
       "      <td>0.43</td>\n",
       "      <td>0.50</td>\n",
       "      <td>0.24</td>\n",
       "      <td>0.17</td>\n",
       "      <td>30109000</td>\n",
       "      <td>15069000</td>\n",
       "      <td>...</td>\n",
       "      <td>10298000</td>\n",
       "      <td>8516000</td>\n",
       "      <td>9166000</td>\n",
       "      <td>600000</td>\n",
       "      <td>330733041</td>\n",
       "      <td>191</td>\n",
       "      <td>1728600</td>\n",
       "      <td>industrials</td>\n",
       "      <td>industrial conglomerates</td>\n",
       "      <td>-7384000</td>\n",
       "    </tr>\n",
       "    <tr>\n",
       "      <th>mmm</th>\n",
       "      <td>MMM Company Financials</td>\n",
       "      <td>12/31/2015</td>\n",
       "      <td>1.54</td>\n",
       "      <td>1.05</td>\n",
       "      <td>0.27</td>\n",
       "      <td>0.49</td>\n",
       "      <td>0.23</td>\n",
       "      <td>0.16</td>\n",
       "      <td>30274000</td>\n",
       "      <td>14891000</td>\n",
       "      <td>...</td>\n",
       "      <td>11429000</td>\n",
       "      <td>8515000</td>\n",
       "      <td>9249000</td>\n",
       "      <td>-99000</td>\n",
       "      <td>330733041</td>\n",
       "      <td>191</td>\n",
       "      <td>1728600</td>\n",
       "      <td>industrials</td>\n",
       "      <td>industrial conglomerates</td>\n",
       "      <td>-6335000</td>\n",
       "    </tr>\n",
       "    <tr>\n",
       "      <th>mmm</th>\n",
       "      <td>MMM Company Financials</td>\n",
       "      <td>12/31/2014</td>\n",
       "      <td>2.06</td>\n",
       "      <td>1.44</td>\n",
       "      <td>0.56</td>\n",
       "      <td>0.48</td>\n",
       "      <td>0.22</td>\n",
       "      <td>0.16</td>\n",
       "      <td>31821000</td>\n",
       "      <td>15374000</td>\n",
       "      <td>...</td>\n",
       "      <td>13109000</td>\n",
       "      <td>8489000</td>\n",
       "      <td>7050000</td>\n",
       "      <td>-684000</td>\n",
       "      <td>330733041</td>\n",
       "      <td>191</td>\n",
       "      <td>1728600</td>\n",
       "      <td>industrials</td>\n",
       "      <td>industrial conglomerates</td>\n",
       "      <td>-2430000</td>\n",
       "    </tr>\n",
       "    <tr>\n",
       "      <th>mmm</th>\n",
       "      <td>MMM Company Financials</td>\n",
       "      <td>12/31/2013</td>\n",
       "      <td>1.70</td>\n",
       "      <td>1.18</td>\n",
       "      <td>0.45</td>\n",
       "      <td>0.48</td>\n",
       "      <td>0.22</td>\n",
       "      <td>0.15</td>\n",
       "      <td>30871000</td>\n",
       "      <td>14765000</td>\n",
       "      <td>...</td>\n",
       "      <td>17502000</td>\n",
       "      <td>8652000</td>\n",
       "      <td>7345000</td>\n",
       "      <td>-302000</td>\n",
       "      <td>330733041</td>\n",
       "      <td>191</td>\n",
       "      <td>1728600</td>\n",
       "      <td>industrials</td>\n",
       "      <td>industrial conglomerates</td>\n",
       "      <td>1505000</td>\n",
       "    </tr>\n",
       "    <tr>\n",
       "      <th>abt</th>\n",
       "      <td>ABT Company Financials</td>\n",
       "      <td>12/31/2016</td>\n",
       "      <td>4.02</td>\n",
       "      <td>3.65</td>\n",
       "      <td>2.82</td>\n",
       "      <td>0.57</td>\n",
       "      <td>0.15</td>\n",
       "      <td>0.07</td>\n",
       "      <td>20853000</td>\n",
       "      <td>11829000</td>\n",
       "      <td>...</td>\n",
       "      <td>20538000</td>\n",
       "      <td>8458000</td>\n",
       "      <td>7683000</td>\n",
       "      <td>13619000</td>\n",
       "      <td>316918642</td>\n",
       "      <td>44</td>\n",
       "      <td>7136200</td>\n",
       "      <td>health care</td>\n",
       "      <td>health care equipment</td>\n",
       "      <td>4397000</td>\n",
       "    </tr>\n",
       "  </tbody>\n",
       "</table>\n",
       "<p>5 rows × 23 columns</p>\n",
       "</div>"
      ],
      "text/plain": [
       "                       company period_endings  liq_current_ratio  \\\n",
       "symbol                                                             \n",
       "mmm     MMM Company Financials     12/31/2016               1.89   \n",
       "mmm     MMM Company Financials     12/31/2015               1.54   \n",
       "mmm     MMM Company Financials     12/31/2014               2.06   \n",
       "mmm     MMM Company Financials     12/31/2013               1.70   \n",
       "abt     ABT Company Financials     12/31/2016               4.02   \n",
       "\n",
       "        liq_quick_ratio  liq_cash_ratio  prof_gross_margin  \\\n",
       "symbol                                                       \n",
       "mmm                1.34            0.43               0.50   \n",
       "mmm                1.05            0.27               0.49   \n",
       "mmm                1.44            0.56               0.48   \n",
       "mmm                1.18            0.45               0.48   \n",
       "abt                3.65            2.82               0.57   \n",
       "\n",
       "        prof_operating_margin  prof_profit_margin  total_revenue  \\\n",
       "symbol                                                             \n",
       "mmm                      0.24                0.17       30109000   \n",
       "mmm                      0.23                0.16       30274000   \n",
       "mmm                      0.22                0.16       31821000   \n",
       "mmm                      0.22                0.15       30871000   \n",
       "abt                      0.15                0.07       20853000   \n",
       "\n",
       "        gross_profit              ...                total_equity  \\\n",
       "symbol                            ...                               \n",
       "mmm         15069000              ...                    10298000   \n",
       "mmm         14891000              ...                    11429000   \n",
       "mmm         15374000              ...                    13109000   \n",
       "mmm         14765000              ...                    17502000   \n",
       "abt         11829000              ...                    20538000   \n",
       "\n",
       "        fixed_assets  goodwill  net_cash_flow  market_cap  closing_price  \\\n",
       "symbol                                                                     \n",
       "mmm          8516000   9166000         600000   330733041            191   \n",
       "mmm          8515000   9249000         -99000   330733041            191   \n",
       "mmm          8489000   7050000        -684000   330733041            191   \n",
       "mmm          8652000   7345000        -302000   330733041            191   \n",
       "abt          8458000   7683000       13619000   316918642             44   \n",
       "\n",
       "         volume  gics_industry         gics_sub_industry  \\\n",
       "symbol                                                     \n",
       "mmm     1728600    industrials  industrial conglomerates   \n",
       "mmm     1728600    industrials  industrial conglomerates   \n",
       "mmm     1728600    industrials  industrial conglomerates   \n",
       "mmm     1728600    industrials  industrial conglomerates   \n",
       "abt     7136200    health care     health care equipment   \n",
       "\n",
       "        price_to_tangible_book_values  \n",
       "symbol                                 \n",
       "mmm                          -7384000  \n",
       "mmm                          -6335000  \n",
       "mmm                          -2430000  \n",
       "mmm                           1505000  \n",
       "abt                           4397000  \n",
       "\n",
       "[5 rows x 23 columns]"
      ]
     },
     "execution_count": 225,
     "metadata": {},
     "output_type": "execute_result"
    }
   ],
   "source": [
    "financedf.head()"
   ]
  },
  {
   "cell_type": "markdown",
   "metadata": {},
   "source": [
    "# Filtering and Ranking Companies Together\n",
    "\n",
    "We will filter and rank the companies based on the critical ratios, "
   ]
  },
  {
   "cell_type": "code",
   "execution_count": 226,
   "metadata": {
    "collapsed": false
   },
   "outputs": [
    {
     "data": {
      "text/plain": [
       "Index([u'liq_current_ratio', u'liq_quick_ratio', u'liq_cash_ratio',\n",
       "       u'prof_gross_margin', u'prof_operating_margin', u'prof_profit_margin'],\n",
       "      dtype='object')"
      ]
     },
     "execution_count": 226,
     "metadata": {},
     "output_type": "execute_result"
    }
   ],
   "source": [
    "financedfaverage.columns"
   ]
  },
  {
   "cell_type": "code",
   "execution_count": 229,
   "metadata": {
    "collapsed": false
   },
   "outputs": [
    {
     "data": {
      "text/html": [
       "<div>\n",
       "<table border=\"1\" class=\"dataframe\">\n",
       "  <thead>\n",
       "    <tr style=\"text-align: right;\">\n",
       "      <th></th>\n",
       "      <th>liq_current_ratio</th>\n",
       "      <th>liq_quick_ratio</th>\n",
       "      <th>liq_cash_ratio</th>\n",
       "      <th>prof_gross_margin</th>\n",
       "      <th>prof_operating_margin</th>\n",
       "      <th>prof_profit_margin</th>\n",
       "      <th>gics_industry</th>\n",
       "      <th>gics_sub_industry</th>\n",
       "    </tr>\n",
       "    <tr>\n",
       "      <th>symbol</th>\n",
       "      <th></th>\n",
       "      <th></th>\n",
       "      <th></th>\n",
       "      <th></th>\n",
       "      <th></th>\n",
       "      <th></th>\n",
       "      <th></th>\n",
       "      <th></th>\n",
       "    </tr>\n",
       "  </thead>\n",
       "  <tbody>\n",
       "    <tr>\n",
       "      <th>coty</th>\n",
       "      <td>2.9950</td>\n",
       "      <td>2.3450</td>\n",
       "      <td>1.5650</td>\n",
       "      <td>0.4875</td>\n",
       "      <td>0.9575</td>\n",
       "      <td>1.2150</td>\n",
       "      <td>consumer staples</td>\n",
       "      <td>personal products</td>\n",
       "    </tr>\n",
       "    <tr>\n",
       "      <th>apa</th>\n",
       "      <td>1.7250</td>\n",
       "      <td>1.4875</td>\n",
       "      <td>0.5425</td>\n",
       "      <td>0.7400</td>\n",
       "      <td>0.6950</td>\n",
       "      <td>0.6650</td>\n",
       "      <td>energy</td>\n",
       "      <td>oil &amp; gas exploration &amp; production</td>\n",
       "    </tr>\n",
       "    <tr>\n",
       "      <th>xec</th>\n",
       "      <td>1.5950</td>\n",
       "      <td>1.4900</td>\n",
       "      <td>0.9200</td>\n",
       "      <td>0.7100</td>\n",
       "      <td>0.9625</td>\n",
       "      <td>0.6225</td>\n",
       "      <td>energy</td>\n",
       "      <td>oil &amp; gas exploration &amp; production</td>\n",
       "    </tr>\n",
       "    <tr>\n",
       "      <th>dvn</th>\n",
       "      <td>1.2375</td>\n",
       "      <td>1.2375</td>\n",
       "      <td>0.6525</td>\n",
       "      <td>0.8450</td>\n",
       "      <td>0.5250</td>\n",
       "      <td>0.3625</td>\n",
       "      <td>energy</td>\n",
       "      <td>oil &amp; gas exploration &amp; production</td>\n",
       "    </tr>\n",
       "    <tr>\n",
       "      <th>ebay</th>\n",
       "      <td>2.2875</td>\n",
       "      <td>2.2875</td>\n",
       "      <td>1.4325</td>\n",
       "      <td>0.8000</td>\n",
       "      <td>0.2750</td>\n",
       "      <td>0.3425</td>\n",
       "      <td>information technology</td>\n",
       "      <td>internet software &amp; services</td>\n",
       "    </tr>\n",
       "  </tbody>\n",
       "</table>\n",
       "</div>"
      ],
      "text/plain": [
       "        liq_current_ratio  liq_quick_ratio  liq_cash_ratio  prof_gross_margin  \\\n",
       "symbol                                                                          \n",
       "coty               2.9950           2.3450          1.5650             0.4875   \n",
       "apa                1.7250           1.4875          0.5425             0.7400   \n",
       "xec                1.5950           1.4900          0.9200             0.7100   \n",
       "dvn                1.2375           1.2375          0.6525             0.8450   \n",
       "ebay               2.2875           2.2875          1.4325             0.8000   \n",
       "\n",
       "        prof_operating_margin  prof_profit_margin           gics_industry  \\\n",
       "symbol                                                                      \n",
       "coty                   0.9575              1.2150        consumer staples   \n",
       "apa                    0.6950              0.6650                  energy   \n",
       "xec                    0.9625              0.6225                  energy   \n",
       "dvn                    0.5250              0.3625                  energy   \n",
       "ebay                   0.2750              0.3425  information technology   \n",
       "\n",
       "                         gics_sub_industry  \n",
       "symbol                                      \n",
       "coty                     personal products  \n",
       "apa     oil & gas exploration & production  \n",
       "xec     oil & gas exploration & production  \n",
       "dvn     oil & gas exploration & production  \n",
       "ebay          internet software & services  "
      ]
     },
     "execution_count": 229,
     "metadata": {},
     "output_type": "execute_result"
    }
   ],
   "source": [
    "# current ratio and quick ratio is above 1\n",
    "# Debt ratio is at the lower percentage\n",
    "# High gross/net profit margin. \n",
    "# High ROE and ROA\n",
    "financedfaverage = financedf.loc[:,ratiolist].groupby(financedf.index).mean()\n",
    "criteria_liquidity = (financedfaverage.liq_quick_ratio>=1) & (financedfaverage.liq_current_ratio>=1)\n",
    "\n",
    "\n",
    "financedfaverage['gics_industry'] = stocks_info_df['gics_industry']\n",
    "financedfaverage['gics_sub_industry'] = stocks_info_df['gics_sub_industry']\n",
    "\n",
    "financedfaverage.loc[criteria_liquidity,:].sort_values('prof_profit_margin',ascending=False).head(5)"
   ]
  },
  {
   "cell_type": "code",
   "execution_count": 239,
   "metadata": {
    "collapsed": false
   },
   "outputs": [
    {
     "data": {
      "text/plain": [
       "0.0"
      ]
     },
     "execution_count": 239,
     "metadata": {},
     "output_type": "execute_result"
    }
   ],
   "source": [
    "financedfaverage.prof_profit_margin.min()"
   ]
  },
  {
   "cell_type": "code",
   "execution_count": 246,
   "metadata": {
    "collapsed": false
   },
   "outputs": [
    {
     "data": {
      "text/plain": [
       "<seaborn.axisgrid.FacetGrid at 0x20a96588>"
      ]
     },
     "execution_count": 246,
     "metadata": {},
     "output_type": "execute_result"
    },
    {
     "data": {
      "image/png": "[encoded data removed]",
      "text/plain": [
       "<matplotlib.figure.Figure at 0x1c7e0a90>"
      ]
     },
     "metadata": {},
     "output_type": "display_data"
    }
   ],
   "source": [
    "# See patterns with the liq_current_ratio and profitability group by industry\n",
    "\n",
    "import matplotlib.pyplot as plt\n",
    "import seaborn as sns\n",
    "% matplotlib inline\n",
    "\n",
    "g = sns.FacetGrid(financedfaverage, col=\"gics_industry\",  hue=\"gics_sub_industry\",size=3,aspect=3, sharex=False, sharey=False)\n",
    "g = g.map(plt.scatter, \"liq_quick_ratio\", \"prof_profit_margin\", edgecolor=\"w\")\n",
    "g.set(ylim=(financedfaverage.prof_profit_margin.min(), financedfaverage.prof_profit_margin.max()))\n",
    "g.set(xlim=(financedfaverage.liq_quick_ratio.min(), financedfaverage.liq_quick_ratio.max()))"
   ]
  },
  {
   "cell_type": "code",
   "execution_count": 247,
   "metadata": {
    "collapsed": false
   },
   "outputs": [
    {
     "data": {
      "text/html": [
       "\n",
       "    <div class=\"bk-root\">\n",
       "        <a href=\"http://bokeh.pydata.org\" target=\"_blank\" class=\"bk-logo bk-logo-small bk-logo-notebook\"></a>\n",
       "        <span id=\"39581831-c6df-4e66-abcd-a94b09891063\">Loading BokehJS ...</span>\n",
       "    </div>"
      ]
     },
     "metadata": {},
     "output_type": "display_data"
    },
    {
     "data": {
      "application/javascript": [
       "\n",
       "(function(global) {\n",
       "  function now() {\n",
       "    return new Date();\n",
       "  }\n",
       "\n",
       "  var force = true;\n",
       "\n",
       "  if (typeof (window._bokeh_onload_callbacks) === \"undefined\" || force === true) {\n",
       "    window._bokeh_onload_callbacks = [];\n",
       "    window._bokeh_is_loading = undefined;\n",
       "  }\n",
       "\n",
       "\n",
       "  \n",
       "  if (typeof (window._bokeh_timeout) === \"undefined\" || force === true) {\n",
       "    window._bokeh_timeout = Date.now() + 5000;\n",
       "    window._bokeh_failed_load = false;\n",
       "  }\n",
       "\n",
       "  var NB_LOAD_WARNING = {'data': {'text/html':\n",
       "     \"<div style='background-color: #fdd'>\\n\"+\n",
       "     \"<p>\\n\"+\n",
       "     \"BokehJS does not appear to have successfully loaded. If loading BokehJS from CDN, this \\n\"+\n",
       "     \"may be due to a slow or bad network connection. Possible fixes:\\n\"+\n",
       "     \"</p>\\n\"+\n",
       "     \"<ul>\\n\"+\n",
       "     \"<li>re-rerun `output_notebook()` to attempt to load from CDN again, or</li>\\n\"+\n",
       "     \"<li>use INLINE resources instead, as so:</li>\\n\"+\n",
       "     \"</ul>\\n\"+\n",
       "     \"<code>\\n\"+\n",
       "     \"from bokeh.resources import INLINE\\n\"+\n",
       "     \"output_notebook(resources=INLINE)\\n\"+\n",
       "     \"</code>\\n\"+\n",
       "     \"</div>\"}};\n",
       "\n",
       "  function display_loaded() {\n",
       "    if (window.Bokeh !== undefined) {\n",
       "      document.getElementById(\"39581831-c6df-4e66-abcd-a94b09891063\").textContent = \"BokehJS successfully loaded.\";\n",
       "    } else if (Date.now() < window._bokeh_timeout) {\n",
       "      setTimeout(display_loaded, 100)\n",
       "    }\n",
       "  }\n",
       "\n",
       "  function run_callbacks() {\n",
       "    window._bokeh_onload_callbacks.forEach(function(callback) { callback() });\n",
       "    delete window._bokeh_onload_callbacks\n",
       "    console.info(\"Bokeh: all callbacks have finished\");\n",
       "  }\n",
       "\n",
       "  function load_libs(js_urls, callback) {\n",
       "    window._bokeh_onload_callbacks.push(callback);\n",
       "    if (window._bokeh_is_loading > 0) {\n",
       "      console.log(\"Bokeh: BokehJS is being loaded, scheduling callback at\", now());\n",
       "      return null;\n",
       "    }\n",
       "    if (js_urls == null || js_urls.length === 0) {\n",
       "      run_callbacks();\n",
       "      return null;\n",
       "    }\n",
       "    console.log(\"Bokeh: BokehJS not loaded, scheduling load and callback at\", now());\n",
       "    window._bokeh_is_loading = js_urls.length;\n",
       "    for (var i = 0; i < js_urls.length; i++) {\n",
       "      var url = js_urls[i];\n",
       "      var s = document.createElement('script');\n",
       "      s.src = url;\n",
       "      s.async = false;\n",
       "      s.onreadystatechange = s.onload = function() {\n",
       "        window._bokeh_is_loading--;\n",
       "        if (window._bokeh_is_loading === 0) {\n",
       "          console.log(\"Bokeh: all BokehJS libraries loaded\");\n",
       "          run_callbacks()\n",
       "        }\n",
       "      };\n",
       "      s.onerror = function() {\n",
       "        console.warn(\"failed to load library \" + url);\n",
       "      };\n",
       "      console.log(\"Bokeh: injecting script tag for BokehJS library: \", url);\n",
       "      document.getElementsByTagName(\"head\")[0].appendChild(s);\n",
       "    }\n",
       "  };var element = document.getElementById(\"39581831-c6df-4e66-abcd-a94b09891063\");\n",
       "  if (element == null) {\n",
       "    console.log(\"Bokeh: ERROR: autoload.js configured with elementid '39581831-c6df-4e66-abcd-a94b09891063' but no matching script tag was found. \")\n",
       "    return false;\n",
       "  }\n",
       "\n",
       "  var js_urls = [\"https://cdn.pydata.org/bokeh/release/bokeh-0.12.4.min.js\", \"https://cdn.pydata.org/bokeh/release/bokeh-widgets-0.12.4.min.js\"];\n",
       "\n",
       "  var inline_js = [\n",
       "    function(Bokeh) {\n",
       "      Bokeh.set_log_level(\"info\");\n",
       "    },\n",
       "    \n",
       "    function(Bokeh) {\n",
       "      \n",
       "      document.getElementById(\"39581831-c6df-4e66-abcd-a94b09891063\").textContent = \"BokehJS is loading...\";\n",
       "    },\n",
       "    function(Bokeh) {\n",
       "      console.log(\"Bokeh: injecting CSS: https://cdn.pydata.org/bokeh/release/bokeh-0.12.4.min.css\");\n",
       "      Bokeh.embed.inject_css(\"https://cdn.pydata.org/bokeh/release/bokeh-0.12.4.min.css\");\n",
       "      console.log(\"Bokeh: injecting CSS: https://cdn.pydata.org/bokeh/release/bokeh-widgets-0.12.4.min.css\");\n",
       "      Bokeh.embed.inject_css(\"https://cdn.pydata.org/bokeh/release/bokeh-widgets-0.12.4.min.css\");\n",
       "    }\n",
       "  ];\n",
       "\n",
       "  function run_inline_js() {\n",
       "    \n",
       "    if ((window.Bokeh !== undefined) || (force === true)) {\n",
       "      for (var i = 0; i < inline_js.length; i++) {\n",
       "        inline_js[i](window.Bokeh);\n",
       "      }if (force === true) {\n",
       "        display_loaded();\n",
       "      }} else if (Date.now() < window._bokeh_timeout) {\n",
       "      setTimeout(run_inline_js, 100);\n",
       "    } else if (!window._bokeh_failed_load) {\n",
       "      console.log(\"Bokeh: BokehJS failed to load within specified timeout.\");\n",
       "      window._bokeh_failed_load = true;\n",
       "    } else if (force !== true) {\n",
       "      var cell = $(document.getElementById(\"39581831-c6df-4e66-abcd-a94b09891063\")).parents('.cell').data().cell;\n",
       "      cell.output_area.append_execute_result(NB_LOAD_WARNING)\n",
       "    }\n",
       "\n",
       "  }\n",
       "\n",
       "  if (window._bokeh_is_loading === 0) {\n",
       "    console.log(\"Bokeh: BokehJS loaded, going straight to plotting\");\n",
       "    run_inline_js();\n",
       "  } else {\n",
       "    load_libs(js_urls, function() {\n",
       "      console.log(\"Bokeh: BokehJS plotting callback run at\", now());\n",
       "      run_inline_js();\n",
       "    });\n",
       "  }\n",
       "}(this));"
      ]
     },
     "metadata": {},
     "output_type": "display_data"
    }
   ],
   "source": [
    "from bokeh.plotting import figure, output_notebook, show\n",
    "output_notebook()\n",
    "from bokeh.charts import Area,Bar,BoxPlot,Donut,Dot,HeatMap,Histogram,Horizon,Line,Scatter\n",
    "from bokeh.charts import defaults\n",
    "\n",
    "defaults.plot_height= 300\n",
    "defaults.plot_width = 800\n",
    "defaults.tools='pan,wheel_zoom,reset,box_zoom'"
   ]
  },
  {
   "cell_type": "code",
   "execution_count": 273,
   "metadata": {
    "collapsed": false
   },
   "outputs": [
    {
     "data": {
      "text/html": [
       "\n",
       "\n",
       "    <div class=\"bk-root\">\n",
       "        <div class=\"bk-plotdiv\" id=\"87edfc8d-402c-41fc-a70b-7869c26c2869\"></div>\n",
       "    </div>\n",
       "<script type=\"text/javascript\">\n",
       "  \n",
       "  (function(global) {\n",
       "    function now() {\n",
       "      return new Date();\n",
       "    }\n",
       "  \n",
       "    var force = false;\n",
       "  \n",
       "    if (typeof (window._bokeh_onload_callbacks) === \"undefined\" || force === true) {\n",
       "      window._bokeh_onload_callbacks = [];\n",
       "      window._bokeh_is_loading = undefined;\n",
       "    }\n",
       "  \n",
       "  \n",
       "    \n",
       "    if (typeof (window._bokeh_timeout) === \"undefined\" || force === true) {\n",
       "      window._bokeh_timeout = Date.now() + 0;\n",
       "      window._bokeh_failed_load = false;\n",
       "    }\n",
       "  \n",
       "    var NB_LOAD_WARNING = {'data': {'text/html':\n",
       "       \"<div style='background-color: #fdd'>\\n\"+\n",
       "       \"<p>\\n\"+\n",
       "       \"BokehJS does not appear to have successfully loaded. If loading BokehJS from CDN, this \\n\"+\n",
       "       \"may be due to a slow or bad network connection. Possible fixes:\\n\"+\n",
       "       \"</p>\\n\"+\n",
       "       \"<ul>\\n\"+\n",
       "       \"<li>re-rerun `output_notebook()` to attempt to load from CDN again, or</li>\\n\"+\n",
       "       \"<li>use INLINE resources instead, as so:</li>\\n\"+\n",
       "       \"</ul>\\n\"+\n",
       "       \"<code>\\n\"+\n",
       "       \"from bokeh.resources import INLINE\\n\"+\n",
       "       \"output_notebook(resources=INLINE)\\n\"+\n",
       "       \"</code>\\n\"+\n",
       "       \"</div>\"}};\n",
       "  \n",
       "    function display_loaded() {\n",
       "      if (window.Bokeh !== undefined) {\n",
       "        document.getElementById(\"87edfc8d-402c-41fc-a70b-7869c26c2869\").textContent = \"BokehJS successfully loaded.\";\n",
       "      } else if (Date.now() < window._bokeh_timeout) {\n",
       "        setTimeout(display_loaded, 100)\n",
       "      }\n",
       "    }\n",
       "  \n",
       "    function run_callbacks() {\n",
       "      window._bokeh_onload_callbacks.forEach(function(callback) { callback() });\n",
       "      delete window._bokeh_onload_callbacks\n",
       "      console.info(\"Bokeh: all callbacks have finished\");\n",
       "    }\n",
       "  \n",
       "    function load_libs(js_urls, callback) {\n",
       "      window._bokeh_onload_callbacks.push(callback);\n",
       "      if (window._bokeh_is_loading > 0) {\n",
       "        console.log(\"Bokeh: BokehJS is being loaded, scheduling callback at\", now());\n",
       "        return null;\n",
       "      }\n",
       "      if (js_urls == null || js_urls.length === 0) {\n",
       "        run_callbacks();\n",
       "        return null;\n",
       "      }\n",
       "      console.log(\"Bokeh: BokehJS not loaded, scheduling load and callback at\", now());\n",
       "      window._bokeh_is_loading = js_urls.length;\n",
       "      for (var i = 0; i < js_urls.length; i++) {\n",
       "        var url = js_urls[i];\n",
       "        var s = document.createElement('script');\n",
       "        s.src = url;\n",
       "        s.async = false;\n",
       "        s.onreadystatechange = s.onload = function() {\n",
       "          window._bokeh_is_loading--;\n",
       "          if (window._bokeh_is_loading === 0) {\n",
       "            console.log(\"Bokeh: all BokehJS libraries loaded\");\n",
       "            run_callbacks()\n",
       "          }\n",
       "        };\n",
       "        s.onerror = function() {\n",
       "          console.warn(\"failed to load library \" + url);\n",
       "        };\n",
       "        console.log(\"Bokeh: injecting script tag for BokehJS library: \", url);\n",
       "        document.getElementsByTagName(\"head\")[0].appendChild(s);\n",
       "      }\n",
       "    };var element = document.getElementById(\"87edfc8d-402c-41fc-a70b-7869c26c2869\");\n",
       "    if (element == null) {\n",
       "      console.log(\"Bokeh: ERROR: autoload.js configured with elementid '87edfc8d-402c-41fc-a70b-7869c26c2869' but no matching script tag was found. \")\n",
       "      return false;\n",
       "    }\n",
       "  \n",
       "    var js_urls = [];\n",
       "  \n",
       "    var inline_js = [\n",
       "      function(Bokeh) {\n",
       "        (function() {\n",
       "          var fn = function() {\n",
       "            var docs_json = {\"56a01768-176f-4716-bb8a-a1e6de96f517\":{\"roots\":{\"references\":[{\"attributes\":{\"location\":\"top_left\",\"plot\":{\"id\":\"27871a13-d2f8-4fe7-923c-dfae4e699aa6\",\"subtype\":\"Chart\",\"type\":\"Plot\"}},\"id\":\"3ee4bdd0-31b9-4b51-91c4-f4dcb53a6e63\",\"type\":\"Legend\"},{\"attributes\":{\"axis_label\":\"prof_profit_margin\",\"formatter\":{\"id\":\"7c7bf755-af45-4f49-beb2-eaefffe8a188\",\"type\":\"BasicTickFormatter\"},\"plot\":{\"id\":\"27871a13-d2f8-4fe7-923c-dfae4e699aa6\",\"subtype\":\"Chart\",\"type\":\"Plot\"},\"ticker\":{\"id\":\"81ae776b-e067-456e-bd90-9775a156de4b\",\"type\":\"BasicTicker\"}},\"id\":\"491f2cb5-ba61-4e17-87ec-b8ca9263d28d\",\"type\":\"LinearAxis\"},{\"attributes\":{\"callback\":null,\"plot\":{\"id\":\"27871a13-d2f8-4fe7-923c-dfae4e699aa6\",\"subtype\":\"Chart\",\"type\":\"Plot\"},\"tooltips\":[[\"liq_quick_ratio\",\"@weight\"]]},\"id\":\"7cc14751-65c8-43e5-b59a-5486f8e9febd\",\"type\":\"HoverTool\"},{\"attributes\":{\"data_source\":{\"id\":\"0eb900d8-d4c5-4e97-8b53-3a0e8fc95221\",\"type\":\"ColumnDataSource\"},\"glyph\":{\"id\":\"04883f8f-2926-407d-9899-156afa1ce929\",\"type\":\"Circle\"},\"hover_glyph\":null,\"nonselection_glyph\":null,\"selection_glyph\":null},\"id\":\"5fa0c66e-2ef3-4adf-8c45-dd6d5ce35ac5\",\"type\":\"GlyphRenderer\"},{\"attributes\":{\"axis_label\":\"liq_quick_ratio\",\"formatter\":{\"id\":\"a2622503-2240-4884-aaf2-1685f3cdb46a\",\"type\":\"BasicTickFormatter\"},\"plot\":{\"id\":\"27871a13-d2f8-4fe7-923c-dfae4e699aa6\",\"subtype\":\"Chart\",\"type\":\"Plot\"},\"ticker\":{\"id\":\"12b5a539-c19c-499f-83ac-f688923b3c28\",\"type\":\"BasicTicker\"}},\"id\":\"22767f65-4478-4fa7-8dc1-e3f07427fb41\",\"type\":\"LinearAxis\"},{\"attributes\":{\"plot\":null,\"text\":null},\"id\":\"980014f4-3e5b-4562-8a7d-f31504268224\",\"type\":\"Title\"},{\"attributes\":{\"active_drag\":\"auto\",\"active_scroll\":\"auto\",\"active_tap\":\"auto\",\"tools\":[{\"id\":\"7cc14751-65c8-43e5-b59a-5486f8e9febd\",\"type\":\"HoverTool\"}]},\"id\":\"845f8e55-8bc2-4852-a07b-ee5a9fdd971f\",\"type\":\"Toolbar\"},{\"attributes\":{\"dimension\":1,\"plot\":{\"id\":\"27871a13-d2f8-4fe7-923c-dfae4e699aa6\",\"subtype\":\"Chart\",\"type\":\"Plot\"},\"ticker\":{\"id\":\"81ae776b-e067-456e-bd90-9775a156de4b\",\"type\":\"BasicTicker\"}},\"id\":\"3a172ade-cd9d-4b9f-b017-af6c474414b9\",\"type\":\"Grid\"},{\"attributes\":{\"callback\":null,\"end\":1.3365,\"start\":-0.12150000000000001},\"id\":\"4f34a441-003a-4765-9915-c777926a7984\",\"type\":\"Range1d\"},{\"attributes\":{},\"id\":\"7c7bf755-af45-4f49-beb2-eaefffe8a188\",\"type\":\"BasicTickFormatter\"},{\"attributes\":{\"below\":[{\"id\":\"22767f65-4478-4fa7-8dc1-e3f07427fb41\",\"type\":\"LinearAxis\"}],\"css_classes\":null,\"left\":[{\"id\":\"491f2cb5-ba61-4e17-87ec-b8ca9263d28d\",\"type\":\"LinearAxis\"}],\"plot_height\":300,\"plot_width\":800,\"renderers\":[{\"id\":\"5fa0c66e-2ef3-4adf-8c45-dd6d5ce35ac5\",\"type\":\"GlyphRenderer\"},{\"id\":\"3ee4bdd0-31b9-4b51-91c4-f4dcb53a6e63\",\"type\":\"Legend\"},{\"id\":\"22767f65-4478-4fa7-8dc1-e3f07427fb41\",\"type\":\"LinearAxis\"},{\"id\":\"491f2cb5-ba61-4e17-87ec-b8ca9263d28d\",\"type\":\"LinearAxis\"},{\"id\":\"e8e6e292-f10a-4d22-80bb-2b18ac93faa9\",\"type\":\"Grid\"},{\"id\":\"3a172ade-cd9d-4b9f-b017-af6c474414b9\",\"type\":\"Grid\"}],\"title\":{\"id\":\"980014f4-3e5b-4562-8a7d-f31504268224\",\"type\":\"Title\"},\"tool_events\":{\"id\":\"2e597923-7fc4-4d67-9dc5-9483dd80b48c\",\"type\":\"ToolEvents\"},\"toolbar\":{\"id\":\"845f8e55-8bc2-4852-a07b-ee5a9fdd971f\",\"type\":\"Toolbar\"},\"x_mapper_type\":\"auto\",\"x_range\":{\"id\":\"d7ba432f-f369-4b03-99bc-769bab2840a6\",\"type\":\"Range1d\"},\"y_mapper_type\":\"auto\",\"y_range\":{\"id\":\"4f34a441-003a-4765-9915-c777926a7984\",\"type\":\"Range1d\"}},\"id\":\"27871a13-d2f8-4fe7-923c-dfae4e699aa6\",\"subtype\":\"Chart\",\"type\":\"Plot\"},{\"attributes\":{\"fill_alpha\":{\"value\":0.7},\"fill_color\":{\"value\":\"#f22c40\"},\"line_color\":{\"value\":\"#f22c40\"},\"size\":{\"units\":\"screen\",\"value\":8},\"x\":{\"field\":\"x_values\"},\"y\":{\"field\":\"y_values\"}},\"id\":\"04883f8f-2926-407d-9899-156afa1ce929\",\"type\":\"Circle\"},{\"attributes\":{},\"id\":\"a2622503-2240-4884-aaf2-1685f3cdb46a\",\"type\":\"BasicTickFormatter\"},{\"attributes\":{},\"id\":\"12b5a539-c19c-499f-83ac-f688923b3c28\",\"type\":\"BasicTicker\"},{\"attributes\":{\"callback\":null,\"end\":12.2375,\"start\":-1.1125},\"id\":\"d7ba432f-f369-4b03-99bc-769bab2840a6\",\"type\":\"Range1d\"},{\"attributes\":{},\"id\":\"2e597923-7fc4-4d67-9dc5-9483dd80b48c\",\"type\":\"ToolEvents\"},{\"attributes\":{\"callback\":null,\"column_names\":[\"x_values\",\"y_values\"],\"data\":{\"chart_index\":[null,null,null,null,null,null,null,null,null,null,null,null,null,null,null,null,null,null,null,null,null,null,null,null,null,null,null,null,null,null,null,null,null,null,null,null,null,null,null,null,null,null,null,null,null,null,null,null,null,null,null,null,null,null,null,null,null,null,null,null,null,null,null,null,null,null,null,null,null,null,null,null,null,null,null,null,null,null,null,null,null,null,null,null,null,null,null,null,null,null,null,null,null,null,null,null,null,null,null,null,null,null,null,null,null,null,null,null,null,null,null,null,null,null,null,null,null,null,null,null,null,null,null,null,null,null,null,null,null,null,null,null,null,null,null,null,null,null,null,null,null,null,null,null,null,null,null,null,null,null,null,null,null,null,null,null,null,null,null,null,null,null,null,null,null,null,null,null,null,null,null,null,null,null,null,null,null,null,null],\"x_values\":{\"__ndarray__\":\"zczMzMzM6D+4HoXrUbjSP2ZmZmZmZvQ/XI/C9Shc+j8zMzMzMzPfP8P1KFyPwv4/hetRuB6FAUAehetRuB4XQGZmZmZmZvA/KFyPwvUoAkBI4XoUrkf+P1yPwvUoXOE/exSuR+F63D8AAAAAAAAAAAAAAAAAAAAAAAAAAAAAAAAAAAAAAAAAAAAAAAAAAAAA61G4HoXrDUBI4XoUrscAQK5H4XoUru0/AAAAAAAAAADhehSuR+H2Pylcj8L1KAtAXI/C9Shc/T+amZmZmZn0P1yPwvUoXPM/AAAAAAAAAABSuB6F61EPQAAAAAAAAAAAcT0K16Nw6z/NzMzMzMzoP7kehetRuM4/AAAAAAAAAAAAAAAAAAAAAM3MzMzMzPc/PgrXo3A98z+F61G4HoXrPxWuR+F6FAFAAAAAAAAAAADYo3A9CtfvPwAAAAAAAAAAAAAAAAAAAAAAAAAAAAAAABSuR+F6FOw/R+F6FK5H2T8AAAAAAAAAAOB6FK5H4f4/zMzMzMzMvD+4HoXrUbjaPwAAAAAAAAAAXY/C9Shc+T/rUbgehevlPwAAAAAAAAAA61G4HoXr5z8ehetRuB4BQEjhehSuR/g/pHA9CtejAUCE61G4HoX+PwAAAAAAAAAAAAAAAAAA5j8AAAAAAAD2P+xRuB6F6+0/wvUoXI/C8j8AAAAAAAAAAAAAAAAAAAAAUrgehetR5j+5HoXrUbjkP5mZmZmZme0/AAAAAAAAAADNzMzMzMzxPx6F61G4HgdAXI/C9Shc9D8pXI/C9SjMP+xRuB6FKxBANDMzMzMzBUCF61G4HoUCQAAAAAAAAAAAMzMzMzMz6z/sUbgehevpP7gehetRuPM/FK5H4XoUzj8AAAAAAAAAAAAAAAAAAAAAKVyPwvUo7D9xPQrXo3DnPwAAAAAAAAAAAAAAAAAAAADC9Shcj8IGQMP1KFyPwvc/AAAAAAAA6D8AAAAAAAAAAPYoXI/C9ew/AAAAAAAAAADXo3A9CtfzP+F6FK5H4eA/w/UoXI/CAkBSuB6F61HYP0jhehSuxwhAAAAAAAAAAABwPQrXo3DxP6RwPQrXIwNACtejcD0K6T9SuB6F69EIQIXrUbgehec/PgrXo3A98T8+CtejcD3yPzQzMzMzM98/FK5H4XoU4D8AAAAAAAD0P0jhehSuR/4/AAAAAAAAAABI4XoUrkfRPwAAAAAAAAAAH4XrUbge8z97FK5H4Xr4P3sUrkfhevg/cD0K16Nw/z8pXI/C9SjxPwAAAAAAAAAA9ihcj8L15D+amZmZmZntPx+F61G4HvI/KVyPwvUo9T9xPQrXo3DlP83MzMzMzOI/CtejcD0K+T/NzMzMzMzzP3A9CtejcPY/zczMzMxMAkD2KFyPwvXqP3E9CtejcOk/R+F6FK5H6T89CtejcD3gP3A9CtejcPc/CtejcD0K6z/MzMzMzMzxPzQzMzMzM/U/ZmZmZmZm/T8AAAAAAAAAAAAAAAAAgANAH4XrUbge5T8AAAAAAAAAAAAAAAAAAAAAhetRuB6F8D8K16NwPQrrPwAAAAAAAAAA4XoUrkdhD0CamZmZmZnyPxSuR+F6lANAcT0K16Nw4z8AAAAAAAAAAM3MzMzMTAJAAAAAAABAJkDXo3A9Ctf6P+tRuB6F69k/AAAAAAAA+D8zMzMzMzP3P2ZmZmZmZvA/ZmZmZmZm/j8+CtejcL0EQFyPwvUoXPM/rkfhehSu8j9cj8L1KFz1PwAAAAAAAAAAAAAAAAAAAADMzMzMzMwKQEfhehSuR/U/zMzMzMzM6j/1KFyPwvXwP9ejcD0K1+E/CtejcD0K9D9cj8L1KFzjPwAAAAAAAAAAXI/C9Shc6z+QwvUoXI/oP9ejcD0K1/c/mpmZmZmZ4T/hehSuR+H2Pw==\",\"dtype\":\"float64\",\"shape\":[179]},\"y_values\":{\"__ndarray__\":\"mpmZmZmZuT/iehSuR+GqPylcj8L1KMw/pHA9CtejyD97FK5H4XpkP/YoXI/C9cA/cT0K16NwvT/D9Shcj8LNPwrXo3A9Cpc/rkfhehSutz+ZmZmZmZnBPwvXo3A9Crc/CtejcD0Ktz8AAAAAAADAP9ejcD0K17M/MzMzMzMz0z9SuB6F61GoP5DC9Shcj7I/zszMzMzMxD+PwvUoXI/CPwAAAAAAAMA/pHA9CtejsD9I4XoUrkexP3sUrkfhesQ/zszMzMzMvD9TuB6F61G4Pz4K16NwPcI/SOF6FK5HyT8K16NwPQrTP1yPwvUoXL8/cT0K16NwxT+4HoXrUbh+P3sUrkfhepQ/pHA9CtejoD/MzMzMzMy8P0fhehSuR+U/zszMzMzM1D/2KFyPwvW4P0jhehSuR8E/MzMzMzMzwz9xPQrXo3CtPwAAAAAAAAAA9ihcj8L12D8AAAAAAAAAAMP1KFyPwqU/7FG4HoXrwT/Xo3A9CtfDPzMzMzMzM7M/zMzMzMzMvD/iehSuR+GqP/YoXI/C9cA/exSuR+F60D/D9Shcj8K1P/YoXI/C9cg/CtejcD0Klz8AAAAAAADAP87MzMzMzLw/pHA9CtejwD+F61G4HoXTP65H4XoUrsc/w/UoXI/CpT+F61G4HoXDPypcj8L1KJw/AAAAAAAAsD8L16NwPQrPP5qZmZmZmck/wvUoXI/CpT+4HoXrUbh+P3sUrkfheqQ/KlyPwvUoxD8L16NwPQqnP4brUbgehdM/zczMzMzMxD+G61G4HoW7P4/C9Shcj8o/SOF6FK5HwT8AAAAAAADQP7gehetRuNI/AAAAAAAAwD9I4XoUrkfdP+xRuB6F66E/UbgehetRqD8oXI/C9SisP8zMzMzMzLw/UrgehetRwD8+CtejcD26P6RwPQrXo8g/9ihcj8L12D8ehetRuB61Px+F61G4HrU/16NwPQrXsz/sUbgeheuRP6RwPQrXo7A/H4XrUbgexT/NzMzMzMzEP3sUrkfhepQ/cT0K16Nw8z/Xo3A9CtezP/YoXI/C9cg/AAAAAAAAAADXo3A9CtfDP5qZmZmZmbk/7FG4HoXroT/2KFyPwvXAP6RwPQrXo6A/uR6F61G4rj/Yo3A9CtfTP4/C9Shcj8I/pHA9CtejwD+4HoXrUbi+P9ejcD0K17M/uB6F61G4zj+4HoXrUbiuP+xRuB6F67E/XY/C9Shcxz+4HoXrUbjGP7gehetRuMY/SOF6FK5HsT9nZmZmZma2P2ZmZmZmZsY/4noUrkfhqj+kcD0K16PAPypcj8L1KLw/cD0K16NwvT9I4XoUrkexP+F6FK5H4bo/UrgehetRqD80MzMzMzPXP7gehetRuL4/7FG4HoXr1T/Xo3A9CtezP65H4XoUrrc/16NwPQrXwz+F61G4HoW7Pz4K16NwPbo/UrgehetRuD+5HoXrUbi+PwvXo3A9Cs8/pHA9CtejsD/NzMzMzMzoP8zMzMzMzMQ/zMzMzMzMvD/NzMzMzMzMPxSuR+F6FMY/Z2ZmZmZmtj+amZmZmZmpPwAAAAAAAAAAwvUoXI/CzT8AAAAAAACwP6RwPQrXo7A/pHA9CtejsD/2KFyPwvXiP6RwPQrXo8A/rkfhehSuzz/C9Shcj8KlP1K4HoXrUcA/rkfhehSuxz8K16NwPQq3P+J6FK5H4cI/NDMzMzMzsz9SuB6F61HAP+xRuB6F65E/2KNwPQrXsz/2KFyPwvW4P3E9CtejcNE/AAAAAAAAAACkcD0K16PQP5DC9Shcj8I/exSuR+F6pD8ehetRuB7FP3A9CtejcL0/exSuR+F6xD+PwvUoXI/SP8zMzMzMzMw/4noUrkfhyj8K16NwPQq3P+xRuB6F6+M/pHA9CtejsD/hehSuR+G6Pw==\",\"dtype\":\"float64\",\"shape\":[179]}}},\"id\":\"0eb900d8-d4c5-4e97-8b53-3a0e8fc95221\",\"type\":\"ColumnDataSource\"},{\"attributes\":{},\"id\":\"81ae776b-e067-456e-bd90-9775a156de4b\",\"type\":\"BasicTicker\"},{\"attributes\":{\"plot\":{\"id\":\"27871a13-d2f8-4fe7-923c-dfae4e699aa6\",\"subtype\":\"Chart\",\"type\":\"Plot\"},\"ticker\":{\"id\":\"12b5a539-c19c-499f-83ac-f688923b3c28\",\"type\":\"BasicTicker\"}},\"id\":\"e8e6e292-f10a-4d22-80bb-2b18ac93faa9\",\"type\":\"Grid\"}],\"root_ids\":[\"27871a13-d2f8-4fe7-923c-dfae4e699aa6\"]},\"title\":\"Bokeh Application\",\"version\":\"0.12.4\"}};\n",
       "            var render_items = [{\"docid\":\"56a01768-176f-4716-bb8a-a1e6de96f517\",\"elementid\":\"87edfc8d-402c-41fc-a70b-7869c26c2869\",\"modelid\":\"27871a13-d2f8-4fe7-923c-dfae4e699aa6\"}];\n",
       "            \n",
       "            Bokeh.embed.embed_items(docs_json, render_items);\n",
       "          };\n",
       "          if (document.readyState != \"loading\") fn();\n",
       "          else document.addEventListener(\"DOMContentLoaded\", fn);\n",
       "        })();\n",
       "      },\n",
       "      function(Bokeh) {\n",
       "      }\n",
       "    ];\n",
       "  \n",
       "    function run_inline_js() {\n",
       "      \n",
       "      if ((window.Bokeh !== undefined) || (force === true)) {\n",
       "        for (var i = 0; i < inline_js.length; i++) {\n",
       "          inline_js[i](window.Bokeh);\n",
       "        }if (force === true) {\n",
       "          display_loaded();\n",
       "        }} else if (Date.now() < window._bokeh_timeout) {\n",
       "        setTimeout(run_inline_js, 100);\n",
       "      } else if (!window._bokeh_failed_load) {\n",
       "        console.log(\"Bokeh: BokehJS failed to load within specified timeout.\");\n",
       "        window._bokeh_failed_load = true;\n",
       "      } else if (force !== true) {\n",
       "        var cell = $(document.getElementById(\"87edfc8d-402c-41fc-a70b-7869c26c2869\")).parents('.cell').data().cell;\n",
       "        cell.output_area.append_execute_result(NB_LOAD_WARNING)\n",
       "      }\n",
       "  \n",
       "    }\n",
       "  \n",
       "    if (window._bokeh_is_loading === 0) {\n",
       "      console.log(\"Bokeh: BokehJS loaded, going straight to plotting\");\n",
       "      run_inline_js();\n",
       "    } else {\n",
       "      load_libs(js_urls, function() {\n",
       "        console.log(\"Bokeh: BokehJS plotting callback run at\", now());\n",
       "        run_inline_js();\n",
       "      });\n",
       "    }\n",
       "  }(this));\n",
       "</script>"
      ]
     },
     "metadata": {},
     "output_type": "display_data"
    }
   ],
   "source": [
    "from bokeh.models import HoverTool\n",
    "from bokeh.models import ColumnDataSource    \n",
    "\n",
    "source = ColumnDataSource(financedfaverage)\n",
    "scatter = Scatter(financedfaverage, x=\"liq_quick_ratio\", y=\"prof_profit_margin\",tools='hover')\n",
    "hover = scatter.select(dict(type=HoverTool))\n",
    "hover.tooltips = [(\"liq_quick_ratio\", \"@weight\")]\n",
    "\n",
    "\n",
    "show(scatter)"
   ]
  },
  {
   "cell_type": "markdown",
   "metadata": {},
   "source": [
    "# Predicting Bankcruptcy"
   ]
  },
  {
   "cell_type": "code",
   "execution_count": 204,
   "metadata": {
    "collapsed": false
   },
   "outputs": [
    {
     "data": {
      "text/plain": [
       "Index([u'company', u'period_endings', u'liq_current_ratio', u'liq_quick_ratio',\n",
       "       u'liq_cash_ratio', u'prof_gross_margin', u'prof_operating_margin',\n",
       "       u'prof_profit_margin', u'total_revenue', u'gross_profit', u'net_income',\n",
       "       u'total_assets', u'total_liabilities', u'total_equity', u'fixed_assets',\n",
       "       u'goodwill', u'net_cash_flow'],\n",
       "      dtype='object')"
      ]
     },
     "execution_count": 204,
     "metadata": {},
     "output_type": "execute_result"
    }
   ],
   "source": [
    "financedf.columns"
   ]
  },
  {
   "cell_type": "markdown",
   "metadata": {},
   "source": [
    "The original Z-score formula was as follows:[1]\n",
    "\n",
    "Z = 1.2X1 + 1.4X2 + 3.3X3 + 0.6X4 + 1.0X5.\n",
    "\n",
    "* X1 = Working Capital / Total Assets. Measures liquid assets in relation to the size of the company.\n",
    "* X2 = Retained Earnings / Total Assets. Measures profitability that reflects the company's age and earning power.\n",
    "* X3 = Earnings Before Interest and Taxes / Total Assets. Measures operating efficiency apart from tax and leveraging factors. It recognizes operating earnings as being important to long-term viability.\n",
    "* X4 = Market Value of Equity / Book Value of Total Liabilities. Adds market dimension that can show up security price fluctuation as a possible red flag.\n",
    "* X5 = Sales / Total Assets. Standard measure for total asset turnover (varies greatly from industry to industry).\n",
    "\n",
    "Altman found that the ratio profile for the bankrupt group fell at -0.25 avg, and for the non-bankrupt group at +4.48 avg."
   ]
  },
  {
   "cell_type": "markdown",
   "metadata": {},
   "source": [
    "# Detecting Frauds / Manipulation"
   ]
  },
  {
   "cell_type": "markdown",
   "metadata": {
    "collapsed": true
   },
   "source": [
    "## What is the 'Beneish Model'\n",
    "The Beneish model is a mathematical model that uses financial ratios and eight variables to identify whether a company has manipulated its earnings. The variables are constructed from the data in the company's financial statements and, once calculated, create an M-Score to describe the degree to which the earnings have been manipulated.\n",
    "\n",
    "## BREAKING DOWN 'Beneish Model'\n",
    "The eight variables are:\n",
    "\n",
    "1. DSRI - Days' sales in receivable index\n",
    "2. GMI - Gross margin index\n",
    "3. AQI - Asset quality index\n",
    "4. SGI - Sales growth index\n",
    "5. DEPI - Depreciation index\n",
    "6. SGAI - Sales and general and administrative expenses index\n",
    "7. LVGI - Leverage index\n",
    "8. TATA - Total accruals to total assets\n",
    "\n",
    "#### M = -4.84 + 0.92 DSRI + 0.528 GMI + 0.404 AQI + 0.892 SGI + 0.115 DEPI – 0.172 SGAI + 4.679 TATA – 0.327 LVGI\n",
    "\n",
    "Once calculated, the eight variables are combined together to achieve an M-Score for the company. An M-Score of less than -2.22 suggests that the company will not be a manipulator. An M-Score of greater than -2.22 signals that the company is likely to be a manipulator."
   ]
  },
  {
   "cell_type": "code",
   "execution_count": null,
   "metadata": {
    "collapsed": true
   },
   "outputs": [],
   "source": []
  }
 ],
 "metadata": {
  "kernelspec": {
   "display_name": "Python 2",
   "language": "python",
   "name": "python2"
  },
  "language_info": {
   "codemirror_mode": {
    "name": "ipython",
    "version": 2
   },
   "file_extension": ".py",
   "mimetype": "text/x-python",
   "name": "python",
   "nbconvert_exporter": "python",
   "pygments_lexer": "ipython2",
   "version": "2.7.11"
  }
 },
 "nbformat": 4,
 "nbformat_minor": 0
}
