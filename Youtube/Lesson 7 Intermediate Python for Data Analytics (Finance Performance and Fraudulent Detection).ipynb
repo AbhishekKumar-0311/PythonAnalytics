{
 "cells": [
  {
   "cell_type": "markdown",
   "metadata": {},
   "source": [
    "# Lesson 7 Intermediate Python for Data Analytics (Finance Performance and Fraudulent Detection)\n",
    "# Introduction\n",
    "\n",
    "In here we are going to try to scrape financial data:\n",
    "* Income statement\n",
    "* Balance sheet\n",
    "* Cashflows"
   ]
  },
  {
   "cell_type": "markdown",
   "metadata": {},
   "source": [
    "## Objective\n",
    "\n",
    "* To use twippy (Python Library linked with Twitter) to load data from Twitter\n",
    "* Setting up Twitter Developer account linked to profile\n",
    "* Initialize Connections and Extracting the presidential election tweets\n",
    "* To explore Presidential Election Trump vs Hillary from Twitter data \n",
    "    * Viewing the data\n",
    "    * Search Term Analysis\n",
    "    * Exploring Twitter Trends\n",
    "* Sentimental Analysis\n",
    "    * Generating Sentimental Analysis\n",
    "    * Plotting out Sentimental Analysis\n",
    "    * How about the news media. How often do they mention the election candidates?\n",
    "* Topic Analysis\n",
    "    * Generating Topic with LDA\n",
    "    * Plotting out Topic Analysis\n",
    "* Challenges:\n",
    "    * Analysing fake news\n",
    "    * Analysing geographic locations sentiments given charts\n",
    "    * Applying these techniques for companies, commodities, and stocks\n",
    "* Next lesson:\n",
    "    * Lesson 6 Basic Python for Data Analytics (Optimization Model for Operations Management)"
   ]
  },
  {
   "cell_type": "markdown",
   "metadata": {},
   "source": [
    "# Scraping Wikipedia SP500 Data Using Beautiful Soup"
   ]
  },
  {
   "cell_type": "code",
   "execution_count": 56,
   "metadata": {
    "collapsed": false
   },
   "outputs": [],
   "source": [
    "import bs4 as bs\n",
    "import pickle\n",
    "import requests\n",
    "\n",
    "def save_sp500_tickers():\n",
    "    resp = requests.get('http://en.wikipedia.org/wiki/List_of_S%26P_500_companies')\n",
    "    soup = bs.BeautifulSoup(resp.text, 'lxml')\n",
    "    table = soup.find('table', {'class': 'wikitable sortable'})\n",
    "    tickers = []\n",
    "    for row in table.findAll('tr')[1:]:\n",
    "        ticker = row.findAll('td')[0].text\n",
    "        tickers.append(ticker.lower())\n",
    "        \n",
    "    return tickers\n",
    "\n",
    "tickers = save_sp500_tickers()"
   ]
  },
  {
   "cell_type": "code",
   "execution_count": 58,
   "metadata": {
    "collapsed": false
   },
   "outputs": [
    {
     "data": {
      "text/plain": [
       "[u'mmm', u'abt', u'abbv', u'acn', u'atvi']"
      ]
     },
     "execution_count": 58,
     "metadata": {},
     "output_type": "execute_result"
    }
   ],
   "source": [
    "tickers[:5]"
   ]
  },
  {
   "cell_type": "markdown",
   "metadata": {},
   "source": [
    "# Scraping Financial Data\n",
    "Using Selenium to scrape \n",
    "http://www.nasdaq.com/symbol/aapl/financials?query=income-statement&data=quarterly"
   ]
  },
  {
   "cell_type": "markdown",
   "metadata": {},
   "source": [
    "## Repeat the scraping for multiple websites"
   ]
  },
  {
   "cell_type": "code",
   "execution_count": 4,
   "metadata": {
    "collapsed": false
   },
   "outputs": [],
   "source": [
    "import pandas as pd\n",
    "from numpy import nan\n",
    "from selenium import webdriver\n",
    "from selenium.webdriver.common.by import By\n",
    "from selenium.webdriver.support.ui import WebDriverWait\n",
    "from selenium.webdriver.support import expected_conditions as EC\n",
    "from selenium.webdriver.chrome.options import Options"
   ]
  },
  {
   "cell_type": "code",
   "execution_count": 10,
   "metadata": {
    "collapsed": true
   },
   "outputs": [],
   "source": [
    "## return nan values if elements not found, and convert the webelements to text\n",
    "def get_elements(xpath,browser):\n",
    "    ## find the elements\n",
    "    elements = browser.find_elements_by_xpath(xpath)\n",
    "    ## if any are missing, return all nan values\n",
    "    if len(elements) != 4:\n",
    "        return [nan] * 4\n",
    "    ## otherwise, return just the text of the element \n",
    "    else:\n",
    "        text = []\n",
    "        for e in elements:\n",
    "            text.append(e.text)\n",
    "        return text"
   ]
  },
  {
   "cell_type": "code",
   "execution_count": 60,
   "metadata": {
    "collapsed": true
   },
   "outputs": [],
   "source": [
    "import numpy as np\n",
    "def clean_up(period,df):\n",
    "    dollarlist = [u'total_revenue', u'gross_profit',u'net_income', u'total_assets', u'total_liabilities', u'total_equity','net_cash_flow'] \n",
    "    df.loc[:,dollarlist] = df.loc[:,dollarlist].replace( '[\\$,)]','', regex=True ).replace( '[(]','-',   regex=True ).astype(int)\n",
    "    if period=='yearly':\n",
    "        ratiolist = [u'liq_current_ratio', u'liq_quick_ratio', u'liq_cash_ratio',\n",
    "               u'prof_gross_margin', u'prof_operating_margin', u'prof_profit_margin']\n",
    "        df.loc[:,ratiolist] = df.loc[:,ratiolist].apply(lambda x: x.str.replace('%','')).astype(np.float)/100\n",
    "    return df"
   ]
  },
  {
   "cell_type": "code",
   "execution_count": 61,
   "metadata": {
    "collapsed": true
   },
   "outputs": [],
   "source": [
    "# Yearly\n",
    "\n",
    "def scrapenasdaq(period,symbols,csv_path):\n",
    "    \n",
    "    chrome_options = Options()\n",
    "    chrome_options.add_argument(\"--disable-extensions\")\n",
    "\n",
    "    ## launch the Chrome browser (this will generate a window)\n",
    "    my_path = \"chromedriver.exe\"\n",
    "    browser = webdriver.Chrome(executable_path=my_path,chrome_options=chrome_options)\n",
    "    browser.maximize_window()\n",
    "    df = pd.DataFrame()\n",
    "    \n",
    "    financials_xpath = \"//tbody/tr/th[text() = '{}']/../td[contains(text(), '$')]\"\n",
    "    ratios_xpath = \"//tbody/tr/th[text() = '{}']/../td[contains(text(), '%')]\"\n",
    "\n",
    "#     Create yearly scraping or quarterly scraping\n",
    "    if period == 'yearly':\n",
    "        url_form = \"http://www.nasdaq.com/symbol/{}/financials?query={}\" \n",
    "    else:\n",
    "        url_form = \"http://www.nasdaq.com/symbol/{}/financials?query={}&data=quarterly\" \n",
    "\n",
    "    for i, symbol in enumerate(symbols):\n",
    "        try:\n",
    "            ## navigate to income statement quarterly page    \n",
    "            url = url_form.format(symbol, \"income-statement\")\n",
    "            browser.get(url)\n",
    "\n",
    "            company_xpath = \"//h1[contains(text(), 'Company Financials')]\"\n",
    "            company = WebDriverWait(browser, 10).until(EC.presence_of_element_located((By.XPATH, company_xpath))).text\n",
    "            \n",
    "            period_endings=\"\"\n",
    "            quarters = \"\"\n",
    "            quarter_endings = \"\"\n",
    "            if period=='yearly':\n",
    "                period_endings_xpath = \"//thead/tr[th[1][text() = 'Period Ending:']]/th[position()>=3]\"\n",
    "                period_endings = get_elements(period_endings_xpath,browser)\n",
    "            else:\n",
    "                quarters_xpath = \"//thead/tr[th[1][text() = 'Quarter:']]/th[position()>=3]\"\n",
    "                quarters = get_elements(quarters_xpath,browser)\n",
    "\n",
    "                quarter_endings_xpath = \"//thead/tr[th[1][text() = 'Quarter Ending:']]/th[position()>=3]\"\n",
    "                quarter_endings = get_elements(quarter_endings_xpath,browser)\n",
    "                         \n",
    "            total_revenue = get_elements(financials_xpath.format(\"Total Revenue\"),browser)\n",
    "            gross_profit = get_elements(financials_xpath.format(\"Gross Profit\"),browser)\n",
    "            net_income = get_elements(financials_xpath.format(\"Net Income\"),browser)\n",
    "\n",
    "            ## navigate to balance sheet quarterly page \n",
    "            url = url_form.format(symbol, \"balance-sheet\")\n",
    "            browser.get(url)\n",
    "\n",
    "            total_assets = get_elements(financials_xpath.format(\"Total Assets\"),browser)\n",
    "            total_liabilities = get_elements(financials_xpath.format(\"Total Liabilities\"),browser)\n",
    "            total_equity = get_elements(financials_xpath.format(\"Total Equity\"),browser)\n",
    "\n",
    "            ## navigate to cash flow quarterly page \n",
    "            url = url_form.format(symbol, \"cash-flow\")\n",
    "            browser.get(url)\n",
    "\n",
    "            net_cash_flow = get_elements(financials_xpath.format(\"Net Cash Flow\"),browser)\n",
    "\n",
    "            \n",
    "            ## navigate to ratios page \n",
    "            if period=='yearly':\n",
    "                url = url_form.format(symbol, \"ratios\")\n",
    "                browser.get(url)\n",
    "\n",
    "                liq_current_ratio = get_elements(ratios_xpath.format(\"Current Ratio\"),browser)\n",
    "                liq_quick_ratio = get_elements(ratios_xpath.format(\"Quick Ratio\"),browser)\n",
    "                liq_cash_ratio = get_elements(ratios_xpath.format(\"Cash Ratio\"),browser)\n",
    "                prof_gross_margin = get_elements(ratios_xpath.format(\"Gross Margin\"),browser)\n",
    "                prof_operating_margin = get_elements(ratios_xpath.format(\"Operating Margin\"),browser)\n",
    "                prof_profit_margin = get_elements(ratios_xpath.format(\"Profit Margin\"),browser)\n",
    "            \n",
    "            ## fill the datarame with the scraped data, 4 rows per company\n",
    "            for j in range(4):  \n",
    "                row = i*4 + j\n",
    "                df.loc[row, 'company'] = company\n",
    "                \n",
    "                if period == 'yearly':\n",
    "                    df.loc[row, 'period_endings'] = period_endings[j]\n",
    "                    df.loc[row, 'liq_current_ratio'] = liq_current_ratio[j]\n",
    "                    df.loc[row, 'liq_quick_ratio'] = liq_quick_ratio[j]\n",
    "                    df.loc[row, 'liq_cash_ratio'] = liq_cash_ratio[j]\n",
    "                    df.loc[row, 'prof_gross_margin'] = prof_gross_margin[j]\n",
    "                    df.loc[row, 'prof_operating_margin'] = prof_operating_margin[j]            \n",
    "                    df.loc[row, 'prof_profit_margin'] = prof_profit_margin[j]\n",
    "                else:\n",
    "                    df.loc[row, 'quarter'] = quarters[j]\n",
    "                    df.loc[row, 'quarter_ending'] = quarter_endings[j]\n",
    "                \n",
    "                df.loc[row, 'total_revenue'] = total_revenue[j]\n",
    "                df.loc[row, 'gross_profit'] = gross_profit[j]\n",
    "                df.loc[row, 'net_income'] = net_income[j]\n",
    "                df.loc[row, 'total_assets'] = total_assets[j]\n",
    "                df.loc[row, 'total_liabilities'] = total_liabilities[j]\n",
    "                df.loc[row, 'total_equity'] = total_equity[j]\n",
    "                df.loc[row, 'net_cash_flow'] = net_cash_flow[j]\n",
    "        except IOError as e: \n",
    "            print(e)\n",
    "    browser.quit()\n",
    "    df = clean_up(period,df)\n",
    "    \n",
    "    ## create a csv file in our working directory with our scraped data\n",
    "    df.to_csv(csv_path, index=False)\n",
    "    \n",
    "    return df"
   ]
  },
  {
   "cell_type": "code",
   "execution_count": 63,
   "metadata": {
    "collapsed": false
   },
   "outputs": [
    {
     "name": "stdout",
     "output_type": "stream",
     "text": [
      "Welcome to symbol enumerate\n",
      "Hi i am here\n",
      "Hi i am at yearly\n",
      "hi I am out\n",
      "('Quarter', [u'4th', u'3rd', u'2nd', u'1st'])\n",
      "('Quarter endings', [u'12/31/2016', u'9/30/2016', u'6/30/2016', u'3/31/2016'])\n"
     ]
    },
    {
     "data": {
      "text/html": [
       "<div>\n",
       "<table border=\"1\" class=\"dataframe\">\n",
       "  <thead>\n",
       "    <tr style=\"text-align: right;\">\n",
       "      <th></th>\n",
       "      <th>company</th>\n",
       "      <th>quarter</th>\n",
       "      <th>quarter_ending</th>\n",
       "      <th>total_revenue</th>\n",
       "      <th>gross_profit</th>\n",
       "      <th>net_income</th>\n",
       "      <th>total_assets</th>\n",
       "      <th>total_liabilities</th>\n",
       "      <th>total_equity</th>\n",
       "      <th>net_cash_flow</th>\n",
       "    </tr>\n",
       "  </thead>\n",
       "  <tbody>\n",
       "    <tr>\n",
       "      <th>0</th>\n",
       "      <td>AMZN Company Financials</td>\n",
       "      <td>4th</td>\n",
       "      <td>12/31/2016</td>\n",
       "      <td>43741000</td>\n",
       "      <td>14782000</td>\n",
       "      <td>749000</td>\n",
       "      <td>83402000</td>\n",
       "      <td>64117000</td>\n",
       "      <td>19285000</td>\n",
       "      <td>5678000</td>\n",
       "    </tr>\n",
       "    <tr>\n",
       "      <th>1</th>\n",
       "      <td>AMZN Company Financials</td>\n",
       "      <td>3rd</td>\n",
       "      <td>9/30/2016</td>\n",
       "      <td>32714000</td>\n",
       "      <td>11455000</td>\n",
       "      <td>252000</td>\n",
       "      <td>70897000</td>\n",
       "      <td>53115000</td>\n",
       "      <td>17782000</td>\n",
       "      <td>1135000</td>\n",
       "    </tr>\n",
       "    <tr>\n",
       "      <th>2</th>\n",
       "      <td>AMZN Company Financials</td>\n",
       "      <td>2nd</td>\n",
       "      <td>6/30/2016</td>\n",
       "      <td>30404000</td>\n",
       "      <td>11223000</td>\n",
       "      <td>857000</td>\n",
       "      <td>65076000</td>\n",
       "      <td>48538000</td>\n",
       "      <td>16538000</td>\n",
       "      <td>51000</td>\n",
       "    </tr>\n",
       "    <tr>\n",
       "      <th>3</th>\n",
       "      <td>AMZN Company Financials</td>\n",
       "      <td>1st</td>\n",
       "      <td>3/31/2016</td>\n",
       "      <td>29128000</td>\n",
       "      <td>10262000</td>\n",
       "      <td>513000</td>\n",
       "      <td>61128000</td>\n",
       "      <td>46372000</td>\n",
       "      <td>14756000</td>\n",
       "      <td>-3420000</td>\n",
       "    </tr>\n",
       "  </tbody>\n",
       "</table>\n",
       "</div>"
      ],
      "text/plain": [
       "                   company quarter quarter_ending total_revenue gross_profit  \\\n",
       "0  AMZN Company Financials     4th     12/31/2016      43741000     14782000   \n",
       "1  AMZN Company Financials     3rd      9/30/2016      32714000     11455000   \n",
       "2  AMZN Company Financials     2nd      6/30/2016      30404000     11223000   \n",
       "3  AMZN Company Financials     1st      3/31/2016      29128000     10262000   \n",
       "\n",
       "  net_income total_assets total_liabilities total_equity net_cash_flow  \n",
       "0     749000     83402000          64117000     19285000       5678000  \n",
       "1     252000     70897000          53115000     17782000       1135000  \n",
       "2     857000     65076000          48538000     16538000         51000  \n",
       "3     513000     61128000          46372000     14756000      -3420000  "
      ]
     },
     "execution_count": 63,
     "metadata": {},
     "output_type": "execute_result"
    }
   ],
   "source": [
    "%%time\n",
    "scrapenasdaq('quarterly',['amzn'],'output.csv')"
   ]
  },
  {
   "cell_type": "markdown",
   "metadata": {},
   "source": [
    "# Generating Financial Ratios data"
   ]
  },
  {
   "cell_type": "markdown",
   "metadata": {},
   "source": [
    "A ratio analysis is a quantitative analysis of information contained in a company’s financial statements. Ratio analysis is based on line items in financial statements like the balance sheet, income statement and cash flow statement; the ratios of one item – or a combination of items - to another item or combination are then calculated. Ratio analysis is used to evaluate various aspects of a company’s operating and financial performance such as its efficiency, liquidity, profitability and solvency.\n",
    "\n",
    "Read more: Ratio Analysis Definition | Investopedia http://www.investopedia.com/terms/r/ratioanalysis.asp#ixzz4ZzYSyt15 \n",
    "Follow us: Investopedia on Facebook \n",
    "\n",
    "http://www.investorguide.com/article/13690/list-of-important-financial-ratios-for-stock-analysis/"
   ]
  },
  {
   "cell_type": "code",
   "execution_count": null,
   "metadata": {
    "collapsed": true
   },
   "outputs": [],
   "source": []
  }
 ],
 "metadata": {
  "kernelspec": {
   "display_name": "Python 2",
   "language": "python",
   "name": "python2"
  },
  "language_info": {
   "codemirror_mode": {
    "name": "ipython",
    "version": 2
   },
   "file_extension": ".py",
   "mimetype": "text/x-python",
   "name": "python",
   "nbconvert_exporter": "python",
   "pygments_lexer": "ipython2",
   "version": "2.7.11"
  }
 },
 "nbformat": 4,
 "nbformat_minor": 0
}
