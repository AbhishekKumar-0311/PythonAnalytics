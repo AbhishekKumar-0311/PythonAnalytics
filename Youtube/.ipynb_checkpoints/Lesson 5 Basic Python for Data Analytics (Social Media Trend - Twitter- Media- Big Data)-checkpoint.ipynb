{
 "cells": [
  {
   "cell_type": "markdown",
   "metadata": {},
   "source": [
    "# Lesson 5 Basic Python for Data Analytics (Social Media Trend - Twitter- Media- Big Data)\n",
    "# Introduction\n",
    "\n",
    "During the US presidential election, Trump and Hillary have become the most talked candidates over the others. \n",
    "The US Presidential Primaries were nothing short of a news sensation. Many news and social media generated fads over who are going to win the presidential election. Now in 2017, we have the hindsight of Trump winning the presidential election. \n",
    "\n",
    "However, could we have predicted his winning earlier by using twitter analysis?\n",
    "Could we apply these to others? Let's say, whether Samsung and Apple going to win in the future?\n",
    "How open are netizens to the walls that Trump going to built? Are they running to China to rely on business opportunities?\n",
    "\n",
    "Let's find out whether we can do these. But for now, let's analyse the presidential election\n"
   ]
  },
  {
   "cell_type": "markdown",
   "metadata": {},
   "source": [
    "# <font color='red'>Notice:</font>\n",
    "\n",
    "As I have found recently that Twitter only allows historical data on administration and financial fee case. I decided to analyse these presidential election post election using saved data who I received from data. However, this data method can still be used for other election such as Indonesian presidential election (which is happening soon -- Jan & Feb 2017. \n",
    "\n",
    "If you are still interested on the real analysis on the USA presidential election 2016, feel free to open my inspiration link here: http://datadrivenjournalism.net/news_and_analysis/scraping_27000_tweets_for_presidential_sentiment_analysis\n",
    "\n",
    "For more information on how you can grab Twitter Historical Data (more than a week past). Feel free to retrieve from here\n",
    "https://blog.gnip.com/tag/historical-twitter-data/\n"
   ]
  },
  {
   "cell_type": "markdown",
   "metadata": {},
   "source": [
    "## Objective\n",
    "\n",
    "* To use twippy (Python Library linked with Twitter) to load data from Twitter\n",
    "* Setting up Twitter Developer account linked to profile\n",
    "* Initialize Connections and Extracting the presidential election tweets\n",
    "* To explore Presidential Election Trump vs Hillary from Twitter data \n",
    "    * Viewing the data\n",
    "    * Search Term Analysis\n",
    "    * Exploring Twitter Trends\n",
    "* Sentimental Analysis\n",
    "    * Generating Sentimental Analysis\n",
    "    * Plotting out Sentimental Analysis\n",
    "    * How about the news media. How often do they mention the election candidates?\n",
    "* Topic Analysis\n",
    "    * Generating Topic with LDA\n",
    "    * Plotting out Topic Analysis\n",
    "* Challenges:\n",
    "    * Analysing fake news\n",
    "    * Analysing geographic locations sentiments given charts\n",
    "    * Applying these techniques for companies, commodities, and stocks\n",
    "* Next lesson:\n",
    "    * Lesson 6 Basic Python for Data Analytics (Optimization Model for Operations Management)"
   ]
  },
  {
   "cell_type": "markdown",
   "metadata": {},
   "source": [
    "# Setting up Twitter Developer account linked to profile\n",
    "https://apps.twitter.com/"
   ]
  },
  {
   "cell_type": "markdown",
   "metadata": {},
   "source": [
    "## Initialize Connection"
   ]
  },
  {
   "cell_type": "code",
   "execution_count": 1,
   "metadata": {
    "collapsed": false
   },
   "outputs": [],
   "source": [
    "import tweepy\n",
    "import json\n",
    "import time\n",
    "\n",
    "#consumer key, consumer secret, access token, access secret.\n",
    "ckey=\"tLolJ53qD8C7MzxWOynytE7Wr\"\n",
    "csecret=\"k7XtFldKsnWwY85FAUE1BMrmKFSQT9ZvIsxWLhXdnRmiZ8H2LY\"\n",
    "atoken=\"2400788581-SqJ2TljEPI7GEKZa67AoDPGUZr3DqEUJ7cBp5Ng\"\n",
    "asecret=\"tnPy4kKayWeIZt6lN1iCY1C1cnzC7PKrlTSJXAD1iXvIX\"\n",
    "\n",
    "# Instantiating objects of authentication \n",
    "auth = tweepy.OAuthHandler(ckey, csecret)\n",
    "auth.set_access_token(atoken, asecret)"
   ]
  },
  {
   "cell_type": "markdown",
   "metadata": {},
   "source": [
    "## Testing the connection"
   ]
  },
  {
   "cell_type": "code",
   "execution_count": 2,
   "metadata": {
    "collapsed": false
   },
   "outputs": [],
   "source": [
    "# Creation of the actual interface, using authentication\n",
    "api = tweepy.API(auth)\n",
    " \n",
    "# Sample method, used to update a status\n",
    "# api.update_status('Hello I am creating a python youtube tutorial!')\n",
    "\n",
    "# Creates the user object. The me() method returns the user whose authentication keys were used.\n",
    "user = api.me()"
   ]
  },
  {
   "cell_type": "markdown",
   "metadata": {},
   "source": [
    "## Getting out profile data"
   ]
  },
  {
   "cell_type": "code",
   "execution_count": 3,
   "metadata": {
    "collapsed": false
   },
   "outputs": [
    {
     "name": "stdout",
     "output_type": "stream",
     "text": [
      "Name: Vincent Tatan\n",
      "Location: Amsterdam, The Netherlands\n",
      "Friends: 56\n"
     ]
    }
   ],
   "source": [
    "# Printing out profile data\n",
    "print('Name: ' + user.name)\n",
    "print('Location: ' + user.location)\n",
    "print('Friends: ' + str(user.friends_count))"
   ]
  },
  {
   "cell_type": "code",
   "execution_count": 4,
   "metadata": {
    "collapsed": false
   },
   "outputs": [
    {
     "name": "stdout",
     "output_type": "stream",
     "text": [
      "We've scoured the internet for political writing from the right and left that you shouldn't miss https://t.co/UUEspUK009\n",
      "“Mostly a marketing exercise”: Driver @alexyoong says end of #MalaysianGP is no surprise https://t.co/FhoKRTkp1i https://t.co/7pMwX52HXo\n",
      "How the world reacted to President Trump's air strike on Syria https://t.co/Gl4Podqz98\n",
      "For this month's #TreehouseStereo, Pasan took the reigns and shared some of his favorites. What do you think?… https://t.co/lltv9nDhIq\n",
      "The most common resume mistakes and how to fix them https://t.co/8BZfgHc39W https://t.co/5cTztbFK79\n",
      "America is alone among rich countries in not providing some form of health care for all its people https://t.co/1Aoj7vwOZV\n",
      "Uber argues it's been wrongly accused in Waymo suit https://t.co/vdODyqt7aC https://t.co/t7hSYnUMdy\n",
      "Top on #tiajobs today: Android developer at Superble https://t.co/qcqHQBXdiS https://t.co/KE5X0JWsnu\n",
      "Delta says it canceled around 3,000 flights due to \"unprecedented\" storms that hit during a busy spring break week… https://t.co/Hgrh2FWkNm\n",
      "Delta says it canceled around 3,000 flights due to \"unprecedented\" storms that hit during a busy spring break week… https://t.co/p8MUgC6PyS\n"
     ]
    }
   ],
   "source": [
    "# Reading your timeline status\n",
    "for status in tweepy.Cursor(api.home_timeline).items(10):\n",
    "    # Process a single status\n",
    "    print(status.text) "
   ]
  },
  {
   "cell_type": "markdown",
   "metadata": {},
   "source": [
    "## Tweepy Cookbook\n",
    "http://tweepy.readthedocs.io/en/v3.5.0/"
   ]
  },
  {
   "cell_type": "markdown",
   "metadata": {},
   "source": [
    "# Streaming Presidential Election Tweets"
   ]
  },
  {
   "cell_type": "code",
   "execution_count": 5,
   "metadata": {
    "collapsed": false,
    "scrolled": true
   },
   "outputs": [
    {
     "ename": "ProtocolError",
     "evalue": "('Connection broken: IncompleteRead(0 bytes read, 512 more expected)', IncompleteRead(0 bytes read, 512 more expected))",
     "output_type": "error",
     "traceback": [
      "\u001b[1;31m---------------------------------------------------------------------------\u001b[0m",
      "\u001b[1;31mProtocolError\u001b[0m                             Traceback (most recent call last)",
      "\u001b[1;32m<ipython-input-5-c376b1f00585>\u001b[0m in \u001b[0;36m<module>\u001b[1;34m()\u001b[0m\n\u001b[0;32m     32\u001b[0m \u001b[1;31m#This line filter Twitter Streams to capture data by the keywords: 'trump', 'hillary'\u001b[0m\u001b[1;33m\u001b[0m\u001b[1;33m\u001b[0m\u001b[0m\n\u001b[0;32m     33\u001b[0m \u001b[1;32mtry\u001b[0m\u001b[1;33m:\u001b[0m\u001b[1;33m\u001b[0m\u001b[0m\n\u001b[1;32m---> 34\u001b[1;33m     \u001b[0mstream\u001b[0m\u001b[1;33m.\u001b[0m\u001b[0mfilter\u001b[0m\u001b[1;33m(\u001b[0m\u001b[0mtrack\u001b[0m\u001b[1;33m=\u001b[0m\u001b[1;33m[\u001b[0m\u001b[1;34m'trump'\u001b[0m\u001b[1;33m,\u001b[0m\u001b[1;34m'hillary'\u001b[0m\u001b[1;33m]\u001b[0m\u001b[1;33m)\u001b[0m\u001b[1;33m\u001b[0m\u001b[0m\n\u001b[0m\u001b[0;32m     35\u001b[0m \u001b[1;32mexcept\u001b[0m \u001b[0mKeyboardInterrupt\u001b[0m\u001b[1;33m:\u001b[0m\u001b[1;33m\u001b[0m\u001b[0m\n\u001b[0;32m     36\u001b[0m         \u001b[1;32mprint\u001b[0m\u001b[1;33m(\u001b[0m\u001b[1;34m\"Twitter Download is interrupted\"\u001b[0m\u001b[1;33m)\u001b[0m\u001b[1;33m\u001b[0m\u001b[0m\n",
      "\u001b[1;32mD:\\Anaconda\\lib\\site-packages\\tweepy\\streaming.pyc\u001b[0m in \u001b[0;36mfilter\u001b[1;34m(self, follow, track, async, locations, stall_warnings, languages, encoding, filter_level)\u001b[0m\n\u001b[0;32m    443\u001b[0m         \u001b[0mself\u001b[0m\u001b[1;33m.\u001b[0m\u001b[0msession\u001b[0m\u001b[1;33m.\u001b[0m\u001b[0mparams\u001b[0m \u001b[1;33m=\u001b[0m \u001b[1;33m{\u001b[0m\u001b[1;34m'delimited'\u001b[0m\u001b[1;33m:\u001b[0m \u001b[1;34m'length'\u001b[0m\u001b[1;33m}\u001b[0m\u001b[1;33m\u001b[0m\u001b[0m\n\u001b[0;32m    444\u001b[0m         \u001b[0mself\u001b[0m\u001b[1;33m.\u001b[0m\u001b[0mhost\u001b[0m \u001b[1;33m=\u001b[0m \u001b[1;34m'stream.twitter.com'\u001b[0m\u001b[1;33m\u001b[0m\u001b[0m\n\u001b[1;32m--> 445\u001b[1;33m         \u001b[0mself\u001b[0m\u001b[1;33m.\u001b[0m\u001b[0m_start\u001b[0m\u001b[1;33m(\u001b[0m\u001b[0masync\u001b[0m\u001b[1;33m)\u001b[0m\u001b[1;33m\u001b[0m\u001b[0m\n\u001b[0m\u001b[0;32m    446\u001b[0m \u001b[1;33m\u001b[0m\u001b[0m\n\u001b[0;32m    447\u001b[0m     def sitestream(self, follow, stall_warnings=False,\n",
      "\u001b[1;32mD:\\Anaconda\\lib\\site-packages\\tweepy\\streaming.pyc\u001b[0m in \u001b[0;36m_start\u001b[1;34m(self, async)\u001b[0m\n\u001b[0;32m    359\u001b[0m             \u001b[0mself\u001b[0m\u001b[1;33m.\u001b[0m\u001b[0m_thread\u001b[0m\u001b[1;33m.\u001b[0m\u001b[0mstart\u001b[0m\u001b[1;33m(\u001b[0m\u001b[1;33m)\u001b[0m\u001b[1;33m\u001b[0m\u001b[0m\n\u001b[0;32m    360\u001b[0m         \u001b[1;32melse\u001b[0m\u001b[1;33m:\u001b[0m\u001b[1;33m\u001b[0m\u001b[0m\n\u001b[1;32m--> 361\u001b[1;33m             \u001b[0mself\u001b[0m\u001b[1;33m.\u001b[0m\u001b[0m_run\u001b[0m\u001b[1;33m(\u001b[0m\u001b[1;33m)\u001b[0m\u001b[1;33m\u001b[0m\u001b[0m\n\u001b[0m\u001b[0;32m    362\u001b[0m \u001b[1;33m\u001b[0m\u001b[0m\n\u001b[0;32m    363\u001b[0m     \u001b[1;32mdef\u001b[0m \u001b[0mon_closed\u001b[0m\u001b[1;33m(\u001b[0m\u001b[0mself\u001b[0m\u001b[1;33m,\u001b[0m \u001b[0mresp\u001b[0m\u001b[1;33m)\u001b[0m\u001b[1;33m:\u001b[0m\u001b[1;33m\u001b[0m\u001b[0m\n",
      "\u001b[1;32mD:\\Anaconda\\lib\\site-packages\\tweepy\\streaming.pyc\u001b[0m in \u001b[0;36m_run\u001b[1;34m(self)\u001b[0m\n\u001b[0;32m    292\u001b[0m             \u001b[1;31m# call a handler first so that the exception can be logged.\u001b[0m\u001b[1;33m\u001b[0m\u001b[1;33m\u001b[0m\u001b[0m\n\u001b[0;32m    293\u001b[0m             \u001b[0mself\u001b[0m\u001b[1;33m.\u001b[0m\u001b[0mlistener\u001b[0m\u001b[1;33m.\u001b[0m\u001b[0mon_exception\u001b[0m\u001b[1;33m(\u001b[0m\u001b[0mexception\u001b[0m\u001b[1;33m)\u001b[0m\u001b[1;33m\u001b[0m\u001b[0m\n\u001b[1;32m--> 294\u001b[1;33m             \u001b[1;32mraise\u001b[0m \u001b[0mexception\u001b[0m\u001b[1;33m\u001b[0m\u001b[0m\n\u001b[0m\u001b[0;32m    295\u001b[0m \u001b[1;33m\u001b[0m\u001b[0m\n\u001b[0;32m    296\u001b[0m     \u001b[1;32mdef\u001b[0m \u001b[0m_data\u001b[0m\u001b[1;33m(\u001b[0m\u001b[0mself\u001b[0m\u001b[1;33m,\u001b[0m \u001b[0mdata\u001b[0m\u001b[1;33m)\u001b[0m\u001b[1;33m:\u001b[0m\u001b[1;33m\u001b[0m\u001b[0m\n",
      "\u001b[1;31mProtocolError\u001b[0m: ('Connection broken: IncompleteRead(0 bytes read, 512 more expected)', IncompleteRead(0 bytes read, 512 more expected))"
     ]
    }
   ],
   "source": [
    "# Initializing a listener class that streams Twitter status\n",
    "class StdOutListener(tweepy.StreamListener):\n",
    "#     Create an init statement\n",
    "    def __init__(self, start_time, time_limit=100):\n",
    "        self.time = start_time\n",
    "        self.limit = time_limit\n",
    "        self.tweet_data = []\n",
    "    \n",
    "#     Defining what you are going to do based on data\n",
    "    def on_data(self, data):\n",
    "        try:\n",
    "#             Opening data for streaming\n",
    "            with open('output.json', 'a') as f:\n",
    "                f.write(data)\n",
    "                return True\n",
    "        except KeyboardInterrupt:\n",
    "            print(\"Twitter Download is interrupted\")\n",
    "        except BaseException as e:\n",
    "            print(str(e))\n",
    "        return True\n",
    "\n",
    "    def on_error(self, status):\n",
    "        print status\n",
    "\n",
    "\n",
    "\n",
    "#This handles Twitter authetification and the connection to Twitter Streaming API\n",
    "start_time = time.strptime(\"9 Nov 16\", \"%d %b %y\")    \n",
    "l = StdOutListener(start_time)\n",
    "stream = tweepy.Stream(auth, l)\n",
    "\n",
    "#This line filter Twitter Streams to capture data by the keywords: 'trump', 'hillary'\n",
    "try:\n",
    "    stream.filter(track=['trump','hillary'])\n",
    "except KeyboardInterrupt:\n",
    "        print(\"Twitter Download is interrupted\")\n"
   ]
  },
  {
   "cell_type": "markdown",
   "metadata": {},
   "source": [
    "# Exploring data"
   ]
  },
  {
   "cell_type": "markdown",
   "metadata": {},
   "source": [
    "To explore Presidential Election Trump vs Hillary from Twitter data \n",
    "    * Reading and Preparing the data\n",
    "    * Viewing the data\n",
    "    * Search Term Analysis"
   ]
  },
  {
   "cell_type": "markdown",
   "metadata": {},
   "source": [
    "## Reading and Preparing the data\n",
    "\n",
    "To read and prepare the data we would first:\n",
    "1. Import json library to read json files\n",
    "2. Import and style matplotlib (to visualize the data)\n",
    "3. Process the data line by line and append it to a list"
   ]
  },
  {
   "cell_type": "code",
   "execution_count": 7,
   "metadata": {
    "collapsed": true
   },
   "outputs": [],
   "source": [
    "# Importing json (JavaScript Object Notation) library to read twitter data\n",
    "import json\n",
    "\n",
    "# Importing data analytics related libraries (DataFrame and Visualization)\n",
    "import pandas as pd\n",
    "import matplotlib.pyplot as plt\n",
    "from matplotlib import style\n",
    "\n",
    "# Adjusting the size of matplotlib\n",
    "import matplotlib as mpl\n",
    "mpl.rc('figure', figsize=(8, 7))\n",
    "mpl.__version__\n",
    "\n",
    "# Adjusting the style of matplotlib\n",
    "style.use('ggplot')\n",
    "\n",
    "# Magic to tell python notebook we want matplotlib charts included\n",
    "%matplotlib inline\n"
   ]
  },
  {
   "cell_type": "code",
   "execution_count": 8,
   "metadata": {
    "collapsed": false
   },
   "outputs": [
    {
     "name": "stdout",
     "output_type": "stream",
     "text": [
      "43340\n"
     ]
    }
   ],
   "source": [
    "# Where you put the data of twitter stream\n",
    "tweets_data_path = 'dataset/presidentialtweets.json'\n",
    "\n",
    "# tweets_data_path = 'dataset/US_election_data.txt'\n",
    "tweets_data = []\n",
    "tweets_file = open(tweets_data_path, \"r\")\n",
    "\n",
    "for line in tweets_file:\n",
    "    try:\n",
    "        tweet = json.loads(line)\n",
    "        tweets_data.append(tweet)\n",
    "    except:\n",
    "        continue\n",
    "\n",
    "# Printing the length of the tweets data\n",
    "print len(tweets_data)"
   ]
  },
  {
   "cell_type": "code",
   "execution_count": 42,
   "metadata": {
    "collapsed": false
   },
   "outputs": [],
   "source": [
    "from datetime import datetime\n",
    "\n",
    "errors = []\n",
    "def gettext(tweet,element):\n",
    "    try:\n",
    "        return tweet[element]\n",
    "    except KeyError:\n",
    "        errors.append(tweet)\n",
    "        pass\n",
    "\n",
    "# Getting the data and texts along the ways using gettext\n",
    "tweets = pd.DataFrame()\n",
    "tweets['text'] = [gettext(tweet,'text') for tweet in tweets_data]\n",
    "tweets['lang'] = [gettext(tweet,'lang') for tweet in tweets_data]\n",
    "tweets['created_at'] = [gettext(tweet,'created_at') for tweet in tweets_data]\n",
    "tweets['created_at'] = pd.to_datetime(tweets['created_at'],errors='ignore')\n",
    "tweets.set_index('created_at',inplace=True)"
   ]
  },
  {
   "cell_type": "markdown",
   "metadata": {},
   "source": [
    "## Remove empty text twitter\n",
    "\n",
    "Some of the text are in different text formats (some Chinese characters that could not be passed on the gettext(tweet. element). We could translate and process it using Natural Language Processing Library -- recommended using TextBlob for a quick translation -- https://textblob.readthedocs.io/en/dev/. But for now, since it does not take too many lines, let us ignore these lines"
   ]
  },
  {
   "cell_type": "code",
   "execution_count": 10,
   "metadata": {
    "collapsed": false
   },
   "outputs": [
    {
     "data": {
      "text/plain": [
       "text    0\n",
       "lang    0\n",
       "dtype: int64"
      ]
     },
     "execution_count": 10,
     "metadata": {},
     "output_type": "execute_result"
    }
   ],
   "source": [
    "tweets.dropna(axis=0,how=\"any\",inplace=True)\n",
    "tweets.isnull().sum()"
   ]
  },
  {
   "cell_type": "code",
   "execution_count": 38,
   "metadata": {
    "collapsed": false
   },
   "outputs": [
    {
     "name": "stdout",
     "output_type": "stream",
     "text": [
      "40458\n"
     ]
    }
   ],
   "source": [
    "print len(tweets)"
   ]
  },
  {
   "cell_type": "markdown",
   "metadata": {},
   "source": [
    "## What languages are used in the Twitter Feeds?"
   ]
  },
  {
   "cell_type": "code",
   "execution_count": 84,
   "metadata": {
    "collapsed": false
   },
   "outputs": [
    {
     "data": {
      "text/plain": [
       "<matplotlib.axes._subplots.AxesSubplot at 0x90d8dc50>"
      ]
     },
     "execution_count": 84,
     "metadata": {},
     "output_type": "execute_result"
    },
    {
     "data": {
      "image/png": "[encoded data removed]",
      "text/plain": [
       "<matplotlib.figure.Figure at 0x9060f0f0>"
      ]
     },
     "metadata": {},
     "output_type": "display_data"
    }
   ],
   "source": [
    "tweets_by_lang = tweets['lang'].value_counts()\n",
    "tweets_by_lang.head(10).plot(kind=\"bar\")"
   ]
  },
  {
   "cell_type": "markdown",
   "metadata": {},
   "source": [
    "## Extracting the relevant posts for each presidential candidate\n",
    "To find these relevant posts, we would search a certain word in a sentence. For example does Trump or Hillary is mentioned in the tweets, which one is the tweets belonged to? \n",
    "\n",
    "Example:\n",
    "\n",
    "* Hillary and Trump always fight like children  (Hillary 1, Trump 1)\n",
    "* Hillary expands on Obamacare (Hillary 1, Trump 0)\n",
    "* Trump is a Twitter Joke (Hillary 0, Trump 1)"
   ]
  },
  {
   "cell_type": "code",
   "execution_count": 85,
   "metadata": {
    "collapsed": false
   },
   "outputs": [
    {
     "name": "stdout",
     "output_type": "stream",
     "text": [
      "True\n"
     ]
    }
   ],
   "source": [
    "# Importing Regular expression for word searching\n",
    "import re\n",
    "def word_in_text(word, text):\n",
    "    try:\n",
    "        text = text.lower()\n",
    "        match = re.search(word, text)\n",
    "        if match:\n",
    "            return True\n",
    "        return False\n",
    "    except AttributeError:\n",
    "        return False\n",
    "\n",
    "# Testing out word_in_text to find a certain word in a text\n",
    "print(word_in_text('hello','Hi there maybe, I would say hello instead'))"
   ]
  },
  {
   "cell_type": "code",
   "execution_count": 86,
   "metadata": {
    "collapsed": false
   },
   "outputs": [
    {
     "name": "stdout",
     "output_type": "stream",
     "text": [
      "31531\n",
      "842\n"
     ]
    }
   ],
   "source": [
    "# Checking how many tweets talk about each presidential candidate\n",
    "\n",
    "# Please check if there are any texts that have certain words here\n",
    "tweets['trump'] = tweets['text'].apply(lambda tweet: word_in_text('trump', tweet))\n",
    "tweets['hillary'] = tweets['text'].apply(lambda tweet: word_in_text('hillary', tweet))\n",
    "\n",
    "# Check how many have the mentions of trump and hillary\n",
    "print tweets['trump'].value_counts()[1]\n",
    "print tweets['hillary'].value_counts()[1]"
   ]
  },
  {
   "cell_type": "code",
   "execution_count": 87,
   "metadata": {
    "collapsed": false,
    "scrolled": false
   },
   "outputs": [
    {
     "name": "stdout",
     "output_type": "stream",
     "text": [
      "[[31531, 842]]\n"
     ]
    },
    {
     "data": {
      "text/plain": [
       "<matplotlib.axes._subplots.AxesSubplot at 0x90d8d208>"
      ]
     },
     "execution_count": 87,
     "metadata": {},
     "output_type": "execute_result"
    },
    {
     "data": {
      "image/png": "[encoded data removed]",
      "text/plain": [
       "<matplotlib.figure.Figure at 0x8ffc5a20>"
      ]
     },
     "metadata": {},
     "output_type": "display_data"
    }
   ],
   "source": [
    "presidential_candidates = ['trump', 'hillary']\n",
    "tweets_by_pres_candidates = [[tweets['trump'].value_counts()[1], tweets['hillary'].value_counts()[1]]]\n",
    "print(tweets_by_pres_candidates)\n",
    "\n",
    "# Plotting the candidate counts\n",
    "candidate_frame = pd.DataFrame(tweets_by_pres_candidates,columns=presidential_candidates)\n",
    "candidate_frame.T.plot(kind='bar',legend=False,title=\"Twitter counts of presidential candidates\")\n"
   ]
  },
  {
   "cell_type": "markdown",
   "metadata": {},
   "source": [
    "## Exploring Tweets trend"
   ]
  },
  {
   "cell_type": "code",
   "execution_count": 88,
   "metadata": {
    "collapsed": false,
    "scrolled": true
   },
   "outputs": [
    {
     "data": {
      "text/html": [
       "<div>\n",
       "<table border=\"1\" class=\"dataframe\">\n",
       "  <thead>\n",
       "    <tr style=\"text-align: right;\">\n",
       "      <th></th>\n",
       "      <th>text</th>\n",
       "      <th>lang</th>\n",
       "      <th>trump</th>\n",
       "      <th>hillary</th>\n",
       "    </tr>\n",
       "    <tr>\n",
       "      <th>created_at</th>\n",
       "      <th></th>\n",
       "      <th></th>\n",
       "      <th></th>\n",
       "      <th></th>\n",
       "    </tr>\n",
       "  </thead>\n",
       "  <tbody>\n",
       "    <tr>\n",
       "      <th>2017-01-20 11:12:24</th>\n",
       "      <td>RT @TheDairylandDon: Respect for Trump is best...</td>\n",
       "      <td>en</td>\n",
       "      <td>True</td>\n",
       "      <td>False</td>\n",
       "    </tr>\n",
       "    <tr>\n",
       "      <th>2017-01-20 11:12:24</th>\n",
       "      <td>RT @TerryMoran: Trump says no POTUS ever had i...</td>\n",
       "      <td>en</td>\n",
       "      <td>True</td>\n",
       "      <td>False</td>\n",
       "    </tr>\n",
       "    <tr>\n",
       "      <th>2017-01-20 11:12:24</th>\n",
       "      <td>RT @Impeach_D_Trump: Hey Donald Trump @realDon...</td>\n",
       "      <td>en</td>\n",
       "      <td>True</td>\n",
       "      <td>False</td>\n",
       "    </tr>\n",
       "    <tr>\n",
       "      <th>2017-01-20 11:12:24</th>\n",
       "      <td>RT @_ReMona: Them: Donald Trump is our preside...</td>\n",
       "      <td>en</td>\n",
       "      <td>True</td>\n",
       "      <td>False</td>\n",
       "    </tr>\n",
       "    <tr>\n",
       "      <th>2017-01-20 11:12:24</th>\n",
       "      <td>RT @robreiner: Upon Donald Trump's swearing in...</td>\n",
       "      <td>en</td>\n",
       "      <td>True</td>\n",
       "      <td>False</td>\n",
       "    </tr>\n",
       "  </tbody>\n",
       "</table>\n",
       "</div>"
      ],
      "text/plain": [
       "                                                                  text lang  \\\n",
       "created_at                                                                    \n",
       "2017-01-20 11:12:24  RT @TheDairylandDon: Respect for Trump is best...   en   \n",
       "2017-01-20 11:12:24  RT @TerryMoran: Trump says no POTUS ever had i...   en   \n",
       "2017-01-20 11:12:24  RT @Impeach_D_Trump: Hey Donald Trump @realDon...   en   \n",
       "2017-01-20 11:12:24  RT @_ReMona: Them: Donald Trump is our preside...   en   \n",
       "2017-01-20 11:12:24  RT @robreiner: Upon Donald Trump's swearing in...   en   \n",
       "\n",
       "                    trump hillary  \n",
       "created_at                         \n",
       "2017-01-20 11:12:24  True   False  \n",
       "2017-01-20 11:12:24  True   False  \n",
       "2017-01-20 11:12:24  True   False  \n",
       "2017-01-20 11:12:24  True   False  \n",
       "2017-01-20 11:12:24  True   False  "
      ]
     },
     "execution_count": 88,
     "metadata": {},
     "output_type": "execute_result"
    }
   ],
   "source": [
    "tweets.head()"
   ]
  },
  {
   "cell_type": "code",
   "execution_count": 89,
   "metadata": {
    "collapsed": false,
    "scrolled": true
   },
   "outputs": [
    {
     "data": {
      "text/plain": [
       "<matplotlib.axes._subplots.AxesSubplot at 0x909cdfd0>"
      ]
     },
     "execution_count": 89,
     "metadata": {},
     "output_type": "execute_result"
    },
    {
     "data": {
      "image/png": "[encoded data removed]",
      "text/plain": [
       "<matplotlib.figure.Figure at 0x90e34278>"
      ]
     },
     "metadata": {},
     "output_type": "display_data"
    }
   ],
   "source": [
    "# Exploring tweetscounts by each date\n",
    "trumptweetsbydate = tweets.trump.groupby(tweets.index.date).sum()\n",
    "hillarytweetsbydate = tweets.hillary.groupby(tweets.index.date).sum()\n",
    "\n",
    "# Getting a dataframe of both tweets over time\n",
    "pd.concat([trumptweetsbydate, hillarytweetsbydate], axis=1).plot(kind='bar')"
   ]
  },
  {
   "cell_type": "markdown",
   "metadata": {},
   "source": [
    "**Conclusion**\n",
    "\n",
    "Notice, the numbers might not be so meaningful because the reason why a lot of tweets at 28th is that I streamed it at that time. Regardless the main point should be how Trump's tweet exceeds Hillary's Tweets. This highlights how Trump became more popular in his time as the USA president while Hillary is moving out of the overall picture"
   ]
  },
  {
   "cell_type": "markdown",
   "metadata": {},
   "source": [
    "## Sentimental Analysis\n",
    "\n",
    "***Python TextBlob Sentiment Analysis***\n",
    "\n",
    "Sentiment Analysis refers to the process of taking natural language to identify and extract subjective information. You can take text, run it through the TextBlob and the program will spit out if the text is positive, neutral, or negative by analyzing the language used in the text.\n",
    "\n",
    "Sentiment Analysis\t\n",
    "\n",
    "| Text        | Values           | \n",
    "| ------------- |:-------------:|\n",
    "| Polarity      | -0.0875 |\n",
    "| Subjectivity      | 0.575      |\n",
    "| Classification | neg      |\n",
    "| P_Pos | 0.344455873      |\n",
    "| P_Neg | 0.655544127      |\n",
    "\n",
    "***What does that mean?***\n",
    "\n",
    "***Polarity*** - a measure of the negativity, the neutralness, or the positivity of the text\n",
    "\n",
    "***Subjectivity*** - a measure of the subjectiveness of the object. The more it is, the more subjective is the information\n",
    "\n",
    "***Classification*** - either pos or neg indicating if the text is positive or negative\n",
    "To calculate the overall sentiment, we look at the polarity score:"
   ]
  },
  {
   "cell_type": "markdown",
   "metadata": {},
   "source": [
    "## Generating the Polarity and Subjectivity (Sentiment Values)\n",
    "From here, we use the TextBlob library, which is the simplification of Natural Language Processing. It does the heavylifting for sentimental analysis\n",
    "\n",
    "Post: http://planspace.org/20150607-textblob_sentiment/\n",
    "\n",
    "Interesting research: https://arxiv.org/pdf/1509.07178.pdf"
   ]
  },
  {
   "cell_type": "code",
   "execution_count": 90,
   "metadata": {
    "collapsed": false
   },
   "outputs": [
    {
     "name": "stdout",
     "output_type": "stream",
     "text": [
      "0.7\n",
      "-0.7\n",
      "0.91\n",
      "-0.91\n",
      "-0.269230769231\n",
      "-0.075\n"
     ]
    }
   ],
   "source": [
    "# Sample of using TextBlob sentiment\n",
    "print TextBlob(\"This food is good\").polarity\n",
    "print TextBlob(\"This food is bad\").polarity\n",
    "print TextBlob(\"This food is very good\").polarity\n",
    "print TextBlob(\"This food is very bad\").polarity\n",
    "print TextBlob(\"This food is not very good\").polarity\n",
    "print TextBlob(\"This food is very not good\").polarity"
   ]
  },
  {
   "cell_type": "code",
   "execution_count": null,
   "metadata": {
    "collapsed": false,
    "scrolled": true
   },
   "outputs": [],
   "source": [
    "# Importing TextBlob from textblob to find polarity\n",
    "from textblob import TextBlob\n",
    "\n",
    "def find_polarity(tweet):\n",
    "    try:\n",
    "        return TextBlob(tweet).polarity\n",
    "    except:\n",
    "        pass\n",
    "    \n",
    "def find_subjectivity(tweet):\n",
    "    try:\n",
    "        return TextBlob(tweet).subjectivity\n",
    "    except:\n",
    "        pass\n",
    "    \n",
    "# Applying textblob to each tweets text\n",
    "tweets['polarity'] = tweets['text'].apply(lambda tweet:find_polarity(tweet))\n",
    "tweets['subjectivity'] = tweets['text'].apply(lambda tweet:find_subjectivity(tweet))\n",
    "tweets.head()"
   ]
  },
  {
   "cell_type": "code",
   "execution_count": 92,
   "metadata": {
    "collapsed": false
   },
   "outputs": [
    {
     "ename": "KeyError",
     "evalue": "'subjectivity'",
     "output_type": "error",
     "traceback": [
      "\u001b[1;31m---------------------------------------------------------------------------\u001b[0m",
      "\u001b[1;31mKeyError\u001b[0m                                  Traceback (most recent call last)",
      "\u001b[1;32m<ipython-input-92-f4135008413a>\u001b[0m in \u001b[0;36m<module>\u001b[1;34m()\u001b[0m\n\u001b[1;32m----> 1\u001b[1;33m \u001b[0mtweets\u001b[0m\u001b[1;33m.\u001b[0m\u001b[0msort_values\u001b[0m\u001b[1;33m(\u001b[0m\u001b[1;34m'subjectivity'\u001b[0m\u001b[1;33m,\u001b[0m\u001b[0mascending\u001b[0m\u001b[1;33m=\u001b[0m\u001b[0mFalse\u001b[0m\u001b[1;33m)\u001b[0m\u001b[1;33m\u001b[0m\u001b[0m\n\u001b[0m",
      "\u001b[1;32mD:\\Anaconda\\lib\\site-packages\\pandas\\core\\frame.pyc\u001b[0m in \u001b[0;36msort_values\u001b[1;34m(self, by, axis, ascending, inplace, kind, na_position)\u001b[0m\n\u001b[0;32m   3210\u001b[0m \u001b[1;33m\u001b[0m\u001b[0m\n\u001b[0;32m   3211\u001b[0m             \u001b[0mby\u001b[0m \u001b[1;33m=\u001b[0m \u001b[0mby\u001b[0m\u001b[1;33m[\u001b[0m\u001b[1;36m0\u001b[0m\u001b[1;33m]\u001b[0m\u001b[1;33m\u001b[0m\u001b[0m\n\u001b[1;32m-> 3212\u001b[1;33m             \u001b[0mk\u001b[0m \u001b[1;33m=\u001b[0m \u001b[0mself\u001b[0m\u001b[1;33m.\u001b[0m\u001b[0mxs\u001b[0m\u001b[1;33m(\u001b[0m\u001b[0mby\u001b[0m\u001b[1;33m,\u001b[0m \u001b[0maxis\u001b[0m\u001b[1;33m=\u001b[0m\u001b[0mother_axis\u001b[0m\u001b[1;33m)\u001b[0m\u001b[1;33m.\u001b[0m\u001b[0mvalues\u001b[0m\u001b[1;33m\u001b[0m\u001b[0m\n\u001b[0m\u001b[0;32m   3213\u001b[0m             \u001b[1;32mif\u001b[0m \u001b[0mk\u001b[0m\u001b[1;33m.\u001b[0m\u001b[0mndim\u001b[0m \u001b[1;33m==\u001b[0m \u001b[1;36m2\u001b[0m\u001b[1;33m:\u001b[0m\u001b[1;33m\u001b[0m\u001b[0m\n\u001b[0;32m   3214\u001b[0m \u001b[1;33m\u001b[0m\u001b[0m\n",
      "\u001b[1;32mD:\\Anaconda\\lib\\site-packages\\pandas\\core\\generic.pyc\u001b[0m in \u001b[0;36mxs\u001b[1;34m(self, key, axis, level, drop_level)\u001b[0m\n\u001b[0;32m   1768\u001b[0m \u001b[1;33m\u001b[0m\u001b[0m\n\u001b[0;32m   1769\u001b[0m         \u001b[1;32mif\u001b[0m \u001b[0maxis\u001b[0m \u001b[1;33m==\u001b[0m \u001b[1;36m1\u001b[0m\u001b[1;33m:\u001b[0m\u001b[1;33m\u001b[0m\u001b[0m\n\u001b[1;32m-> 1770\u001b[1;33m             \u001b[1;32mreturn\u001b[0m \u001b[0mself\u001b[0m\u001b[1;33m[\u001b[0m\u001b[0mkey\u001b[0m\u001b[1;33m]\u001b[0m\u001b[1;33m\u001b[0m\u001b[0m\n\u001b[0m\u001b[0;32m   1771\u001b[0m \u001b[1;33m\u001b[0m\u001b[0m\n\u001b[0;32m   1772\u001b[0m         \u001b[0mself\u001b[0m\u001b[1;33m.\u001b[0m\u001b[0m_consolidate_inplace\u001b[0m\u001b[1;33m(\u001b[0m\u001b[1;33m)\u001b[0m\u001b[1;33m\u001b[0m\u001b[0m\n",
      "\u001b[1;32mD:\\Anaconda\\lib\\site-packages\\pandas\\core\\frame.pyc\u001b[0m in \u001b[0;36m__getitem__\u001b[1;34m(self, key)\u001b[0m\n\u001b[0;32m   2055\u001b[0m             \u001b[1;32mreturn\u001b[0m \u001b[0mself\u001b[0m\u001b[1;33m.\u001b[0m\u001b[0m_getitem_multilevel\u001b[0m\u001b[1;33m(\u001b[0m\u001b[0mkey\u001b[0m\u001b[1;33m)\u001b[0m\u001b[1;33m\u001b[0m\u001b[0m\n\u001b[0;32m   2056\u001b[0m         \u001b[1;32melse\u001b[0m\u001b[1;33m:\u001b[0m\u001b[1;33m\u001b[0m\u001b[0m\n\u001b[1;32m-> 2057\u001b[1;33m             \u001b[1;32mreturn\u001b[0m \u001b[0mself\u001b[0m\u001b[1;33m.\u001b[0m\u001b[0m_getitem_column\u001b[0m\u001b[1;33m(\u001b[0m\u001b[0mkey\u001b[0m\u001b[1;33m)\u001b[0m\u001b[1;33m\u001b[0m\u001b[0m\n\u001b[0m\u001b[0;32m   2058\u001b[0m \u001b[1;33m\u001b[0m\u001b[0m\n\u001b[0;32m   2059\u001b[0m     \u001b[1;32mdef\u001b[0m \u001b[0m_getitem_column\u001b[0m\u001b[1;33m(\u001b[0m\u001b[0mself\u001b[0m\u001b[1;33m,\u001b[0m \u001b[0mkey\u001b[0m\u001b[1;33m)\u001b[0m\u001b[1;33m:\u001b[0m\u001b[1;33m\u001b[0m\u001b[0m\n",
      "\u001b[1;32mD:\\Anaconda\\lib\\site-packages\\pandas\\core\\frame.pyc\u001b[0m in \u001b[0;36m_getitem_column\u001b[1;34m(self, key)\u001b[0m\n\u001b[0;32m   2062\u001b[0m         \u001b[1;31m# get column\u001b[0m\u001b[1;33m\u001b[0m\u001b[1;33m\u001b[0m\u001b[0m\n\u001b[0;32m   2063\u001b[0m         \u001b[1;32mif\u001b[0m \u001b[0mself\u001b[0m\u001b[1;33m.\u001b[0m\u001b[0mcolumns\u001b[0m\u001b[1;33m.\u001b[0m\u001b[0mis_unique\u001b[0m\u001b[1;33m:\u001b[0m\u001b[1;33m\u001b[0m\u001b[0m\n\u001b[1;32m-> 2064\u001b[1;33m             \u001b[1;32mreturn\u001b[0m \u001b[0mself\u001b[0m\u001b[1;33m.\u001b[0m\u001b[0m_get_item_cache\u001b[0m\u001b[1;33m(\u001b[0m\u001b[0mkey\u001b[0m\u001b[1;33m)\u001b[0m\u001b[1;33m\u001b[0m\u001b[0m\n\u001b[0m\u001b[0;32m   2065\u001b[0m \u001b[1;33m\u001b[0m\u001b[0m\n\u001b[0;32m   2066\u001b[0m         \u001b[1;31m# duplicate columns & possible reduce dimensionality\u001b[0m\u001b[1;33m\u001b[0m\u001b[1;33m\u001b[0m\u001b[0m\n",
      "\u001b[1;32mD:\\Anaconda\\lib\\site-packages\\pandas\\core\\generic.pyc\u001b[0m in \u001b[0;36m_get_item_cache\u001b[1;34m(self, item)\u001b[0m\n\u001b[0;32m   1384\u001b[0m         \u001b[0mres\u001b[0m \u001b[1;33m=\u001b[0m \u001b[0mcache\u001b[0m\u001b[1;33m.\u001b[0m\u001b[0mget\u001b[0m\u001b[1;33m(\u001b[0m\u001b[0mitem\u001b[0m\u001b[1;33m)\u001b[0m\u001b[1;33m\u001b[0m\u001b[0m\n\u001b[0;32m   1385\u001b[0m         \u001b[1;32mif\u001b[0m \u001b[0mres\u001b[0m \u001b[1;32mis\u001b[0m \u001b[0mNone\u001b[0m\u001b[1;33m:\u001b[0m\u001b[1;33m\u001b[0m\u001b[0m\n\u001b[1;32m-> 1386\u001b[1;33m             \u001b[0mvalues\u001b[0m \u001b[1;33m=\u001b[0m \u001b[0mself\u001b[0m\u001b[1;33m.\u001b[0m\u001b[0m_data\u001b[0m\u001b[1;33m.\u001b[0m\u001b[0mget\u001b[0m\u001b[1;33m(\u001b[0m\u001b[0mitem\u001b[0m\u001b[1;33m)\u001b[0m\u001b[1;33m\u001b[0m\u001b[0m\n\u001b[0m\u001b[0;32m   1387\u001b[0m             \u001b[0mres\u001b[0m \u001b[1;33m=\u001b[0m \u001b[0mself\u001b[0m\u001b[1;33m.\u001b[0m\u001b[0m_box_item_values\u001b[0m\u001b[1;33m(\u001b[0m\u001b[0mitem\u001b[0m\u001b[1;33m,\u001b[0m \u001b[0mvalues\u001b[0m\u001b[1;33m)\u001b[0m\u001b[1;33m\u001b[0m\u001b[0m\n\u001b[0;32m   1388\u001b[0m             \u001b[0mcache\u001b[0m\u001b[1;33m[\u001b[0m\u001b[0mitem\u001b[0m\u001b[1;33m]\u001b[0m \u001b[1;33m=\u001b[0m \u001b[0mres\u001b[0m\u001b[1;33m\u001b[0m\u001b[0m\n",
      "\u001b[1;32mD:\\Anaconda\\lib\\site-packages\\pandas\\core\\internals.pyc\u001b[0m in \u001b[0;36mget\u001b[1;34m(self, item, fastpath)\u001b[0m\n\u001b[0;32m   3518\u001b[0m \u001b[1;33m\u001b[0m\u001b[0m\n\u001b[0;32m   3519\u001b[0m             \u001b[1;32mif\u001b[0m \u001b[1;32mnot\u001b[0m \u001b[0misnull\u001b[0m\u001b[1;33m(\u001b[0m\u001b[0mitem\u001b[0m\u001b[1;33m)\u001b[0m\u001b[1;33m:\u001b[0m\u001b[1;33m\u001b[0m\u001b[0m\n\u001b[1;32m-> 3520\u001b[1;33m                 \u001b[0mloc\u001b[0m \u001b[1;33m=\u001b[0m \u001b[0mself\u001b[0m\u001b[1;33m.\u001b[0m\u001b[0mitems\u001b[0m\u001b[1;33m.\u001b[0m\u001b[0mget_loc\u001b[0m\u001b[1;33m(\u001b[0m\u001b[0mitem\u001b[0m\u001b[1;33m)\u001b[0m\u001b[1;33m\u001b[0m\u001b[0m\n\u001b[0m\u001b[0;32m   3521\u001b[0m             \u001b[1;32melse\u001b[0m\u001b[1;33m:\u001b[0m\u001b[1;33m\u001b[0m\u001b[0m\n\u001b[0;32m   3522\u001b[0m                 \u001b[0mindexer\u001b[0m \u001b[1;33m=\u001b[0m \u001b[0mnp\u001b[0m\u001b[1;33m.\u001b[0m\u001b[0marange\u001b[0m\u001b[1;33m(\u001b[0m\u001b[0mlen\u001b[0m\u001b[1;33m(\u001b[0m\u001b[0mself\u001b[0m\u001b[1;33m.\u001b[0m\u001b[0mitems\u001b[0m\u001b[1;33m)\u001b[0m\u001b[1;33m)\u001b[0m\u001b[1;33m[\u001b[0m\u001b[0misnull\u001b[0m\u001b[1;33m(\u001b[0m\u001b[0mself\u001b[0m\u001b[1;33m.\u001b[0m\u001b[0mitems\u001b[0m\u001b[1;33m)\u001b[0m\u001b[1;33m]\u001b[0m\u001b[1;33m\u001b[0m\u001b[0m\n",
      "\u001b[1;32mD:\\Anaconda\\lib\\site-packages\\pandas\\indexes\\base.pyc\u001b[0m in \u001b[0;36mget_loc\u001b[1;34m(self, key, method, tolerance)\u001b[0m\n\u001b[0;32m   2104\u001b[0m                 \u001b[1;32mreturn\u001b[0m \u001b[0mself\u001b[0m\u001b[1;33m.\u001b[0m\u001b[0m_engine\u001b[0m\u001b[1;33m.\u001b[0m\u001b[0mget_loc\u001b[0m\u001b[1;33m(\u001b[0m\u001b[0mkey\u001b[0m\u001b[1;33m)\u001b[0m\u001b[1;33m\u001b[0m\u001b[0m\n\u001b[0;32m   2105\u001b[0m             \u001b[1;32mexcept\u001b[0m \u001b[0mKeyError\u001b[0m\u001b[1;33m:\u001b[0m\u001b[1;33m\u001b[0m\u001b[0m\n\u001b[1;32m-> 2106\u001b[1;33m                 \u001b[1;32mreturn\u001b[0m \u001b[0mself\u001b[0m\u001b[1;33m.\u001b[0m\u001b[0m_engine\u001b[0m\u001b[1;33m.\u001b[0m\u001b[0mget_loc\u001b[0m\u001b[1;33m(\u001b[0m\u001b[0mself\u001b[0m\u001b[1;33m.\u001b[0m\u001b[0m_maybe_cast_indexer\u001b[0m\u001b[1;33m(\u001b[0m\u001b[0mkey\u001b[0m\u001b[1;33m)\u001b[0m\u001b[1;33m)\u001b[0m\u001b[1;33m\u001b[0m\u001b[0m\n\u001b[0m\u001b[0;32m   2107\u001b[0m \u001b[1;33m\u001b[0m\u001b[0m\n\u001b[0;32m   2108\u001b[0m         \u001b[0mindexer\u001b[0m \u001b[1;33m=\u001b[0m \u001b[0mself\u001b[0m\u001b[1;33m.\u001b[0m\u001b[0mget_indexer\u001b[0m\u001b[1;33m(\u001b[0m\u001b[1;33m[\u001b[0m\u001b[0mkey\u001b[0m\u001b[1;33m]\u001b[0m\u001b[1;33m,\u001b[0m \u001b[0mmethod\u001b[0m\u001b[1;33m=\u001b[0m\u001b[0mmethod\u001b[0m\u001b[1;33m,\u001b[0m \u001b[0mtolerance\u001b[0m\u001b[1;33m=\u001b[0m\u001b[0mtolerance\u001b[0m\u001b[1;33m)\u001b[0m\u001b[1;33m\u001b[0m\u001b[0m\n",
      "\u001b[1;32mpandas/index.pyx\u001b[0m in \u001b[0;36mpandas.index.IndexEngine.get_loc (pandas\\index.c:4160)\u001b[1;34m()\u001b[0m\n",
      "\u001b[1;32mpandas/index.pyx\u001b[0m in \u001b[0;36mpandas.index.IndexEngine.get_loc (pandas\\index.c:4024)\u001b[1;34m()\u001b[0m\n",
      "\u001b[1;32mpandas/src/hashtable_class_helper.pxi\u001b[0m in \u001b[0;36mpandas.hashtable.PyObjectHashTable.get_item (pandas\\hashtable.c:13161)\u001b[1;34m()\u001b[0m\n",
      "\u001b[1;32mpandas/src/hashtable_class_helper.pxi\u001b[0m in \u001b[0;36mpandas.hashtable.PyObjectHashTable.get_item (pandas\\hashtable.c:13115)\u001b[1;34m()\u001b[0m\n",
      "\u001b[1;31mKeyError\u001b[0m: 'subjectivity'"
     ]
    }
   ],
   "source": [
    "tweets.sort_values('subjectivity',ascending=False)"
   ]
  },
  {
   "cell_type": "markdown",
   "metadata": {},
   "source": [
    "Transforming Polarity and Subjectivity to Sentiment Analysis"
   ]
  },
  {
   "cell_type": "code",
   "execution_count": 18,
   "metadata": {
    "collapsed": false,
    "scrolled": true
   },
   "outputs": [
    {
     "data": {
      "text/html": [
       "<div>\n",
       "<table border=\"1\" class=\"dataframe\">\n",
       "  <thead>\n",
       "    <tr style=\"text-align: right;\">\n",
       "      <th></th>\n",
       "      <th>polarity</th>\n",
       "      <th>subjectivity</th>\n",
       "    </tr>\n",
       "  </thead>\n",
       "  <tbody>\n",
       "    <tr>\n",
       "      <th>count</th>\n",
       "      <td>40458.000000</td>\n",
       "      <td>40458.000000</td>\n",
       "    </tr>\n",
       "    <tr>\n",
       "      <th>mean</th>\n",
       "      <td>0.025619</td>\n",
       "      <td>0.277450</td>\n",
       "    </tr>\n",
       "    <tr>\n",
       "      <th>std</th>\n",
       "      <td>0.267783</td>\n",
       "      <td>0.330499</td>\n",
       "    </tr>\n",
       "    <tr>\n",
       "      <th>min</th>\n",
       "      <td>-1.000000</td>\n",
       "      <td>0.000000</td>\n",
       "    </tr>\n",
       "    <tr>\n",
       "      <th>25%</th>\n",
       "      <td>0.000000</td>\n",
       "      <td>0.000000</td>\n",
       "    </tr>\n",
       "    <tr>\n",
       "      <th>50%</th>\n",
       "      <td>0.000000</td>\n",
       "      <td>0.100000</td>\n",
       "    </tr>\n",
       "    <tr>\n",
       "      <th>75%</th>\n",
       "      <td>0.087500</td>\n",
       "      <td>0.500000</td>\n",
       "    </tr>\n",
       "    <tr>\n",
       "      <th>max</th>\n",
       "      <td>1.000000</td>\n",
       "      <td>1.000000</td>\n",
       "    </tr>\n",
       "  </tbody>\n",
       "</table>\n",
       "</div>"
      ],
      "text/plain": [
       "           polarity  subjectivity\n",
       "count  40458.000000  40458.000000\n",
       "mean       0.025619      0.277450\n",
       "std        0.267783      0.330499\n",
       "min       -1.000000      0.000000\n",
       "25%        0.000000      0.000000\n",
       "50%        0.000000      0.100000\n",
       "75%        0.087500      0.500000\n",
       "max        1.000000      1.000000"
      ]
     },
     "execution_count": 18,
     "metadata": {},
     "output_type": "execute_result"
    }
   ],
   "source": [
    "tweets.describe()"
   ]
  },
  {
   "cell_type": "code",
   "execution_count": null,
   "metadata": {
    "collapsed": true
   },
   "outputs": [],
   "source": [
    "This is interesting, as what you can see actually most of the tweets comments are not dissatisfied, but rather "
   ]
  },
  {
   "cell_type": "markdown",
   "metadata": {},
   "source": [
    "## Categorizing satisfactions based on polarity"
   ]
  },
  {
   "cell_type": "code",
   "execution_count": 19,
   "metadata": {
    "collapsed": true
   },
   "outputs": [],
   "source": [
    "# Determining if they a comment is satisfied or not satisfied\n",
    "tweets['polaritytext'] =  pd.cut(tweets.polarity, 3,labels=[\"unhappy\",\"neutral\",\"happy\"])\n",
    "tweets['subjectivitytext'] =  pd.cut(tweets.subjectivity, 2,labels=[\"meaningful\",\"subjective\"])"
   ]
  },
  {
   "cell_type": "markdown",
   "metadata": {},
   "source": [
    "Next step\n",
    "Timeline of satisfied and subjective reports and run more data"
   ]
  },
  {
   "cell_type": "code",
   "execution_count": 20,
   "metadata": {
    "collapsed": false,
    "scrolled": true
   },
   "outputs": [
    {
     "data": {
      "text/html": [
       "<div>\n",
       "<table border=\"1\" class=\"dataframe\">\n",
       "  <thead>\n",
       "    <tr style=\"text-align: right;\">\n",
       "      <th></th>\n",
       "      <th>text</th>\n",
       "      <th>lang</th>\n",
       "      <th>trump</th>\n",
       "      <th>hillary</th>\n",
       "      <th>polarity</th>\n",
       "      <th>subjectivity</th>\n",
       "      <th>polaritytext</th>\n",
       "      <th>subjectivitytext</th>\n",
       "    </tr>\n",
       "    <tr>\n",
       "      <th>created_at</th>\n",
       "      <th></th>\n",
       "      <th></th>\n",
       "      <th></th>\n",
       "      <th></th>\n",
       "      <th></th>\n",
       "      <th></th>\n",
       "      <th></th>\n",
       "      <th></th>\n",
       "    </tr>\n",
       "  </thead>\n",
       "  <tbody>\n",
       "    <tr>\n",
       "      <th>2017-01-20 11:12:24</th>\n",
       "      <td>RT @TheDairylandDon: Respect for Trump is best...</td>\n",
       "      <td>en</td>\n",
       "      <td>True</td>\n",
       "      <td>False</td>\n",
       "      <td>1.000</td>\n",
       "      <td>0.3</td>\n",
       "      <td>happy</td>\n",
       "      <td>meaningful</td>\n",
       "    </tr>\n",
       "    <tr>\n",
       "      <th>2017-01-20 11:12:24</th>\n",
       "      <td>RT @TerryMoran: Trump says no POTUS ever had i...</td>\n",
       "      <td>en</td>\n",
       "      <td>True</td>\n",
       "      <td>False</td>\n",
       "      <td>0.000</td>\n",
       "      <td>0.0</td>\n",
       "      <td>neutral</td>\n",
       "      <td>meaningful</td>\n",
       "    </tr>\n",
       "    <tr>\n",
       "      <th>2017-01-20 11:12:24</th>\n",
       "      <td>RT @Impeach_D_Trump: Hey Donald Trump @realDon...</td>\n",
       "      <td>en</td>\n",
       "      <td>True</td>\n",
       "      <td>False</td>\n",
       "      <td>0.375</td>\n",
       "      <td>0.5</td>\n",
       "      <td>happy</td>\n",
       "      <td>meaningful</td>\n",
       "    </tr>\n",
       "    <tr>\n",
       "      <th>2017-01-20 11:12:24</th>\n",
       "      <td>RT @_ReMona: Them: Donald Trump is our preside...</td>\n",
       "      <td>en</td>\n",
       "      <td>True</td>\n",
       "      <td>False</td>\n",
       "      <td>0.000</td>\n",
       "      <td>0.0</td>\n",
       "      <td>neutral</td>\n",
       "      <td>meaningful</td>\n",
       "    </tr>\n",
       "    <tr>\n",
       "      <th>2017-01-20 11:12:24</th>\n",
       "      <td>RT @robreiner: Upon Donald Trump's swearing in...</td>\n",
       "      <td>en</td>\n",
       "      <td>True</td>\n",
       "      <td>False</td>\n",
       "      <td>0.500</td>\n",
       "      <td>0.5</td>\n",
       "      <td>happy</td>\n",
       "      <td>meaningful</td>\n",
       "    </tr>\n",
       "  </tbody>\n",
       "</table>\n",
       "</div>"
      ],
      "text/plain": [
       "                                                                  text lang  \\\n",
       "created_at                                                                    \n",
       "2017-01-20 11:12:24  RT @TheDairylandDon: Respect for Trump is best...   en   \n",
       "2017-01-20 11:12:24  RT @TerryMoran: Trump says no POTUS ever had i...   en   \n",
       "2017-01-20 11:12:24  RT @Impeach_D_Trump: Hey Donald Trump @realDon...   en   \n",
       "2017-01-20 11:12:24  RT @_ReMona: Them: Donald Trump is our preside...   en   \n",
       "2017-01-20 11:12:24  RT @robreiner: Upon Donald Trump's swearing in...   en   \n",
       "\n",
       "                    trump hillary  polarity  subjectivity polaritytext  \\\n",
       "created_at                                                               \n",
       "2017-01-20 11:12:24  True   False     1.000           0.3        happy   \n",
       "2017-01-20 11:12:24  True   False     0.000           0.0      neutral   \n",
       "2017-01-20 11:12:24  True   False     0.375           0.5        happy   \n",
       "2017-01-20 11:12:24  True   False     0.000           0.0      neutral   \n",
       "2017-01-20 11:12:24  True   False     0.500           0.5        happy   \n",
       "\n",
       "                    subjectivitytext  \n",
       "created_at                            \n",
       "2017-01-20 11:12:24       meaningful  \n",
       "2017-01-20 11:12:24       meaningful  \n",
       "2017-01-20 11:12:24       meaningful  \n",
       "2017-01-20 11:12:24       meaningful  \n",
       "2017-01-20 11:12:24       meaningful  "
      ]
     },
     "execution_count": 20,
     "metadata": {},
     "output_type": "execute_result"
    }
   ],
   "source": [
    "# Getting the result of the polarity\n",
    "tweets.head()"
   ]
  },
  {
   "cell_type": "markdown",
   "metadata": {},
   "source": [
    "## Plotting out the sentimental analysis"
   ]
  },
  {
   "cell_type": "code",
   "execution_count": 21,
   "metadata": {
    "collapsed": false
   },
   "outputs": [],
   "source": [
    "# Separating TrumpTweets and HillaryTweets\n",
    "trumptweets = tweets[tweets.trump==True]\n",
    "hillarytweets = tweets[tweets.hillary == True]"
   ]
  },
  {
   "cell_type": "code",
   "execution_count": 22,
   "metadata": {
    "collapsed": false
   },
   "outputs": [
    {
     "name": "stdout",
     "output_type": "stream",
     "text": [
      "         trump  hillary\n",
      "happy     3281       99\n",
      "neutral  25950      637\n",
      "unhappy   2300      106\n",
      "            trump  hillary\n",
      "meaningful  24333      595\n",
      "subjective   7198      247\n"
     ]
    }
   ],
   "source": [
    "# Polarity analysis\n",
    "trumppolaritycnt = trumptweets['polaritytext'].value_counts().rename(\"trump\")\n",
    "hillarypolaritycnt = hillarytweets['polaritytext'].value_counts().rename(\"hillary\")\n",
    "\n",
    "presidentialpolaritycnt = pd.concat([trumppolaritycnt, hillarypolaritycnt], axis=1)\n",
    "print(presidentialpolaritycnt)\n",
    "\n",
    "\n",
    "# SubjectivityAnalysis\n",
    "trumpsubjectivitycnt = trumptweets['subjectivitytext'].value_counts().rename(\"trump\")\n",
    "hillarysubjectivitycnt = hillarytweets['subjectivitytext'].value_counts().rename(\"hillary\")\n",
    "\n",
    "presidentialsubjectivitycnt = pd.concat([trumpsubjectivitycnt, hillarysubjectivitycnt], axis=1)\n",
    "print(presidentialsubjectivitycnt)\n"
   ]
  },
  {
   "cell_type": "code",
   "execution_count": 23,
   "metadata": {
    "collapsed": false
   },
   "outputs": [
    {
     "data": {
      "text/html": [
       "<div>\n",
       "<table border=\"1\" class=\"dataframe\">\n",
       "  <thead>\n",
       "    <tr style=\"text-align: right;\">\n",
       "      <th></th>\n",
       "      <th>trump</th>\n",
       "      <th>hillary</th>\n",
       "      <th>trumpratio</th>\n",
       "      <th>hillaryratio</th>\n",
       "    </tr>\n",
       "  </thead>\n",
       "  <tbody>\n",
       "    <tr>\n",
       "      <th>happy</th>\n",
       "      <td>3281</td>\n",
       "      <td>99</td>\n",
       "      <td>0.104056</td>\n",
       "      <td>0.117577</td>\n",
       "    </tr>\n",
       "    <tr>\n",
       "      <th>neutral</th>\n",
       "      <td>25950</td>\n",
       "      <td>637</td>\n",
       "      <td>0.823000</td>\n",
       "      <td>0.756532</td>\n",
       "    </tr>\n",
       "    <tr>\n",
       "      <th>unhappy</th>\n",
       "      <td>2300</td>\n",
       "      <td>106</td>\n",
       "      <td>0.072944</td>\n",
       "      <td>0.125891</td>\n",
       "    </tr>\n",
       "  </tbody>\n",
       "</table>\n",
       "</div>"
      ],
      "text/plain": [
       "         trump  hillary  trumpratio  hillaryratio\n",
       "happy     3281       99    0.104056      0.117577\n",
       "neutral  25950      637    0.823000      0.756532\n",
       "unhappy   2300      106    0.072944      0.125891"
      ]
     },
     "execution_count": 23,
     "metadata": {},
     "output_type": "execute_result"
    }
   ],
   "source": [
    "# Polarity Ratio Count\n",
    "presidentialpolaritycnt['trumpratio'] = presidentialpolaritycnt.trump/presidentialpolaritycnt.trump.sum()\n",
    "presidentialpolaritycnt['hillaryratio'] = presidentialpolaritycnt.hillary/presidentialpolaritycnt.hillary.sum()\n",
    "\n",
    "presidentialpolaritycnt"
   ]
  },
  {
   "cell_type": "code",
   "execution_count": 24,
   "metadata": {
    "collapsed": false
   },
   "outputs": [
    {
     "data": {
      "text/plain": [
       "<matplotlib.axes._subplots.AxesSubplot at 0x85f34860>"
      ]
     },
     "execution_count": 24,
     "metadata": {},
     "output_type": "execute_result"
    },
    {
     "data": {
      "image/png": "[encoded data removed]",
      "text/plain": [
       "<matplotlib.figure.Figure at 0x877e54e0>"
      ]
     },
     "metadata": {},
     "output_type": "display_data"
    }
   ],
   "source": [
    "# Plotting the polarity\n",
    "presidentialpolaritycnt.loc[:,'trumpratio':'hillaryratio'].T.plot(kind='bar',stacked=True,rot=1)"
   ]
  },
  {
   "cell_type": "code",
   "execution_count": 25,
   "metadata": {
    "collapsed": false
   },
   "outputs": [
    {
     "data": {
      "text/html": [
       "<div>\n",
       "<table border=\"1\" class=\"dataframe\">\n",
       "  <thead>\n",
       "    <tr style=\"text-align: right;\">\n",
       "      <th></th>\n",
       "      <th>trump</th>\n",
       "      <th>hillary</th>\n",
       "      <th>trumpratio</th>\n",
       "      <th>hillaryratio</th>\n",
       "    </tr>\n",
       "  </thead>\n",
       "  <tbody>\n",
       "    <tr>\n",
       "      <th>meaningful</th>\n",
       "      <td>24333</td>\n",
       "      <td>595</td>\n",
       "      <td>0.771717</td>\n",
       "      <td>0.706651</td>\n",
       "    </tr>\n",
       "    <tr>\n",
       "      <th>subjective</th>\n",
       "      <td>7198</td>\n",
       "      <td>247</td>\n",
       "      <td>0.228283</td>\n",
       "      <td>0.293349</td>\n",
       "    </tr>\n",
       "  </tbody>\n",
       "</table>\n",
       "</div>"
      ],
      "text/plain": [
       "            trump  hillary  trumpratio  hillaryratio\n",
       "meaningful  24333      595    0.771717      0.706651\n",
       "subjective   7198      247    0.228283      0.293349"
      ]
     },
     "execution_count": 25,
     "metadata": {},
     "output_type": "execute_result"
    }
   ],
   "source": [
    "# Subjectivity Ratio Count\n",
    "\n",
    "presidentialsubjectivitycnt['trumpratio'] = presidentialsubjectivitycnt.trump/presidentialsubjectivitycnt.trump.sum()\n",
    "presidentialsubjectivitycnt['hillaryratio'] = presidentialsubjectivitycnt.hillary/presidentialsubjectivitycnt.hillary.sum()\n",
    "\n",
    "presidentialsubjectivitycnt"
   ]
  },
  {
   "cell_type": "code",
   "execution_count": 26,
   "metadata": {
    "collapsed": false,
    "scrolled": true
   },
   "outputs": [
    {
     "data": {
      "text/plain": [
       "<matplotlib.axes._subplots.AxesSubplot at 0x85b1c7b8>"
      ]
     },
     "execution_count": 26,
     "metadata": {},
     "output_type": "execute_result"
    },
    {
     "data": {
      "image/png": "[encoded data removed]",
      "text/plain": [
       "<matplotlib.figure.Figure at 0x87567cc0>"
      ]
     },
     "metadata": {},
     "output_type": "display_data"
    }
   ],
   "source": [
    "# Plotting the subjectivity\n",
    "presidentialsubjectivitycnt.loc[:,'trumpratio':'hillaryratio'].T.plot(kind='bar',stacked=True)"
   ]
  },
  {
   "cell_type": "markdown",
   "metadata": {},
   "source": [
    "**Conclusion**\n",
    "\n",
    "Although Trump has released many controversial/outrageous policies and promised. The overall sentiments are happy to regard Trump in their tweets. There are also many meaningful/informative remarks about Trump in overall tweet sentiments. Probably because of analysts and news that have been increasingly commenting on Trump's policies. "
   ]
  },
  {
   "cell_type": "markdown",
   "metadata": {},
   "source": [
    "## Plotting Out Sentimental Analysis Timeline"
   ]
  },
  {
   "cell_type": "code",
   "execution_count": 27,
   "metadata": {
    "collapsed": false
   },
   "outputs": [
    {
     "data": {
      "text/plain": [
       "<matplotlib.axes._subplots.AxesSubplot at 0x87dcbb70>"
      ]
     },
     "execution_count": 27,
     "metadata": {},
     "output_type": "execute_result"
    },
    {
     "data": {
      "image/png": "[encoded data removed]",
      "text/plain": [
       "<matplotlib.figure.Figure at 0x87567a20>"
      ]
     },
     "metadata": {},
     "output_type": "display_data"
    }
   ],
   "source": [
    "# Counting polarity text by day to day basis\n",
    "trumppolaritydaycnt=trumptweets.groupby([trumptweets.index.date,\"polaritytext\"]).count().text\n",
    "hillarypolaritydaycnt=hillarytweets.groupby([hillarytweets.index.date,\"polaritytext\"]).count().text\n",
    "\n",
    "trumppolaritydaycnt.unstack(level=0).T.plot(kind='bar')"
   ]
  },
  {
   "cell_type": "markdown",
   "metadata": {},
   "source": [
    "**Conclusion**\n",
    "\n",
    "Again, the numbers might not be so meaningful because the reason why a lot of tweets at 28th is that I streamed it at that time. Regardless the main point should be how good or bad Trump is regarded over the time (probably in timeline format). This would be visible once there are longer twitter streaming data available."
   ]
  },
  {
   "cell_type": "markdown",
   "metadata": {},
   "source": [
    "## How about the news media. How often do they mention the election candidates?"
   ]
  },
  {
   "cell_type": "code",
   "execution_count": 28,
   "metadata": {
    "collapsed": false
   },
   "outputs": [
    {
     "data": {
      "text/html": [
       "<div>\n",
       "<table border=\"1\" class=\"dataframe\">\n",
       "  <thead>\n",
       "    <tr style=\"text-align: right;\">\n",
       "      <th></th>\n",
       "      <th>text</th>\n",
       "      <th>lang</th>\n",
       "      <th>trump</th>\n",
       "      <th>hillary</th>\n",
       "      <th>polarity</th>\n",
       "      <th>subjectivity</th>\n",
       "      <th>polaritytext</th>\n",
       "      <th>subjectivitytext</th>\n",
       "      <th>newssource</th>\n",
       "    </tr>\n",
       "    <tr>\n",
       "      <th>created_at</th>\n",
       "      <th></th>\n",
       "      <th></th>\n",
       "      <th></th>\n",
       "      <th></th>\n",
       "      <th></th>\n",
       "      <th></th>\n",
       "      <th></th>\n",
       "      <th></th>\n",
       "      <th></th>\n",
       "    </tr>\n",
       "  </thead>\n",
       "  <tbody>\n",
       "    <tr>\n",
       "      <th>2017-01-20 11:12:24</th>\n",
       "      <td>RT @TheDairylandDon: Respect for Trump is best...</td>\n",
       "      <td>en</td>\n",
       "      <td>True</td>\n",
       "      <td>False</td>\n",
       "      <td>1.000</td>\n",
       "      <td>0.3</td>\n",
       "      <td>happy</td>\n",
       "      <td>meaningful</td>\n",
       "      <td>unidentified</td>\n",
       "    </tr>\n",
       "    <tr>\n",
       "      <th>2017-01-20 11:12:24</th>\n",
       "      <td>RT @TerryMoran: Trump says no POTUS ever had i...</td>\n",
       "      <td>en</td>\n",
       "      <td>True</td>\n",
       "      <td>False</td>\n",
       "      <td>0.000</td>\n",
       "      <td>0.0</td>\n",
       "      <td>neutral</td>\n",
       "      <td>meaningful</td>\n",
       "      <td>unidentified</td>\n",
       "    </tr>\n",
       "    <tr>\n",
       "      <th>2017-01-20 11:12:24</th>\n",
       "      <td>RT @Impeach_D_Trump: Hey Donald Trump @realDon...</td>\n",
       "      <td>en</td>\n",
       "      <td>True</td>\n",
       "      <td>False</td>\n",
       "      <td>0.375</td>\n",
       "      <td>0.5</td>\n",
       "      <td>happy</td>\n",
       "      <td>meaningful</td>\n",
       "      <td>unidentified</td>\n",
       "    </tr>\n",
       "    <tr>\n",
       "      <th>2017-01-20 11:12:24</th>\n",
       "      <td>RT @_ReMona: Them: Donald Trump is our preside...</td>\n",
       "      <td>en</td>\n",
       "      <td>True</td>\n",
       "      <td>False</td>\n",
       "      <td>0.000</td>\n",
       "      <td>0.0</td>\n",
       "      <td>neutral</td>\n",
       "      <td>meaningful</td>\n",
       "      <td>unidentified</td>\n",
       "    </tr>\n",
       "    <tr>\n",
       "      <th>2017-01-20 11:12:24</th>\n",
       "      <td>RT @robreiner: Upon Donald Trump's swearing in...</td>\n",
       "      <td>en</td>\n",
       "      <td>True</td>\n",
       "      <td>False</td>\n",
       "      <td>0.500</td>\n",
       "      <td>0.5</td>\n",
       "      <td>happy</td>\n",
       "      <td>meaningful</td>\n",
       "      <td>unidentified</td>\n",
       "    </tr>\n",
       "  </tbody>\n",
       "</table>\n",
       "</div>"
      ],
      "text/plain": [
       "                                                                  text lang  \\\n",
       "created_at                                                                    \n",
       "2017-01-20 11:12:24  RT @TheDairylandDon: Respect for Trump is best...   en   \n",
       "2017-01-20 11:12:24  RT @TerryMoran: Trump says no POTUS ever had i...   en   \n",
       "2017-01-20 11:12:24  RT @Impeach_D_Trump: Hey Donald Trump @realDon...   en   \n",
       "2017-01-20 11:12:24  RT @_ReMona: Them: Donald Trump is our preside...   en   \n",
       "2017-01-20 11:12:24  RT @robreiner: Upon Donald Trump's swearing in...   en   \n",
       "\n",
       "                    trump hillary  polarity  subjectivity polaritytext  \\\n",
       "created_at                                                               \n",
       "2017-01-20 11:12:24  True   False     1.000           0.3        happy   \n",
       "2017-01-20 11:12:24  True   False     0.000           0.0      neutral   \n",
       "2017-01-20 11:12:24  True   False     0.375           0.5        happy   \n",
       "2017-01-20 11:12:24  True   False     0.000           0.0      neutral   \n",
       "2017-01-20 11:12:24  True   False     0.500           0.5        happy   \n",
       "\n",
       "                    subjectivitytext    newssource  \n",
       "created_at                                          \n",
       "2017-01-20 11:12:24       meaningful  unidentified  \n",
       "2017-01-20 11:12:24       meaningful  unidentified  \n",
       "2017-01-20 11:12:24       meaningful  unidentified  \n",
       "2017-01-20 11:12:24       meaningful  unidentified  \n",
       "2017-01-20 11:12:24       meaningful  unidentified  "
      ]
     },
     "execution_count": 28,
     "metadata": {},
     "output_type": "execute_result"
    }
   ],
   "source": [
    "# Identifying new column and newslist to scrape based on current tweets data\n",
    "tweets[\"newssource\"] = \"unidentified\"\n",
    "newslist=['nytimes','foxnews','cnn','nbc']\n",
    "\n",
    "# Looping through each news and give news sources\n",
    "for news in newslist:\n",
    "    tweets.ix[tweets.text.str.contains(\"@\"+news), 'newssource'] = news\n",
    "\n",
    "tweets.head()    "
   ]
  },
  {
   "cell_type": "code",
   "execution_count": 29,
   "metadata": {
    "collapsed": false
   },
   "outputs": [
    {
     "data": {
      "text/plain": [
       "<matplotlib.axes._subplots.AxesSubplot at 0x88183668>"
      ]
     },
     "execution_count": 29,
     "metadata": {},
     "output_type": "execute_result"
    },
    {
     "data": {
      "image/png": "[encoded data removed]",
      "text/plain": [
       "<matplotlib.figure.Figure at 0x87724550>"
      ]
     },
     "metadata": {},
     "output_type": "display_data"
    }
   ],
   "source": [
    "# Creating figure of pyplot to put graph side by side\n",
    "fig, axs = plt.subplots(1,2)\n",
    "fig.set_size_inches(16, 4)\n",
    "\n",
    "# Getting polarity text analysis based on tweetsnews\n",
    "trumptweetsnews = tweets[(tweets.trump == True) & (tweets.newssource!=\"unidentified\")]\n",
    "hillarytweetsnews = tweets[(tweets.hillary == True) & (tweets.newssource!=\"unidentified\")]\n",
    "\n",
    "trumptweetsnewscnt = trumptweetsnews.groupby([\"newssource\",\"polaritytext\"]).text.count()\n",
    "trumptweetsnewscnt.unstack(level=0).T.plot(kind='bar',stacked=True,rot=1,title=\"Trump news tweet\",ax=axs[0])\n",
    "\n",
    "hillarytweetsnewscnt = hillarytweetsnews.groupby([\"newssource\",\"polaritytext\"]).text.count()\n",
    "hillarytweetsnewscnt.unstack(level=0).T.plot(kind='bar',stacked=True,rot=1,title=\"Hillary news tweet\",ax=axs[1])"
   ]
  },
  {
   "cell_type": "markdown",
   "metadata": {},
   "source": [
    "**Conclusion**\n",
    "\n",
    "NYtimes and CNN mentioned about Trump a lot of times compared to other major news. Furthermore, NYTimes are more frequently seen to regard Trump in an unsatisfied way. This is probably the director who feeds on Trump's brash comments to attract more publicity. Regardless it is quite interesting that despite nytimes mentioning Trump so many times, Trump is still views in a decent manner among the Twitter users."
   ]
  },
  {
   "cell_type": "markdown",
   "metadata": {},
   "source": [
    "# Topic extractions\n",
    "This section illustrates how to do approximate topic modeling in Python. We will use a technique called non-negative matrix factorization (NMF) that strongly resembles Latent Dirichlet Allocation (LDA) which is used to find extract topics from bags of words (list of words)"
   ]
  },
  {
   "cell_type": "markdown",
   "metadata": {},
   "source": [
    "## Preparing data for topic extractions by making texts into bags of words"
   ]
  },
  {
   "cell_type": "code",
   "execution_count": 30,
   "metadata": {
    "collapsed": false
   },
   "outputs": [
    {
     "data": {
      "text/html": [
       "<div>\n",
       "<table border=\"1\" class=\"dataframe\">\n",
       "  <thead>\n",
       "    <tr style=\"text-align: right;\">\n",
       "      <th></th>\n",
       "      <th>text</th>\n",
       "      <th>lang</th>\n",
       "      <th>trump</th>\n",
       "      <th>hillary</th>\n",
       "      <th>polarity</th>\n",
       "      <th>subjectivity</th>\n",
       "      <th>polaritytext</th>\n",
       "      <th>subjectivitytext</th>\n",
       "      <th>newssource</th>\n",
       "    </tr>\n",
       "    <tr>\n",
       "      <th>created_at</th>\n",
       "      <th></th>\n",
       "      <th></th>\n",
       "      <th></th>\n",
       "      <th></th>\n",
       "      <th></th>\n",
       "      <th></th>\n",
       "      <th></th>\n",
       "      <th></th>\n",
       "      <th></th>\n",
       "    </tr>\n",
       "  </thead>\n",
       "  <tbody>\n",
       "    <tr>\n",
       "      <th>2017-01-20 11:12:24</th>\n",
       "      <td>RT @TheDairylandDon: Respect for Trump is best...</td>\n",
       "      <td>en</td>\n",
       "      <td>True</td>\n",
       "      <td>False</td>\n",
       "      <td>1.000</td>\n",
       "      <td>0.3</td>\n",
       "      <td>happy</td>\n",
       "      <td>meaningful</td>\n",
       "      <td>unidentified</td>\n",
       "    </tr>\n",
       "    <tr>\n",
       "      <th>2017-01-20 11:12:24</th>\n",
       "      <td>RT @TerryMoran: Trump says no POTUS ever had i...</td>\n",
       "      <td>en</td>\n",
       "      <td>True</td>\n",
       "      <td>False</td>\n",
       "      <td>0.000</td>\n",
       "      <td>0.0</td>\n",
       "      <td>neutral</td>\n",
       "      <td>meaningful</td>\n",
       "      <td>unidentified</td>\n",
       "    </tr>\n",
       "    <tr>\n",
       "      <th>2017-01-20 11:12:24</th>\n",
       "      <td>RT @Impeach_D_Trump: Hey Donald Trump @realDon...</td>\n",
       "      <td>en</td>\n",
       "      <td>True</td>\n",
       "      <td>False</td>\n",
       "      <td>0.375</td>\n",
       "      <td>0.5</td>\n",
       "      <td>happy</td>\n",
       "      <td>meaningful</td>\n",
       "      <td>unidentified</td>\n",
       "    </tr>\n",
       "    <tr>\n",
       "      <th>2017-01-20 11:12:24</th>\n",
       "      <td>RT @_ReMona: Them: Donald Trump is our preside...</td>\n",
       "      <td>en</td>\n",
       "      <td>True</td>\n",
       "      <td>False</td>\n",
       "      <td>0.000</td>\n",
       "      <td>0.0</td>\n",
       "      <td>neutral</td>\n",
       "      <td>meaningful</td>\n",
       "      <td>unidentified</td>\n",
       "    </tr>\n",
       "    <tr>\n",
       "      <th>2017-01-20 11:12:24</th>\n",
       "      <td>RT @robreiner: Upon Donald Trump's swearing in...</td>\n",
       "      <td>en</td>\n",
       "      <td>True</td>\n",
       "      <td>False</td>\n",
       "      <td>0.500</td>\n",
       "      <td>0.5</td>\n",
       "      <td>happy</td>\n",
       "      <td>meaningful</td>\n",
       "      <td>unidentified</td>\n",
       "    </tr>\n",
       "  </tbody>\n",
       "</table>\n",
       "</div>"
      ],
      "text/plain": [
       "                                                                  text lang  \\\n",
       "created_at                                                                    \n",
       "2017-01-20 11:12:24  RT @TheDairylandDon: Respect for Trump is best...   en   \n",
       "2017-01-20 11:12:24  RT @TerryMoran: Trump says no POTUS ever had i...   en   \n",
       "2017-01-20 11:12:24  RT @Impeach_D_Trump: Hey Donald Trump @realDon...   en   \n",
       "2017-01-20 11:12:24  RT @_ReMona: Them: Donald Trump is our preside...   en   \n",
       "2017-01-20 11:12:24  RT @robreiner: Upon Donald Trump's swearing in...   en   \n",
       "\n",
       "                    trump hillary  polarity  subjectivity polaritytext  \\\n",
       "created_at                                                               \n",
       "2017-01-20 11:12:24  True   False     1.000           0.3        happy   \n",
       "2017-01-20 11:12:24  True   False     0.000           0.0      neutral   \n",
       "2017-01-20 11:12:24  True   False     0.375           0.5        happy   \n",
       "2017-01-20 11:12:24  True   False     0.000           0.0      neutral   \n",
       "2017-01-20 11:12:24  True   False     0.500           0.5        happy   \n",
       "\n",
       "                    subjectivitytext    newssource  \n",
       "created_at                                          \n",
       "2017-01-20 11:12:24       meaningful  unidentified  \n",
       "2017-01-20 11:12:24       meaningful  unidentified  \n",
       "2017-01-20 11:12:24       meaningful  unidentified  \n",
       "2017-01-20 11:12:24       meaningful  unidentified  \n",
       "2017-01-20 11:12:24       meaningful  unidentified  "
      ]
     },
     "execution_count": 30,
     "metadata": {},
     "output_type": "execute_result"
    }
   ],
   "source": [
    "tweets.head()"
   ]
  },
  {
   "cell_type": "code",
   "execution_count": 31,
   "metadata": {
    "collapsed": false
   },
   "outputs": [
    {
     "name": "stdout",
     "output_type": "stream",
     "text": [
      "created_at\n",
      "2017-01-20 11:12:24    RT @TheDairylandDon: Respect for Trump is best...\n",
      "2017-01-20 11:12:24    RT @TerryMoran: Trump says no POTUS ever had i...\n",
      "2017-01-20 11:12:24    RT @Impeach_D_Trump: Hey Donald Trump @realDon...\n",
      "2017-01-20 11:12:24    RT @_ReMona: Them: Donald Trump is our preside...\n",
      "2017-01-20 11:12:24    RT @robreiner: Upon Donald Trump's swearing in...\n",
      "Name: text, dtype: object\n"
     ]
    }
   ],
   "source": [
    "# Importing necessary model values\n",
    "import numpy as np\n",
    "from sklearn.feature_extraction.text import CountVectorizer\n",
    "\n",
    "# Getting the X_train\n",
    "X_train = tweets.text\n",
    "print(X_train.head())"
   ]
  },
  {
   "cell_type": "code",
   "execution_count": 32,
   "metadata": {
    "collapsed": false
   },
   "outputs": [
    {
     "name": "stdout",
     "output_type": "stream",
     "text": [
      "(40458, 49869)\n",
      "49869\n"
     ]
    }
   ],
   "source": [
    "# tokenize and vectorize the words inside the list of documents/tweets\n",
    "vectorizer = CountVectorizer(stop_words='english')\n",
    "X_train_dtm = vectorizer.fit_transform(X_train)\n",
    "vocab = np.array(vectorizer.get_feature_names())\n",
    "\n",
    "print(X_train_dtm.shape)\n",
    "print(len(vocab))"
   ]
  },
  {
   "cell_type": "markdown",
   "metadata": {},
   "source": [
    "## Generating Decomposition Model to extract topic\n",
    "**By analogy with LDA, we will use NMF to get a document-topic matrix (topics here will also be referred to as “components”) and a list of top words for each topic. We will make analogy clear by using the same variable names: doctopic and topic_words**"
   ]
  },
  {
   "cell_type": "code",
   "execution_count": 33,
   "metadata": {
    "collapsed": false
   },
   "outputs": [],
   "source": [
    "# Using sklearn library to get the necessary LDA model\n",
    "from sklearn import decomposition\n",
    "\n",
    "num_topics = 8\n",
    "num_top_words = 8\n",
    "clf = decomposition.NMF(n_components=num_topics, random_state=1)\n",
    "\n",
    "# this next step may take some time to train depending on the texts you have\n",
    "doctopic = clf.fit_transform(X_train_dtm)\n",
    "# doctopic"
   ]
  },
  {
   "cell_type": "code",
   "execution_count": 34,
   "metadata": {
    "collapsed": false
   },
   "outputs": [],
   "source": [
    "# Getting the dominant topic for each word\n",
    "topic_words = []\n",
    "\n",
    "# Appending top important vocabset list onto topic_words list\n",
    "for topic in clf.components_:\n",
    "    word_idx = np.argsort(topic)[::-1][0:num_top_words]\n",
    "    topic_words.append([vocab[i] for i in word_idx])\n",
    "\n",
    "# topic_words"
   ]
  },
  {
   "cell_type": "code",
   "execution_count": 35,
   "metadata": {
    "collapsed": false
   },
   "outputs": [
    {
     "name": "stdout",
     "output_type": "stream",
     "text": [
      "Topic 0: https cheney dick thehill refugee stand thinks news\n",
      "Topic 1: trump president que en el la wall obama\n",
      "Topic 2: rt people amp going just hillary realdonaldtrump good\n",
      "Topic 3: day holocaust remembrance trump country muslimban signed religion\n",
      "Topic 4: 000 pay years public students send university annual\n",
      "Topic 5: donald trump president just leakdump inauguration berlin mayor\n",
      "Topic 6: ban muslim trump countries joyannreid immigration said cheney\n",
      "Topic 7: order executive trump refugees president 11 amp vetting\n"
     ]
    }
   ],
   "source": [
    "for t in range(len(topic_words)):\n",
    "    print(\"Topic {}: {}\".format(t, ' '.join(topic_words[t][:15])))"
   ]
  },
  {
   "cell_type": "markdown",
   "metadata": {},
   "source": [
    "# Visualizing the topics"
   ]
  },
  {
   "cell_type": "code",
   "execution_count": 36,
   "metadata": {
    "collapsed": false
   },
   "outputs": [
    {
     "name": "stdout",
     "output_type": "stream",
     "text": [
      "(40458, 9)\n",
      "(40458, 10)\n"
     ]
    }
   ],
   "source": [
    "import matplotlib.pyplot as plt\n",
    "\n",
    "# Making DataFrame that gets the doctopic (values of topics for each text)\n",
    "dftopic = pd.DataFrame(doctopic,columns=topic_words)\n",
    "dftopicinv=dftopic.T\n",
    "\n",
    "# Getting the dominant topic\n",
    "topic_series = []\n",
    "for i in np.arange(dftopic.shape[0]):\n",
    "    topic_series.append(dftopicinv[i].argmax())\n",
    "\n",
    "dftopic['dominanttopic'] = topic_series\n",
    "tweets['dominanttopic'] = topic_series\n",
    "\n",
    "print(dftopic.shape)\n",
    "print(tweets.shape)"
   ]
  },
  {
   "cell_type": "code",
   "execution_count": 37,
   "metadata": {
    "collapsed": false
   },
   "outputs": [
    {
     "name": "stdout",
     "output_type": "stream",
     "text": [
      "(https, trump, rt, day, 000, donald, ban, order)                           19784\n",
      "(dick, que, amp, remembrance, years, president, trump, trump)               9169\n",
      "(cheney, president, people, holocaust, pay, trump, muslim, executive)       3297\n",
      "(stand, la, hillary, muslimban, send, inauguration, immigration, 11)        3224\n",
      "(news, obama, good, religion, annual, mayor, cheney, vetting)               2115\n",
      "(thehill, en, going, trump, public, just, countries, refugees)              1281\n",
      "(thinks, wall, realdonaldtrump, signed, university, berlin, said, amp)      1265\n",
      "(refugee, el, just, country, students, leakdump, joyannreid, president)      323\n",
      "Name: dominanttopic, dtype: int64\n"
     ]
    },
    {
     "ename": "NameError",
     "evalue": "name 'value_count' is not defined",
     "output_type": "error",
     "traceback": [
      "\u001b[1;31m---------------------------------------------------------------------------\u001b[0m",
      "\u001b[1;31mNameError\u001b[0m                                 Traceback (most recent call last)",
      "\u001b[1;32m<ipython-input-37-c977435ab556>\u001b[0m in \u001b[0;36m<module>\u001b[1;34m()\u001b[0m\n\u001b[0;32m      9\u001b[0m \u001b[1;33m\u001b[0m\u001b[0m\n\u001b[0;32m     10\u001b[0m \u001b[1;31m#To show the percentage of each pie slice, pass an output format to the autopctparameter\u001b[0m\u001b[1;33m\u001b[0m\u001b[1;33m\u001b[0m\u001b[0m\n\u001b[1;32m---> 11\u001b[1;33m \u001b[0mplt\u001b[0m\u001b[1;33m.\u001b[0m\u001b[0mpie\u001b[0m\u001b[1;33m(\u001b[0m\u001b[0mvalue_count\u001b[0m\u001b[1;33m.\u001b[0m\u001b[0mvalues\u001b[0m\u001b[1;33m,\u001b[0m\u001b[0mlabels\u001b[0m\u001b[1;33m=\u001b[0m\u001b[0mvalue_count\u001b[0m\u001b[1;33m.\u001b[0m\u001b[0mindex\u001b[0m\u001b[1;33m,\u001b[0m\u001b[0mautopct\u001b[0m\u001b[1;33m=\u001b[0m\u001b[1;34m\"%1.1f%%\"\u001b[0m\u001b[1;33m)\u001b[0m\u001b[1;33m\u001b[0m\u001b[0m\n\u001b[0m\u001b[0;32m     12\u001b[0m \u001b[0mplt\u001b[0m\u001b[1;33m.\u001b[0m\u001b[0mtitle\u001b[0m\u001b[1;33m(\u001b[0m\u001b[1;34m\"Topics most talked\"\u001b[0m\u001b[1;33m)\u001b[0m\u001b[1;33m\u001b[0m\u001b[0m\n\u001b[0;32m     13\u001b[0m \u001b[0mplt\u001b[0m\u001b[1;33m.\u001b[0m\u001b[0mshow\u001b[0m\u001b[1;33m(\u001b[0m\u001b[1;33m)\u001b[0m\u001b[1;33m\u001b[0m\u001b[0m\n",
      "\u001b[1;31mNameError\u001b[0m: name 'value_count' is not defined"
     ]
    },
    {
     "data": {
      "image/png": "[encoded data removed]",
      "text/plain": [
       "<matplotlib.figure.Figure at 0x87dfdbe0>"
      ]
     },
     "metadata": {},
     "output_type": "display_data"
    }
   ],
   "source": [
    "# Getting top dominant topics and count them\n",
    "topic_count =tweets.dominanttopic.value_counts()\n",
    "print(topic_count)\n",
    "\n",
    "# Visualizing dominant topics count\n",
    "\n",
    "#The pie chart is oval by default. To make it a circle use pyplot.axis(\"equal\")\n",
    "plt.axis(\"equal\") \n",
    "\n",
    "#To show the percentage of each pie slice, pass an output format to the autopctparameter \n",
    "plt.pie(value_count.values,labels=value_count.index,autopct=\"%1.1f%%\") \n",
    "plt.title(\"Topics most talked\")\n",
    "plt.show()"
   ]
  },
  {
   "cell_type": "markdown",
   "metadata": {},
   "source": [
    "## Plotting Out Sentimental Analysis Timeline"
   ]
  },
  {
   "cell_type": "code",
   "execution_count": null,
   "metadata": {
    "collapsed": false
   },
   "outputs": [],
   "source": [
    "topic_time_count =tweets.loc[:,'dominanttopic']\n",
    "topic_time_count\n",
    "# Make a timeline\n",
    "topic_day_count = topic_time_count.groupby([topic_time_count.index.date,topic_time_count.values]).count()\n",
    "topic_day_count.unstack(level=0).T.plot(kind='bar',legend=True,figsize=(15, 7))"
   ]
  },
  {
   "cell_type": "markdown",
   "metadata": {},
   "source": [
    "# Challenges (To Be Continued):\n",
    "* Analysing fake news\n",
    "* Analysing geographic locations sentiments given charts\n",
    "* Applying these techniques for companies, commodities, and stocks"
   ]
  },
  {
   "cell_type": "markdown",
   "metadata": {},
   "source": [
    "# Next lesson:\n",
    "## Lesson 6 Basic Python for Data Analytics (Optimization Model for Operations Management)"
   ]
  }
 ],
 "metadata": {
  "kernelspec": {
   "display_name": "Python 2",
   "language": "python",
   "name": "python2"
  },
  "language_info": {
   "codemirror_mode": {
    "name": "ipython",
    "version": 2
   },
   "file_extension": ".py",
   "mimetype": "text/x-python",
   "name": "python",
   "nbconvert_exporter": "python",
   "pygments_lexer": "ipython2",
   "version": "2.7.11"
  }
 },
 "nbformat": 4,
 "nbformat_minor": 0
}
