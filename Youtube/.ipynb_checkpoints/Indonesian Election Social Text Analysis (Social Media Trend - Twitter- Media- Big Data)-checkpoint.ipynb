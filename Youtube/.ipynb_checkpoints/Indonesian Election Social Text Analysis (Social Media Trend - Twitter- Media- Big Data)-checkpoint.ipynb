{
 "cells": [
  {
   "cell_type": "markdown",
   "metadata": {},
   "source": [
    "# Indonesian Election Social Text Analysis (Social Media Trend - Twitter- Media- Big Data)\n",
    "# Introduction\n",
    "\n",
    "During the Indonesian presidential election, Jokowi and Prabowo have become the most talked candidates which represents the candidacy. The Indonesian Presidential Primaries were becoming news sensation. Many news and social media generated fads over who are going to win the presidential election. Now in 2019, we will try and analyse who will win the presidential elections. What are the trends that we could find from it.\n",
    "\n",
    "Could we have predicted who is winning by using twitter analysis?\n",
    "Could we apply these to others? Let's say, whether Samsung and Apple going to win in the future?\n",
    "What are the public opinions or news exposures of both candidates?\n",
    "\n",
    "Let's find out whether we can do these. But for now, let's analyse the presidential election\n"
   ]
  },
  {
   "cell_type": "markdown",
   "metadata": {},
   "source": [
    "# <font color='red'>Notice:</font>\n",
    "\n",
    "As I have found recently that Twitter only allows historical data on administration and financial fee case, this case only considers recent data. However, this data should still be sufficient represent the current public opinion for Indonesian presidential election. \n",
    "\n",
    "For more information on how you can grab Twitter Historical Data (more than a week past). Feel free to retrieve from here\n",
    "https://blog.gnip.com/tag/historical-twitter-data/\n"
   ]
  },
  {
   "cell_type": "markdown",
   "metadata": {},
   "source": [
    "## Objective\n",
    "\n",
    "* To use tweepy (Python Library linked with Twitter) to load data from Twitter\n",
    "* Setting up Twitter Developer account linked to profile\n",
    "* Initialize Connections and Extracting the presidential election tweets\n",
    "* To explore Presidential Election Jokow vs Prabowo from Twitter data \n",
    "    * Viewing the data\n",
    "    * Search Term Analysis\n",
    "    * Exploring Twitter Trends\n",
    "* Sentimental Analysis\n",
    "    * Generating Sentimental Analysis\n",
    "    * Plotting out Sentimental Analysis\n",
    "    * How about the news media. How often do they mention the election candidates?\n",
    "* Topic Analysis\n",
    "    * Generating Topic with LDA\n",
    "    * Plotting out Topic Analysis\n",
    "* Challenges:\n",
    "    * Analysing fake news\n",
    "    * Analysing geographic locations sentiments given charts\n",
    "    * Applying these techniques for companies, commodities, and stocks\n",
    "* Next lesson:\n",
    "    * Lesson 6 Basic Python for Data Analytics (Optimization Model for Operations Management)"
   ]
  },
  {
   "cell_type": "markdown",
   "metadata": {},
   "source": [
    "# Setting up Twitter Developer account linked to profile\n",
    "https://apps.twitter.com/"
   ]
  },
  {
   "cell_type": "markdown",
   "metadata": {},
   "source": [
    "## Initialize Connection"
   ]
  },
  {
   "cell_type": "code",
   "execution_count": 1,
   "metadata": {},
   "outputs": [
    {
     "ename": "SyntaxError",
     "evalue": "invalid syntax (<ipython-input-1-6d600f6ade4e>, line 6)",
     "output_type": "error",
     "traceback": [
      "\u001b[1;36m  File \u001b[1;32m\"<ipython-input-1-6d600f6ade4e>\"\u001b[1;36m, line \u001b[1;32m6\u001b[0m\n\u001b[1;33m    ckey=\u001b[0m\n\u001b[1;37m         ^\u001b[0m\n\u001b[1;31mSyntaxError\u001b[0m\u001b[1;31m:\u001b[0m invalid syntax\n"
     ]
    }
   ],
   "source": [
    "import tweepy\n",
    "import json\n",
    "import time\n",
    "\n",
    "#consumer key, consumer secret, access token, access secret.\n",
    "ckey=\n",
    "csecret=\n",
    "atoken=\n",
    "asecret=\n",
    "\n",
    "# Instantiating objects of authentication \n",
    "auth = tweepy.OAuthHandler(ckey, csecret)\n",
    "auth.set_access_token(atoken, asecret)"
   ]
  },
  {
   "cell_type": "markdown",
   "metadata": {},
   "source": [
    "## Testing the connection"
   ]
  },
  {
   "cell_type": "code",
   "execution_count": null,
   "metadata": {},
   "outputs": [],
   "source": [
    "# Creation of the actual interface, using authentication\n",
    "api = tweepy.API(auth)\n",
    " \n",
    "# Sample method, used to update a status\n",
    "# api.update_status('Hello I am creating a python youtube tutorial!')\n",
    "\n",
    "# Creates the user object. The me() method returns the user whose authentication keys were used.\n",
    "user = api.me()"
   ]
  },
  {
   "cell_type": "markdown",
   "metadata": {},
   "source": [
    "## Getting out profile data"
   ]
  },
  {
   "cell_type": "code",
   "execution_count": null,
   "metadata": {},
   "outputs": [],
   "source": [
    "# Printing out profile data\n",
    "print('Name: ' + user.name)\n",
    "print('Location: ' + user.location)\n",
    "print('Friends: ' + str(user.friends_count))"
   ]
  },
  {
   "cell_type": "code",
   "execution_count": null,
   "metadata": {},
   "outputs": [],
   "source": [
    "# Reading your timeline status\n",
    "for status in tweepy.Cursor(api.home_timeline).items(10):\n",
    "    # Process a single status\n",
    "    print(status.text) "
   ]
  },
  {
   "cell_type": "markdown",
   "metadata": {},
   "source": [
    "## Tweepy Cookbook\n",
    "http://tweepy.readthedocs.io/en/v3.5.0/"
   ]
  },
  {
   "cell_type": "markdown",
   "metadata": {},
   "source": [
    "# Streaming Presidential Election Tweets"
   ]
  },
  {
   "cell_type": "code",
   "execution_count": 2,
   "metadata": {
    "scrolled": true
   },
   "outputs": [
    {
     "ename": "SyntaxError",
     "evalue": "Missing parentheses in call to 'print'. Did you mean print(status)? (<ipython-input-2-1a9cfd2e7cd7>, line 23)",
     "output_type": "error",
     "traceback": [
      "\u001b[1;36m  File \u001b[1;32m\"<ipython-input-2-1a9cfd2e7cd7>\"\u001b[1;36m, line \u001b[1;32m23\u001b[0m\n\u001b[1;33m    print status\u001b[0m\n\u001b[1;37m               ^\u001b[0m\n\u001b[1;31mSyntaxError\u001b[0m\u001b[1;31m:\u001b[0m Missing parentheses in call to 'print'. Did you mean print(status)?\n"
     ]
    }
   ],
   "source": [
    "# Initializing a listener class that streams Twitter status\n",
    "class StdOutListener(tweepy.StreamListener):\n",
    "#     Create an init statement\n",
    "    def __init__(self, start_time, time_limit=100):\n",
    "        self.time = start_time\n",
    "        self.limit = time_limit\n",
    "        self.tweet_data = []\n",
    "    \n",
    "#     Defining what you are going to do based on data\n",
    "    def on_data(self, data):\n",
    "        try:\n",
    "#             Opening data for streaming\n",
    "            with open('output.json', 'a') as f:\n",
    "                f.write(data)\n",
    "                return True\n",
    "        except KeyboardInterrupt:\n",
    "            print(\"Twitter Download is interrupted\")\n",
    "        except BaseException as e:\n",
    "            print(str(e))\n",
    "        return True\n",
    "\n",
    "    def on_error(self, status):\n",
    "        print status\n",
    "\n",
    "\n",
    "\n",
    "# This handles Twitter authetification and the connection to Twitter Streaming API\n",
    "start_time = time.strptime(\"16 Apr 19\", \"%d %b %y\")\n",
    "l = StdOutListener(start_time)\n",
    "stream = tweepy.Stream(auth, l)\n",
    "\n",
    "# This line filter Twitter Streams to capture data by the keywords: 'jokowi', 'prabowo'\n",
    "try:\n",
    "    stream.filter(track=['jokowi', 'prabowo'])\n",
    "except KeyboardInterrupt:\n",
    "    print(\"Twitter Download is interrupted\")\n"
   ]
  },
  {
   "cell_type": "markdown",
   "metadata": {},
   "source": [
    "# Exploring data"
   ]
  },
  {
   "cell_type": "markdown",
   "metadata": {},
   "source": [
    "To explore Presidential Election Jokowi vs Prabowo from Twitter data \n",
    "    * Reading and Preparing the data\n",
    "    * Viewing the data\n",
    "    * Search Term Analysis"
   ]
  },
  {
   "cell_type": "markdown",
   "metadata": {},
   "source": [
    "## Reading and Preparing the data\n",
    "\n",
    "To read and prepare the data we would first:\n",
    "1. Import json library to read json files\n",
    "2. Import and style matplotlib (to visualize the data)\n",
    "3. Process the data line by line and append it to a list"
   ]
  },
  {
   "cell_type": "code",
   "execution_count": 3,
   "metadata": {},
   "outputs": [],
   "source": [
    "# Importing json (JavaScript Object Notation) library to read twitter data\n",
    "import json\n",
    "\n",
    "# Importing data analytics related libraries (DataFrame and Visualization)\n",
    "import pandas as pd\n",
    "import matplotlib.pyplot as plt\n",
    "from matplotlib import style\n",
    "\n",
    "# Adjusting the size of matplotlib\n",
    "import matplotlib as mpl\n",
    "mpl.rc('figure', figsize=(8, 7))\n",
    "mpl.__version__\n",
    "\n",
    "# Adjusting the style of matplotlib\n",
    "style.use('ggplot')\n",
    "\n",
    "# Magic to tell python notebook we want matplotlib charts included\n",
    "%matplotlib inline\n"
   ]
  },
  {
   "cell_type": "code",
   "execution_count": 4,
   "metadata": {
    "scrolled": false
   },
   "outputs": [
    {
     "name": "stdout",
     "output_type": "stream",
     "text": [
      "20509\n"
     ]
    }
   ],
   "source": [
    "# Where you put the data of twitter stream\n",
    "tweets_data_path = 'dataset/pemilu-data-2019.json'\n",
    "\n",
    "tweets_data = []\n",
    "tweets_file = open(tweets_data_path, \"r\")\n",
    "\n",
    "for line in tweets_file:\n",
    "    try:\n",
    "        tweet = json.loads(line)\n",
    "        tweets_data.append(tweet)\n",
    "    except:\n",
    "        continue\n",
    "\n",
    "# Printing the length of the tweets data\n",
    "print (len(tweets_data))"
   ]
  },
  {
   "cell_type": "code",
   "execution_count": 5,
   "metadata": {},
   "outputs": [],
   "source": [
    "from datetime import datetime\n",
    "\n",
    "errors = []\n",
    "def gettext(tweet,element):\n",
    "    try:\n",
    "        return tweet[element]\n",
    "    except KeyError:\n",
    "        errors.append(tweet)\n",
    "        pass\n",
    "\n",
    "# Getting the data and texts along the ways using gettext\n",
    "tweets = pd.DataFrame()\n",
    "tweets['text'] = [gettext(tweet,'text') for tweet in tweets_data]\n",
    "tweets['lang'] = [gettext(tweet,'lang') for tweet in tweets_data]\n",
    "tweets['created_at'] = [gettext(tweet,'created_at') for tweet in tweets_data]\n",
    "tweets['created_at'] = pd.to_datetime(tweets['created_at'],errors='ignore')\n",
    "tweets.set_index('created_at',inplace=True)"
   ]
  },
  {
   "cell_type": "markdown",
   "metadata": {},
   "source": [
    "## Remove empty text twitter\n",
    "\n",
    "Some of the text are in different text formats (some Chinese characters that could not be passed on the gettext(tweet. element). We could translate and process it using Natural Language Processing Library -- recommended using TextBlob for a quick translation -- https://textblob.readthedocs.io/en/dev/. But for now, since it does not take too many lines, let us ignore these lines"
   ]
  },
  {
   "cell_type": "code",
   "execution_count": 6,
   "metadata": {},
   "outputs": [
    {
     "data": {
      "text/html": [
       "<div>\n",
       "<style scoped>\n",
       "    .dataframe tbody tr th:only-of-type {\n",
       "        vertical-align: middle;\n",
       "    }\n",
       "\n",
       "    .dataframe tbody tr th {\n",
       "        vertical-align: top;\n",
       "    }\n",
       "\n",
       "    .dataframe thead th {\n",
       "        text-align: right;\n",
       "    }\n",
       "</style>\n",
       "<table border=\"1\" class=\"dataframe\">\n",
       "  <thead>\n",
       "    <tr style=\"text-align: right;\">\n",
       "      <th></th>\n",
       "      <th>text</th>\n",
       "      <th>lang</th>\n",
       "    </tr>\n",
       "    <tr>\n",
       "      <th>created_at</th>\n",
       "      <th></th>\n",
       "      <th></th>\n",
       "    </tr>\n",
       "  </thead>\n",
       "  <tbody>\n",
       "    <tr>\n",
       "      <th>2019-04-19 02:40:05</th>\n",
       "      <td>RT @FerdinandHutah2: Menjawab kesimpang siuran...</td>\n",
       "      <td>in</td>\n",
       "    </tr>\n",
       "    <tr>\n",
       "      <th>2019-04-19 02:40:05</th>\n",
       "      <td>@Suara_Bawah @prabowo Ngarep jadi menteri 👎</td>\n",
       "      <td>in</td>\n",
       "    </tr>\n",
       "    <tr>\n",
       "      <th>2019-04-19 02:40:05</th>\n",
       "      <td>RT @thanos_idn: PERHATIAN dan SEBARKAN \\n\\nKep...</td>\n",
       "      <td>in</td>\n",
       "    </tr>\n",
       "    <tr>\n",
       "      <th>2019-04-19 02:40:05</th>\n",
       "      <td>RT @IsmanTengku: VERY VERY URGENT FOR SHARING:...</td>\n",
       "      <td>in</td>\n",
       "    </tr>\n",
       "    <tr>\n",
       "      <th>2019-04-19 02:40:06</th>\n",
       "      <td>RT @Ra_Ria_Rana: SO DO I\\n\\nI BELIEVE MR @prab...</td>\n",
       "      <td>en</td>\n",
       "    </tr>\n",
       "  </tbody>\n",
       "</table>\n",
       "</div>"
      ],
      "text/plain": [
       "                                                                  text lang\n",
       "created_at                                                                 \n",
       "2019-04-19 02:40:05  RT @FerdinandHutah2: Menjawab kesimpang siuran...   in\n",
       "2019-04-19 02:40:05        @Suara_Bawah @prabowo Ngarep jadi menteri 👎   in\n",
       "2019-04-19 02:40:05  RT @thanos_idn: PERHATIAN dan SEBARKAN \\n\\nKep...   in\n",
       "2019-04-19 02:40:05  RT @IsmanTengku: VERY VERY URGENT FOR SHARING:...   in\n",
       "2019-04-19 02:40:06  RT @Ra_Ria_Rana: SO DO I\\n\\nI BELIEVE MR @prab...   en"
      ]
     },
     "execution_count": 6,
     "metadata": {},
     "output_type": "execute_result"
    }
   ],
   "source": [
    "tweets.head()"
   ]
  },
  {
   "cell_type": "code",
   "execution_count": 7,
   "metadata": {},
   "outputs": [
    {
     "data": {
      "text/plain": [
       "text    0\n",
       "lang    0\n",
       "dtype: int64"
      ]
     },
     "execution_count": 7,
     "metadata": {},
     "output_type": "execute_result"
    }
   ],
   "source": [
    "tweets.dropna(axis=0,how=\"any\",inplace=True)\n",
    "tweets.isnull().sum()"
   ]
  },
  {
   "cell_type": "code",
   "execution_count": 8,
   "metadata": {},
   "outputs": [
    {
     "name": "stdout",
     "output_type": "stream",
     "text": [
      "20509\n"
     ]
    }
   ],
   "source": [
    "print (len(tweets))"
   ]
  },
  {
   "cell_type": "markdown",
   "metadata": {},
   "source": [
    "## What languages are used in the Twitter Feeds?"
   ]
  },
  {
   "cell_type": "code",
   "execution_count": 9,
   "metadata": {},
   "outputs": [
    {
     "data": {
      "text/plain": [
       "<matplotlib.axes._subplots.AxesSubplot at 0x28a17ddb0f0>"
      ]
     },
     "execution_count": 9,
     "metadata": {},
     "output_type": "execute_result"
    },
    {
     "data": {
      "image/png": "[encoded data removed]",
      "text/plain": [
       "<Figure size 432x288 with 1 Axes>"
      ]
     },
     "metadata": {
      "needs_background": "light"
     },
     "output_type": "display_data"
    }
   ],
   "source": [
    "tweets_by_lang = tweets['lang'].value_counts()\n",
    "tweets_by_lang.head(10).plot(kind=\"bar\")"
   ]
  },
  {
   "cell_type": "markdown",
   "metadata": {},
   "source": [
    "Most of the language are in Indonesian. This means that to analyse this, we will need to translate the posts into English for sentimental or other non Indonesian supported libraries to use."
   ]
  },
  {
   "cell_type": "code",
   "execution_count": 26,
   "metadata": {},
   "outputs": [
    {
     "name": "stdout",
     "output_type": "stream",
     "text": [
      "None\n"
     ]
    }
   ],
   "source": [
    "from textblob import TextBlob\n",
    "def translate_english(text):\n",
    "    try:\n",
    "        blob = TextBlob(text)\n",
    "        english_text =  str(blob.translate(to='en'))\n",
    "        print(english_text)\n",
    "        return english_text\n",
    "    except:\n",
    "        return None\n",
    "    \n",
    "tweets['english_text'] = tweets.reset_index().text.apply(translate_english)"
   ]
  },
  {
   "cell_type": "markdown",
   "metadata": {},
   "source": [
    "Unfortunately, There are limits that Google API translate impose, so we could not translate everything https://cloud.google.com/translate/quotas. As a result, I created a separate dataset that is called translation.txt for sentimental analysis."
   ]
  },
  {
   "cell_type": "code",
   "execution_count": 108,
   "metadata": {},
   "outputs": [],
   "source": [
    "fileName = 'dataset/Translation.txt'\n",
    "translations = open(fileName, 'r')\n",
    "translation_list = [line for line in translations.readlines()]\n",
    "# Remove those with [\\n]\n",
    "translation_list = [word for word in translation_list if word not in [['\\n']]]\n",
    "\n",
    "tweets_english = pd.DataFrame()\n",
    "tweets_english['text'] = translation_list"
   ]
  },
  {
   "cell_type": "code",
   "execution_count": 112,
   "metadata": {},
   "outputs": [
    {
     "data": {
      "text/html": [
       "<div>\n",
       "<style scoped>\n",
       "    .dataframe tbody tr th:only-of-type {\n",
       "        vertical-align: middle;\n",
       "    }\n",
       "\n",
       "    .dataframe tbody tr th {\n",
       "        vertical-align: top;\n",
       "    }\n",
       "\n",
       "    .dataframe thead th {\n",
       "        text-align: right;\n",
       "    }\n",
       "</style>\n",
       "<table border=\"1\" class=\"dataframe\">\n",
       "  <thead>\n",
       "    <tr style=\"text-align: right;\">\n",
       "      <th></th>\n",
       "      <th>text</th>\n",
       "    </tr>\n",
       "  </thead>\n",
       "  <tbody>\n",
       "    <tr>\n",
       "      <th>0</th>\n",
       "      <td>RT @ FerdinandHutah2: Answering the confusion ...</td>\n",
       "    </tr>\n",
       "    <tr>\n",
       "      <th>1</th>\n",
       "      <td>RT @ thanos_idn: CAUTION and SPREAD\\n</td>\n",
       "    </tr>\n",
       "    <tr>\n",
       "      <th>2</th>\n",
       "      <td>\\n</td>\n",
       "    </tr>\n",
       "    <tr>\n",
       "      <th>3</th>\n",
       "      <td>To volunteers struggle 02 Prabowo-Sandi please...</td>\n",
       "    </tr>\n",
       "    <tr>\n",
       "      <th>4</th>\n",
       "      <td>RT @ IsmanTengku: VERY VERY URGENT FOR SHARING:\\n</td>\n",
       "    </tr>\n",
       "  </tbody>\n",
       "</table>\n",
       "</div>"
      ],
      "text/plain": [
       "                                                text\n",
       "0  RT @ FerdinandHutah2: Answering the confusion ...\n",
       "1              RT @ thanos_idn: CAUTION and SPREAD\\n\n",
       "2                                                 \\n\n",
       "3  To volunteers struggle 02 Prabowo-Sandi please...\n",
       "4  RT @ IsmanTengku: VERY VERY URGENT FOR SHARING:\\n"
      ]
     },
     "execution_count": 112,
     "metadata": {},
     "output_type": "execute_result"
    }
   ],
   "source": [
    "# Cleanup\n",
    "tweets_english.head()"
   ]
  },
  {
   "cell_type": "markdown",
   "metadata": {},
   "source": [
    "## Extracting the relevant posts for each presidential candidate\n",
    "To find these relevant posts, we would search a certain word in a sentence. For example does Jokowi or Prabowo is mentioned in the tweets, which one is the tweets belonged to? \n",
    "\n",
    "Example:\n",
    "\n",
    "* Jokowi dan Prabowo selalu bertarung seperti anak-anak  (Jokowi 1, Prabowo 1)\n",
    "* Jokowi mengembangkan on Jawa Tengah (Jokowi 1, Prabowo 0)\n",
    "* Prabowo terlalu cepat senang (Jokowi 0, Prabowo 1)"
   ]
  },
  {
   "cell_type": "code",
   "execution_count": 113,
   "metadata": {},
   "outputs": [
    {
     "name": "stdout",
     "output_type": "stream",
     "text": [
      "True\n"
     ]
    }
   ],
   "source": [
    "# Importing Regular expression for word searching\n",
    "import re\n",
    "def word_in_text(word, text):\n",
    "    try:\n",
    "        text = text.lower()\n",
    "        match = re.search(word, text)\n",
    "        if match:\n",
    "            return True\n",
    "        return False\n",
    "    except AttributeError:\n",
    "        return False\n",
    "\n",
    "# Testing out word_in_text to find a certain word in a text\n",
    "print(word_in_text('hello','Hi there maybe, I would say hello instead'))"
   ]
  },
  {
   "cell_type": "code",
   "execution_count": 114,
   "metadata": {},
   "outputs": [
    {
     "name": "stdout",
     "output_type": "stream",
     "text": [
      "6005\n",
      "10075\n"
     ]
    }
   ],
   "source": [
    "# Checking how many tweets talk about each presidential candidate\n",
    "\n",
    "# Please check if there are any texts that have certain words here\n",
    "tweets['jokowi'] = tweets['text'].apply(lambda tweet: word_in_text('jokowi', tweet))\n",
    "tweets['prabowo'] = tweets['text'].apply(lambda tweet: word_in_text('prabowo', tweet))\n",
    "\n",
    "# Repeat for the English Translated\n",
    "tweets_english['jokowi'] = tweets_english['text'].apply(lambda tweet: word_in_text('jokowi', tweet))\n",
    "tweets_english['prabowo'] = tweets_english['text'].apply(lambda tweet: word_in_text('prabowo', tweet))\n",
    "\n",
    "# Check how many have the mentions of Jokowi and Prabowo\n",
    "print (tweets['jokowi'].value_counts()[1])\n",
    "print (tweets['prabowo'].value_counts()[1])"
   ]
  },
  {
   "cell_type": "code",
   "execution_count": 115,
   "metadata": {
    "scrolled": false
   },
   "outputs": [
    {
     "name": "stdout",
     "output_type": "stream",
     "text": [
      "[[6005, 10075]]\n"
     ]
    },
    {
     "data": {
      "text/plain": [
       "<matplotlib.axes._subplots.AxesSubplot at 0x28a3c64ab38>"
      ]
     },
     "execution_count": 115,
     "metadata": {},
     "output_type": "execute_result"
    },
    {
     "data": {
      "image/png": "[encoded data removed]",
      "text/plain": [
       "<Figure size 432x288 with 1 Axes>"
      ]
     },
     "metadata": {
      "needs_background": "light"
     },
     "output_type": "display_data"
    }
   ],
   "source": [
    "presidential_candidates = ['jokowi', 'prabowo']\n",
    "tweets_by_pres_candidates = [[tweets['jokowi'].value_counts()[1], tweets['prabowo'].value_counts()[1]]]\n",
    "print(tweets_by_pres_candidates)\n",
    "\n",
    "# Plotting the candidate counts\n",
    "candidate_frame = pd.DataFrame(tweets_by_pres_candidates,columns=presidential_candidates)\n",
    "candidate_frame.T.plot(kind='bar',legend=False,title=\"Twitter counts of presidential candidates\")\n"
   ]
  },
  {
   "cell_type": "markdown",
   "metadata": {},
   "source": [
    "## Exploring Tweets trend"
   ]
  },
  {
   "cell_type": "code",
   "execution_count": 116,
   "metadata": {
    "scrolled": true
   },
   "outputs": [
    {
     "data": {
      "text/html": [
       "<div>\n",
       "<style scoped>\n",
       "    .dataframe tbody tr th:only-of-type {\n",
       "        vertical-align: middle;\n",
       "    }\n",
       "\n",
       "    .dataframe tbody tr th {\n",
       "        vertical-align: top;\n",
       "    }\n",
       "\n",
       "    .dataframe thead th {\n",
       "        text-align: right;\n",
       "    }\n",
       "</style>\n",
       "<table border=\"1\" class=\"dataframe\">\n",
       "  <thead>\n",
       "    <tr style=\"text-align: right;\">\n",
       "      <th></th>\n",
       "      <th>text</th>\n",
       "      <th>lang</th>\n",
       "      <th>jokowi</th>\n",
       "      <th>prabowo</th>\n",
       "      <th>polarity</th>\n",
       "    </tr>\n",
       "    <tr>\n",
       "      <th>created_at</th>\n",
       "      <th></th>\n",
       "      <th></th>\n",
       "      <th></th>\n",
       "      <th></th>\n",
       "      <th></th>\n",
       "    </tr>\n",
       "  </thead>\n",
       "  <tbody>\n",
       "    <tr>\n",
       "      <th>2019-04-19 02:40:05</th>\n",
       "      <td>RT @FerdinandHutah2: Menjawab kesimpang siuran...</td>\n",
       "      <td>in</td>\n",
       "      <td>False</td>\n",
       "      <td>False</td>\n",
       "      <td>NaN</td>\n",
       "    </tr>\n",
       "    <tr>\n",
       "      <th>2019-04-19 02:40:05</th>\n",
       "      <td>@Suara_Bawah @prabowo Ngarep jadi menteri 👎</td>\n",
       "      <td>in</td>\n",
       "      <td>False</td>\n",
       "      <td>True</td>\n",
       "      <td>NaN</td>\n",
       "    </tr>\n",
       "    <tr>\n",
       "      <th>2019-04-19 02:40:05</th>\n",
       "      <td>RT @thanos_idn: PERHATIAN dan SEBARKAN \\n\\nKep...</td>\n",
       "      <td>in</td>\n",
       "      <td>False</td>\n",
       "      <td>True</td>\n",
       "      <td>NaN</td>\n",
       "    </tr>\n",
       "    <tr>\n",
       "      <th>2019-04-19 02:40:05</th>\n",
       "      <td>RT @IsmanTengku: VERY VERY URGENT FOR SHARING:...</td>\n",
       "      <td>in</td>\n",
       "      <td>False</td>\n",
       "      <td>True</td>\n",
       "      <td>NaN</td>\n",
       "    </tr>\n",
       "    <tr>\n",
       "      <th>2019-04-19 02:40:06</th>\n",
       "      <td>RT @Ra_Ria_Rana: SO DO I\\n\\nI BELIEVE MR @prab...</td>\n",
       "      <td>en</td>\n",
       "      <td>False</td>\n",
       "      <td>True</td>\n",
       "      <td>NaN</td>\n",
       "    </tr>\n",
       "  </tbody>\n",
       "</table>\n",
       "</div>"
      ],
      "text/plain": [
       "                                                                  text lang  \\\n",
       "created_at                                                                    \n",
       "2019-04-19 02:40:05  RT @FerdinandHutah2: Menjawab kesimpang siuran...   in   \n",
       "2019-04-19 02:40:05        @Suara_Bawah @prabowo Ngarep jadi menteri 👎   in   \n",
       "2019-04-19 02:40:05  RT @thanos_idn: PERHATIAN dan SEBARKAN \\n\\nKep...   in   \n",
       "2019-04-19 02:40:05  RT @IsmanTengku: VERY VERY URGENT FOR SHARING:...   in   \n",
       "2019-04-19 02:40:06  RT @Ra_Ria_Rana: SO DO I\\n\\nI BELIEVE MR @prab...   en   \n",
       "\n",
       "                     jokowi  prabowo polarity  \n",
       "created_at                                     \n",
       "2019-04-19 02:40:05   False    False      NaN  \n",
       "2019-04-19 02:40:05   False     True      NaN  \n",
       "2019-04-19 02:40:05   False     True      NaN  \n",
       "2019-04-19 02:40:05   False     True      NaN  \n",
       "2019-04-19 02:40:06   False     True      NaN  "
      ]
     },
     "execution_count": 116,
     "metadata": {},
     "output_type": "execute_result"
    }
   ],
   "source": [
    "tweets.head()"
   ]
  },
  {
   "cell_type": "code",
   "execution_count": 117,
   "metadata": {
    "scrolled": true
   },
   "outputs": [
    {
     "data": {
      "text/plain": [
       "<matplotlib.axes._subplots.AxesSubplot at 0x28a3c96ef98>"
      ]
     },
     "execution_count": 117,
     "metadata": {},
     "output_type": "execute_result"
    },
    {
     "data": {
      "image/png": "[encoded data removed]",
      "text/plain": [
       "<Figure size 432x288 with 1 Axes>"
      ]
     },
     "metadata": {
      "needs_background": "light"
     },
     "output_type": "display_data"
    }
   ],
   "source": [
    "# Exploring tweetscounts by each date\n",
    "jokowitweetsbydate = tweets.jokowi.groupby(tweets.index.date).sum()\n",
    "prabowotweetsbydate = tweets.prabowo.groupby(tweets.index.date).sum()\n",
    "\n",
    "# Getting a dataframe of both tweets over time\n",
    "pd.concat([jokowitweetsbydate, prabowotweetsbydate], axis=1).plot(kind='bar')"
   ]
  },
  {
   "cell_type": "markdown",
   "metadata": {},
   "source": [
    "**Conclusion**\n",
    "\n",
    "Notice, the numbers might not be so meaningful as what we are using is only the 04-19 twitter data. But if we streamed longer, we could find more about the topics for Jokowi and Prabowo"
   ]
  },
  {
   "cell_type": "markdown",
   "metadata": {},
   "source": [
    "## Sentimental Analysis\n",
    "\n",
    "***Python TextBlob Sentiment Analysis***\n",
    "\n",
    "Sentiment Analysis refers to the process of taking natural language to identify and extract subjective information. You can take text, run it through the TextBlob and the program will spit out if the text is positive, neutral, or negative by analyzing the language used in the text.\n",
    "\n",
    "Sentiment Analysis\t\n",
    "\n",
    "| Text        | Values           | \n",
    "| ------------- |:-------------:|\n",
    "| Polarity      | -0.0875 |\n",
    "| Subjectivity      | 0.575      |\n",
    "| Classification | neg      |\n",
    "| P_Pos | 0.344455873      |\n",
    "| P_Neg | 0.655544127      |\n",
    "\n",
    "***What does that mean?***\n",
    "\n",
    "***Polarity*** - a measure of the negativity, the neutralness, or the positivity of the text\n",
    "\n",
    "***Subjectivity*** - a measure of the subjectiveness of the object. The more it is, the more subjective is the information\n",
    "\n",
    "***Classification*** - either pos or neg indicating if the text is positive or negative\n",
    "To calculate the overall sentiment, we look at the polarity score:"
   ]
  },
  {
   "cell_type": "markdown",
   "metadata": {},
   "source": [
    "## Generating the Polarity and Subjectivity (Sentiment Values)\n",
    "From here, we use the TextBlob library, which is the simplification of Natural Language Processing. It does the heavylifting for sentimental analysis\n",
    "\n",
    "Post: http://planspace.org/20150607-textblob_sentiment/\n",
    "\n",
    "Interesting research: https://arxiv.org/pdf/1509.07178.pdf"
   ]
  },
  {
   "cell_type": "code",
   "execution_count": 118,
   "metadata": {},
   "outputs": [
    {
     "name": "stdout",
     "output_type": "stream",
     "text": [
      "0.7\n",
      "-0.6999999999999998\n",
      "0.9099999999999999\n",
      "-0.9099999999999998\n",
      "-0.26923076923076916\n",
      "-0.07499999999999998\n"
     ]
    }
   ],
   "source": [
    "from textblob import TextBlob\n",
    "# Sample of using TextBlob sentiment\n",
    "print (TextBlob(\"This food is good\").polarity)\n",
    "print (TextBlob(\"This food is bad\").polarity)\n",
    "print (TextBlob(\"This food is very good\").polarity)\n",
    "print (TextBlob(\"This food is very bad\").polarity)\n",
    "print (TextBlob(\"This food is not very good\").polarity)\n",
    "print (TextBlob(\"This food is very not good\").polarity)"
   ]
  },
  {
   "cell_type": "code",
   "execution_count": 119,
   "metadata": {},
   "outputs": [
    {
     "data": {
      "text/plain": [
       "pandas.core.series.Series"
      ]
     },
     "execution_count": 119,
     "metadata": {},
     "output_type": "execute_result"
    }
   ],
   "source": [
    "type(tweets_english['text'])"
   ]
  },
  {
   "cell_type": "code",
   "execution_count": 120,
   "metadata": {
    "scrolled": true
   },
   "outputs": [
    {
     "data": {
      "text/html": [
       "<div>\n",
       "<style scoped>\n",
       "    .dataframe tbody tr th:only-of-type {\n",
       "        vertical-align: middle;\n",
       "    }\n",
       "\n",
       "    .dataframe tbody tr th {\n",
       "        vertical-align: top;\n",
       "    }\n",
       "\n",
       "    .dataframe thead th {\n",
       "        text-align: right;\n",
       "    }\n",
       "</style>\n",
       "<table border=\"1\" class=\"dataframe\">\n",
       "  <thead>\n",
       "    <tr style=\"text-align: right;\">\n",
       "      <th></th>\n",
       "      <th>text</th>\n",
       "      <th>jokowi</th>\n",
       "      <th>prabowo</th>\n",
       "      <th>polarity</th>\n",
       "      <th>subjectivity</th>\n",
       "    </tr>\n",
       "  </thead>\n",
       "  <tbody>\n",
       "    <tr>\n",
       "      <th>0</th>\n",
       "      <td>RT @ FerdinandHutah2: Answering the confusion ...</td>\n",
       "      <td>False</td>\n",
       "      <td>False</td>\n",
       "      <td>0.00</td>\n",
       "      <td>0.066667</td>\n",
       "    </tr>\n",
       "    <tr>\n",
       "      <th>1</th>\n",
       "      <td>RT @ thanos_idn: CAUTION and SPREAD\\n</td>\n",
       "      <td>False</td>\n",
       "      <td>False</td>\n",
       "      <td>0.00</td>\n",
       "      <td>0.000000</td>\n",
       "    </tr>\n",
       "    <tr>\n",
       "      <th>2</th>\n",
       "      <td>\\n</td>\n",
       "      <td>False</td>\n",
       "      <td>False</td>\n",
       "      <td>0.00</td>\n",
       "      <td>0.000000</td>\n",
       "    </tr>\n",
       "    <tr>\n",
       "      <th>3</th>\n",
       "      <td>To volunteers struggle 02 Prabowo-Sandi please...</td>\n",
       "      <td>False</td>\n",
       "      <td>True</td>\n",
       "      <td>0.00</td>\n",
       "      <td>0.000000</td>\n",
       "    </tr>\n",
       "    <tr>\n",
       "      <th>4</th>\n",
       "      <td>RT @ IsmanTengku: VERY VERY URGENT FOR SHARING:\\n</td>\n",
       "      <td>False</td>\n",
       "      <td>False</td>\n",
       "      <td>0.26</td>\n",
       "      <td>0.390000</td>\n",
       "    </tr>\n",
       "  </tbody>\n",
       "</table>\n",
       "</div>"
      ],
      "text/plain": [
       "                                                text  jokowi  prabowo  \\\n",
       "0  RT @ FerdinandHutah2: Answering the confusion ...   False    False   \n",
       "1              RT @ thanos_idn: CAUTION and SPREAD\\n   False    False   \n",
       "2                                                 \\n   False    False   \n",
       "3  To volunteers struggle 02 Prabowo-Sandi please...   False     True   \n",
       "4  RT @ IsmanTengku: VERY VERY URGENT FOR SHARING:\\n   False    False   \n",
       "\n",
       "   polarity  subjectivity  \n",
       "0      0.00      0.066667  \n",
       "1      0.00      0.000000  \n",
       "2      0.00      0.000000  \n",
       "3      0.00      0.000000  \n",
       "4      0.26      0.390000  "
      ]
     },
     "execution_count": 120,
     "metadata": {},
     "output_type": "execute_result"
    }
   ],
   "source": [
    "# Importing TextBlob from textblob to find polarity\n",
    "from textblob import TextBlob\n",
    "\n",
    "def find_polarity(tweet):\n",
    "    try:\n",
    "        textblob_tweet = TextBlob(tweet)\n",
    "        return textblob_tweet.polarity\n",
    "    except:\n",
    "        pass\n",
    "    \n",
    "def find_subjectivity(tweet):\n",
    "    try:\n",
    "        textblob_tweet = TextBlob(tweet)\n",
    "        return textblob_tweet.subjectivity\n",
    "    except:\n",
    "        pass\n",
    "    \n",
    "# Applying textblob to each tweets text\n",
    "tweets_english['polarity'] = tweets_english['text'].apply(lambda tweet:find_polarity(tweet))\n",
    "tweets_english['subjectivity'] = tweets_english['text'].apply(lambda tweet:find_subjectivity(tweet))\n",
    "tweets_english.head()"
   ]
  },
  {
   "cell_type": "code",
   "execution_count": 122,
   "metadata": {},
   "outputs": [
    {
     "data": {
      "text/html": [
       "<div>\n",
       "<style scoped>\n",
       "    .dataframe tbody tr th:only-of-type {\n",
       "        vertical-align: middle;\n",
       "    }\n",
       "\n",
       "    .dataframe tbody tr th {\n",
       "        vertical-align: top;\n",
       "    }\n",
       "\n",
       "    .dataframe thead th {\n",
       "        text-align: right;\n",
       "    }\n",
       "</style>\n",
       "<table border=\"1\" class=\"dataframe\">\n",
       "  <thead>\n",
       "    <tr style=\"text-align: right;\">\n",
       "      <th></th>\n",
       "      <th>text</th>\n",
       "      <th>jokowi</th>\n",
       "      <th>prabowo</th>\n",
       "      <th>polarity</th>\n",
       "      <th>subjectivity</th>\n",
       "    </tr>\n",
       "  </thead>\n",
       "  <tbody>\n",
       "    <tr>\n",
       "      <th>220</th>\n",
       "      <td>RT @ProfYLH: Very bad @ Gerindra, it is proven...</td>\n",
       "      <td>False</td>\n",
       "      <td>True</td>\n",
       "      <td>-0.91</td>\n",
       "      <td>0.866667</td>\n",
       "    </tr>\n",
       "    <tr>\n",
       "      <th>986</th>\n",
       "      <td>I feel that I hate Mr. and Pak Prabowo just be...</td>\n",
       "      <td>False</td>\n",
       "      <td>True</td>\n",
       "      <td>-0.80</td>\n",
       "      <td>0.900000</td>\n",
       "    </tr>\n",
       "    <tr>\n",
       "      <th>725</th>\n",
       "      <td>RT @farisandani: Pak Sandiaga. :( https://t.co...</td>\n",
       "      <td>False</td>\n",
       "      <td>False</td>\n",
       "      <td>-0.75</td>\n",
       "      <td>1.000000</td>\n",
       "    </tr>\n",
       "    <tr>\n",
       "      <th>217</th>\n",
       "      <td>RT @BUKANdigembok: 02. At this opportunity, ay...</td>\n",
       "      <td>False</td>\n",
       "      <td>True</td>\n",
       "      <td>-0.70</td>\n",
       "      <td>0.666667</td>\n",
       "    </tr>\n",
       "    <tr>\n",
       "      <th>1014</th>\n",
       "      <td>RT @thanos_idn: YES GOD BAD INFORMATION FROM K...</td>\n",
       "      <td>False</td>\n",
       "      <td>False</td>\n",
       "      <td>-0.70</td>\n",
       "      <td>0.666667</td>\n",
       "    </tr>\n",
       "  </tbody>\n",
       "</table>\n",
       "</div>"
      ],
      "text/plain": [
       "                                                   text  jokowi  prabowo  \\\n",
       "220   RT @ProfYLH: Very bad @ Gerindra, it is proven...   False     True   \n",
       "986   I feel that I hate Mr. and Pak Prabowo just be...   False     True   \n",
       "725   RT @farisandani: Pak Sandiaga. :( https://t.co...   False    False   \n",
       "217   RT @BUKANdigembok: 02. At this opportunity, ay...   False     True   \n",
       "1014  RT @thanos_idn: YES GOD BAD INFORMATION FROM K...   False    False   \n",
       "\n",
       "      polarity  subjectivity  \n",
       "220      -0.91      0.866667  \n",
       "986      -0.80      0.900000  \n",
       "725      -0.75      1.000000  \n",
       "217      -0.70      0.666667  \n",
       "1014     -0.70      0.666667  "
      ]
     },
     "execution_count": 122,
     "metadata": {},
     "output_type": "execute_result"
    }
   ],
   "source": [
    "# Let's do a check on polarity texts\n",
    "tweets_english.sort_values('polarity',ascending=True).head()"
   ]
  },
  {
   "cell_type": "markdown",
   "metadata": {},
   "source": [
    "## Categorizing satisfactions based on polarity"
   ]
  },
  {
   "cell_type": "code",
   "execution_count": 123,
   "metadata": {},
   "outputs": [
    {
     "data": {
      "text/plain": [
       "<matplotlib.axes._subplots.AxesSubplot at 0x28a3cbcbfd0>"
      ]
     },
     "execution_count": 123,
     "metadata": {},
     "output_type": "execute_result"
    },
    {
     "data": {
      "image/png": "[encoded data removed]",
      "text/plain": [
       "<Figure size 432x288 with 1 Axes>"
      ]
     },
     "metadata": {
      "needs_background": "light"
     },
     "output_type": "display_data"
    }
   ],
   "source": [
    "tweets_english.polarity.hist()"
   ]
  },
  {
   "cell_type": "code",
   "execution_count": 124,
   "metadata": {},
   "outputs": [
    {
     "data": {
      "text/plain": [
       "<matplotlib.axes._subplots.AxesSubplot at 0x28a3ca0cfd0>"
      ]
     },
     "execution_count": 124,
     "metadata": {},
     "output_type": "execute_result"
    },
    {
     "data": {
      "image/png": "[encoded data removed]",
      "text/plain": [
       "<Figure size 432x288 with 1 Axes>"
      ]
     },
     "metadata": {
      "needs_background": "light"
     },
     "output_type": "display_data"
    }
   ],
   "source": [
    "tweets_english.subjectivity.hist()"
   ]
  },
  {
   "cell_type": "markdown",
   "metadata": {},
   "source": [
    "The histogram shows that the most of the posts come from subjectivity around 0 and polarity 0, most of them are the news. Which tweets do not have any emotional meaning."
   ]
  },
  {
   "cell_type": "code",
   "execution_count": 125,
   "metadata": {
    "scrolled": true
   },
   "outputs": [],
   "source": [
    "# Determining if they a comment is satisfied or not satisfied (split by range)\n",
    "tweets_english['polaritytext'] =  pd.cut(tweets_english.polarity, 3,labels=[\"unhappy\",\"neutral\",\"happy\"])\n",
    "tweets_english['subjectivitytext'] =  pd.cut(tweets_english.subjectivity, 2,labels=[\"meaningful\",\"subjective\"])"
   ]
  },
  {
   "cell_type": "code",
   "execution_count": 126,
   "metadata": {
    "scrolled": true
   },
   "outputs": [
    {
     "data": {
      "text/html": [
       "<div>\n",
       "<style scoped>\n",
       "    .dataframe tbody tr th:only-of-type {\n",
       "        vertical-align: middle;\n",
       "    }\n",
       "\n",
       "    .dataframe tbody tr th {\n",
       "        vertical-align: top;\n",
       "    }\n",
       "\n",
       "    .dataframe thead th {\n",
       "        text-align: right;\n",
       "    }\n",
       "</style>\n",
       "<table border=\"1\" class=\"dataframe\">\n",
       "  <thead>\n",
       "    <tr style=\"text-align: right;\">\n",
       "      <th></th>\n",
       "      <th>text</th>\n",
       "      <th>jokowi</th>\n",
       "      <th>prabowo</th>\n",
       "      <th>polarity</th>\n",
       "      <th>subjectivity</th>\n",
       "      <th>polaritytext</th>\n",
       "      <th>subjectivitytext</th>\n",
       "    </tr>\n",
       "  </thead>\n",
       "  <tbody>\n",
       "    <tr>\n",
       "      <th>0</th>\n",
       "      <td>RT @ FerdinandHutah2: Answering the confusion ...</td>\n",
       "      <td>False</td>\n",
       "      <td>False</td>\n",
       "      <td>0.00</td>\n",
       "      <td>0.066667</td>\n",
       "      <td>neutral</td>\n",
       "      <td>meaningful</td>\n",
       "    </tr>\n",
       "    <tr>\n",
       "      <th>1</th>\n",
       "      <td>RT @ thanos_idn: CAUTION and SPREAD\\n</td>\n",
       "      <td>False</td>\n",
       "      <td>False</td>\n",
       "      <td>0.00</td>\n",
       "      <td>0.000000</td>\n",
       "      <td>neutral</td>\n",
       "      <td>meaningful</td>\n",
       "    </tr>\n",
       "    <tr>\n",
       "      <th>2</th>\n",
       "      <td>\\n</td>\n",
       "      <td>False</td>\n",
       "      <td>False</td>\n",
       "      <td>0.00</td>\n",
       "      <td>0.000000</td>\n",
       "      <td>neutral</td>\n",
       "      <td>meaningful</td>\n",
       "    </tr>\n",
       "    <tr>\n",
       "      <th>3</th>\n",
       "      <td>To volunteers struggle 02 Prabowo-Sandi please...</td>\n",
       "      <td>False</td>\n",
       "      <td>True</td>\n",
       "      <td>0.00</td>\n",
       "      <td>0.000000</td>\n",
       "      <td>neutral</td>\n",
       "      <td>meaningful</td>\n",
       "    </tr>\n",
       "    <tr>\n",
       "      <th>4</th>\n",
       "      <td>RT @ IsmanTengku: VERY VERY URGENT FOR SHARING:\\n</td>\n",
       "      <td>False</td>\n",
       "      <td>False</td>\n",
       "      <td>0.26</td>\n",
       "      <td>0.390000</td>\n",
       "      <td>neutral</td>\n",
       "      <td>meaningful</td>\n",
       "    </tr>\n",
       "  </tbody>\n",
       "</table>\n",
       "</div>"
      ],
      "text/plain": [
       "                                                text  jokowi  prabowo  \\\n",
       "0  RT @ FerdinandHutah2: Answering the confusion ...   False    False   \n",
       "1              RT @ thanos_idn: CAUTION and SPREAD\\n   False    False   \n",
       "2                                                 \\n   False    False   \n",
       "3  To volunteers struggle 02 Prabowo-Sandi please...   False     True   \n",
       "4  RT @ IsmanTengku: VERY VERY URGENT FOR SHARING:\\n   False    False   \n",
       "\n",
       "   polarity  subjectivity polaritytext subjectivitytext  \n",
       "0      0.00      0.066667      neutral       meaningful  \n",
       "1      0.00      0.000000      neutral       meaningful  \n",
       "2      0.00      0.000000      neutral       meaningful  \n",
       "3      0.00      0.000000      neutral       meaningful  \n",
       "4      0.26      0.390000      neutral       meaningful  "
      ]
     },
     "execution_count": 126,
     "metadata": {},
     "output_type": "execute_result"
    }
   ],
   "source": [
    "# Getting the result of the polarity\n",
    "tweets_english.head()"
   ]
  },
  {
   "cell_type": "markdown",
   "metadata": {},
   "source": [
    "## Plotting out the sentimental analysis\n",
    "\n",
    "Now let us try to explore how the sentimental analysis to each of the candidate."
   ]
  },
  {
   "cell_type": "code",
   "execution_count": 127,
   "metadata": {},
   "outputs": [],
   "source": [
    "# Separating JokowiTweets and PrabowoTweets\n",
    "jokowitweets = tweets_english[tweets_english.jokowi==True]\n",
    "prabowotweets = tweets_english[tweets_english.prabowo == True]"
   ]
  },
  {
   "cell_type": "code",
   "execution_count": 128,
   "metadata": {},
   "outputs": [
    {
     "name": "stdout",
     "output_type": "stream",
     "text": [
      "         jokowi  prabowo\n",
      "neutral     140      183\n",
      "happy        10       50\n",
      "unhappy       7       16\n",
      "            jokowi  prabowo\n",
      "meaningful     126      190\n",
      "subjective      31       59\n"
     ]
    }
   ],
   "source": [
    "# Polarity analysis\n",
    "jokowipolaritycnt = jokowitweets['polaritytext'].value_counts().rename(\"jokowi\")\n",
    "prabowopolaritycnt = prabowotweets['polaritytext'].value_counts().rename(\"prabowo\")\n",
    "\n",
    "presidentialpolaritycnt = pd.concat([jokowipolaritycnt, prabowopolaritycnt], axis=1)\n",
    "print(presidentialpolaritycnt)\n",
    "\n",
    "\n",
    "# SubjectivityAnalysis\n",
    "jokowisubjectivitycnt = jokowitweets['subjectivitytext'].value_counts().rename(\"jokowi\")\n",
    "prabowosubjectivitycnt = prabowotweets['subjectivitytext'].value_counts().rename(\"prabowo\")\n",
    "\n",
    "presidentialsubjectivitycnt = pd.concat([jokowisubjectivitycnt, prabowosubjectivitycnt], axis=1)\n",
    "print(presidentialsubjectivitycnt)\n"
   ]
  },
  {
   "cell_type": "code",
   "execution_count": 129,
   "metadata": {},
   "outputs": [
    {
     "data": {
      "text/html": [
       "<div>\n",
       "<style scoped>\n",
       "    .dataframe tbody tr th:only-of-type {\n",
       "        vertical-align: middle;\n",
       "    }\n",
       "\n",
       "    .dataframe tbody tr th {\n",
       "        vertical-align: top;\n",
       "    }\n",
       "\n",
       "    .dataframe thead th {\n",
       "        text-align: right;\n",
       "    }\n",
       "</style>\n",
       "<table border=\"1\" class=\"dataframe\">\n",
       "  <thead>\n",
       "    <tr style=\"text-align: right;\">\n",
       "      <th></th>\n",
       "      <th>jokowi</th>\n",
       "      <th>prabowo</th>\n",
       "      <th>jokowiratio</th>\n",
       "      <th>praboworatio</th>\n",
       "    </tr>\n",
       "  </thead>\n",
       "  <tbody>\n",
       "    <tr>\n",
       "      <th>neutral</th>\n",
       "      <td>140</td>\n",
       "      <td>183</td>\n",
       "      <td>0.891720</td>\n",
       "      <td>0.734940</td>\n",
       "    </tr>\n",
       "    <tr>\n",
       "      <th>happy</th>\n",
       "      <td>10</td>\n",
       "      <td>50</td>\n",
       "      <td>0.063694</td>\n",
       "      <td>0.200803</td>\n",
       "    </tr>\n",
       "    <tr>\n",
       "      <th>unhappy</th>\n",
       "      <td>7</td>\n",
       "      <td>16</td>\n",
       "      <td>0.044586</td>\n",
       "      <td>0.064257</td>\n",
       "    </tr>\n",
       "  </tbody>\n",
       "</table>\n",
       "</div>"
      ],
      "text/plain": [
       "         jokowi  prabowo  jokowiratio  praboworatio\n",
       "neutral     140      183     0.891720      0.734940\n",
       "happy        10       50     0.063694      0.200803\n",
       "unhappy       7       16     0.044586      0.064257"
      ]
     },
     "execution_count": 129,
     "metadata": {},
     "output_type": "execute_result"
    }
   ],
   "source": [
    "# Polarity Ratio Count\n",
    "presidentialpolaritycnt['jokowiratio'] = presidentialpolaritycnt.jokowi/presidentialpolaritycnt.jokowi.sum()\n",
    "presidentialpolaritycnt['praboworatio'] = presidentialpolaritycnt.prabowo/presidentialpolaritycnt.prabowo.sum()\n",
    "\n",
    "presidentialpolaritycnt"
   ]
  },
  {
   "cell_type": "code",
   "execution_count": 130,
   "metadata": {},
   "outputs": [
    {
     "data": {
      "text/plain": [
       "<matplotlib.axes._subplots.AxesSubplot at 0x28a3c990860>"
      ]
     },
     "execution_count": 130,
     "metadata": {},
     "output_type": "execute_result"
    },
    {
     "data": {
      "image/png": "[encoded data removed]",
      "text/plain": [
       "<Figure size 432x288 with 1 Axes>"
      ]
     },
     "metadata": {
      "needs_background": "light"
     },
     "output_type": "display_data"
    }
   ],
   "source": [
    "# Plotting the polarity\n",
    "presidentialpolaritycnt.loc[:,'jokowiratio':'praboworatio'].T.plot(kind='bar',stacked=True,rot=1)"
   ]
  },
  {
   "cell_type": "code",
   "execution_count": 131,
   "metadata": {},
   "outputs": [
    {
     "data": {
      "text/html": [
       "<div>\n",
       "<style scoped>\n",
       "    .dataframe tbody tr th:only-of-type {\n",
       "        vertical-align: middle;\n",
       "    }\n",
       "\n",
       "    .dataframe tbody tr th {\n",
       "        vertical-align: top;\n",
       "    }\n",
       "\n",
       "    .dataframe thead th {\n",
       "        text-align: right;\n",
       "    }\n",
       "</style>\n",
       "<table border=\"1\" class=\"dataframe\">\n",
       "  <thead>\n",
       "    <tr style=\"text-align: right;\">\n",
       "      <th></th>\n",
       "      <th>jokowi</th>\n",
       "      <th>prabowo</th>\n",
       "      <th>jokowiratio</th>\n",
       "      <th>praboworatio</th>\n",
       "    </tr>\n",
       "  </thead>\n",
       "  <tbody>\n",
       "    <tr>\n",
       "      <th>meaningful</th>\n",
       "      <td>126</td>\n",
       "      <td>190</td>\n",
       "      <td>0.802548</td>\n",
       "      <td>0.763052</td>\n",
       "    </tr>\n",
       "    <tr>\n",
       "      <th>subjective</th>\n",
       "      <td>31</td>\n",
       "      <td>59</td>\n",
       "      <td>0.197452</td>\n",
       "      <td>0.236948</td>\n",
       "    </tr>\n",
       "  </tbody>\n",
       "</table>\n",
       "</div>"
      ],
      "text/plain": [
       "            jokowi  prabowo  jokowiratio  praboworatio\n",
       "meaningful     126      190     0.802548      0.763052\n",
       "subjective      31       59     0.197452      0.236948"
      ]
     },
     "execution_count": 131,
     "metadata": {},
     "output_type": "execute_result"
    }
   ],
   "source": [
    "# Subjectivity Ratio Count\n",
    "\n",
    "presidentialsubjectivitycnt['jokowiratio'] = presidentialsubjectivitycnt.jokowi/presidentialsubjectivitycnt.jokowi.sum()\n",
    "presidentialsubjectivitycnt['praboworatio'] = presidentialsubjectivitycnt.prabowo/presidentialsubjectivitycnt.prabowo.sum()\n",
    "\n",
    "presidentialsubjectivitycnt"
   ]
  },
  {
   "cell_type": "code",
   "execution_count": 132,
   "metadata": {
    "scrolled": true
   },
   "outputs": [
    {
     "data": {
      "text/plain": [
       "<matplotlib.axes._subplots.AxesSubplot at 0x28a3d0474e0>"
      ]
     },
     "execution_count": 132,
     "metadata": {},
     "output_type": "execute_result"
    },
    {
     "data": {
      "image/png": "[encoded data removed]",
      "text/plain": [
       "<Figure size 432x288 with 1 Axes>"
      ]
     },
     "metadata": {
      "needs_background": "light"
     },
     "output_type": "display_data"
    }
   ],
   "source": [
    "# Plotting the subjectivity\n",
    "presidentialsubjectivitycnt.loc[:,'jokowiratio':'praboworatio'].T.plot(kind='bar',stacked=True)"
   ]
  },
  {
   "cell_type": "markdown",
   "metadata": {},
   "source": [
    "**Conclusion**\n",
    "\n",
    "The overall sentiments are happy to regard Prabowo in their tweets. There are also many meaningful/informative remarks about Prabowo in overall tweet sentiments. Probably because of analysts and news that have been increasingly commenting on Prabowo's policies. Overall there are large amount of opinions around Prabowo "
   ]
  },
  {
   "cell_type": "markdown",
   "metadata": {},
   "source": [
    "## Plotting Out Sentimental Analysis Timeline"
   ]
  },
  {
   "cell_type": "code",
   "execution_count": 135,
   "metadata": {},
   "outputs": [],
   "source": [
    "# Counting polarity text by day to day basis\n",
    "jokowipolaritydaycnt=jokowitweets.groupby([jokowitweets.index.date,\"polaritytext\"]).count().text\n",
    "prabowopolaritydaycnt=prabowotweets.groupby([prabowotweets.index.date,\"polaritytext\"]).count().text\n",
    "\n",
    "jokowipolaritydaycnt.unstack(level=0).T.plot(kind='bar')"
   ]
  },
  {
   "cell_type": "markdown",
   "metadata": {},
   "source": [
    "**Conclusion**\n",
    "\n",
    "Again, the numbers might not be so meaningful because the reason why a lot of tweets at 19th is that I streamed it at that time. Regardless the main point should be how good or bad Jokowi is regarded over the time (probably in timeline format). This would be visible once there are longer twitter streaming data available."
   ]
  },
  {
   "cell_type": "markdown",
   "metadata": {},
   "source": [
    "## How about the news media. How often do they mention the election candidates?"
   ]
  },
  {
   "cell_type": "code",
   "execution_count": 136,
   "metadata": {},
   "outputs": [
    {
     "data": {
      "text/plain": [
       "(918, 5)"
      ]
     },
     "execution_count": 136,
     "metadata": {},
     "output_type": "execute_result"
    }
   ],
   "source": [
    "tweets[tweets.text.str.contains('TV', flags=re.IGNORECASE)].shape"
   ]
  },
  {
   "cell_type": "code",
   "execution_count": 229,
   "metadata": {},
   "outputs": [
    {
     "name": "stderr",
     "output_type": "stream",
     "text": [
      "C:\\new_software\\Anaconda\\lib\\site-packages\\ipykernel_launcher.py:7: DeprecationWarning: \n",
      ".ix is deprecated. Please use\n",
      ".loc for label based indexing or\n",
      ".iloc for positional indexing\n",
      "\n",
      "See the documentation here:\n",
      "http://pandas.pydata.org/pandas-docs/stable/indexing.html#ix-indexer-is-deprecated\n",
      "  import sys\n"
     ]
    },
    {
     "data": {
      "text/html": [
       "<div>\n",
       "<style scoped>\n",
       "    .dataframe tbody tr th:only-of-type {\n",
       "        vertical-align: middle;\n",
       "    }\n",
       "\n",
       "    .dataframe tbody tr th {\n",
       "        vertical-align: top;\n",
       "    }\n",
       "\n",
       "    .dataframe thead th {\n",
       "        text-align: right;\n",
       "    }\n",
       "</style>\n",
       "<table border=\"1\" class=\"dataframe\">\n",
       "  <thead>\n",
       "    <tr style=\"text-align: right;\">\n",
       "      <th></th>\n",
       "      <th>text</th>\n",
       "      <th>lang</th>\n",
       "      <th>jokowi</th>\n",
       "      <th>prabowo</th>\n",
       "      <th>polarity</th>\n",
       "      <th>newssource</th>\n",
       "      <th>dominanttopic</th>\n",
       "    </tr>\n",
       "    <tr>\n",
       "      <th>created_at</th>\n",
       "      <th></th>\n",
       "      <th></th>\n",
       "      <th></th>\n",
       "      <th></th>\n",
       "      <th></th>\n",
       "      <th></th>\n",
       "      <th></th>\n",
       "    </tr>\n",
       "  </thead>\n",
       "  <tbody>\n",
       "    <tr>\n",
       "      <th>2019-04-19 02:40:05</th>\n",
       "      <td>@FernandHuh2: Menjawab kesimpang siuran infor...</td>\n",
       "      <td>in</td>\n",
       "      <td>False</td>\n",
       "      <td>False</td>\n",
       "      <td>NaN</td>\n",
       "      <td>unidentified</td>\n",
       "      <td>(sanuno, kean, paai, sujud, nah, emak, kwikkia...</td>\n",
       "    </tr>\n",
       "    <tr>\n",
       "      <th>2019-04-19 02:40:05</th>\n",
       "      <td>@Suara_Bawah @prabowo Ngarep ja menteri 👎</td>\n",
       "      <td>in</td>\n",
       "      <td>False</td>\n",
       "      <td>True</td>\n",
       "      <td>NaN</td>\n",
       "      <td>unidentified</td>\n",
       "      <td>(prabowo, jowi, demokrat, pilpres, seluruh, in...</td>\n",
       "    </tr>\n",
       "    <tr>\n",
       "      <th>2019-04-19 02:40:05</th>\n",
       "      <td>@thanos_idn: PERHATIAN  SEBARKAN \\n\\n relawan...</td>\n",
       "      <td>in</td>\n",
       "      <td>False</td>\n",
       "      <td>True</td>\n",
       "      <td>NaN</td>\n",
       "      <td>unidentified</td>\n",
       "      <td>(prabowo, jowi, demokrat, pilpres, seluruh, in...</td>\n",
       "    </tr>\n",
       "    <tr>\n",
       "      <th>2019-04-19 02:40:05</th>\n",
       "      <td>@IsmanTengku: VERY VERY URGENT FOR SHARING: \\...</td>\n",
       "      <td>in</td>\n",
       "      <td>False</td>\n",
       "      <td>True</td>\n",
       "      <td>NaN</td>\n",
       "      <td>unidentified</td>\n",
       "      <td>(prabowo, jowi, demokrat, pilpres, seluruh, in...</td>\n",
       "    </tr>\n",
       "    <tr>\n",
       "      <th>2019-04-19 02:40:06</th>\n",
       "      <td>@Ra_Ria_Rana: SO DO I\\n\\nI BELIEVE MR @prabow...</td>\n",
       "      <td>en</td>\n",
       "      <td>False</td>\n",
       "      <td>True</td>\n",
       "      <td>NaN</td>\n",
       "      <td>unidentified</td>\n",
       "      <td>(prabowo, jowi, demokrat, pilpres, seluruh, in...</td>\n",
       "    </tr>\n",
       "  </tbody>\n",
       "</table>\n",
       "</div>"
      ],
      "text/plain": [
       "                                                                  text lang  \\\n",
       "created_at                                                                    \n",
       "2019-04-19 02:40:05   @FernandHuh2: Menjawab kesimpang siuran infor...   in   \n",
       "2019-04-19 02:40:05          @Suara_Bawah @prabowo Ngarep ja menteri 👎   in   \n",
       "2019-04-19 02:40:05   @thanos_idn: PERHATIAN  SEBARKAN \\n\\n relawan...   in   \n",
       "2019-04-19 02:40:05   @IsmanTengku: VERY VERY URGENT FOR SHARING: \\...   in   \n",
       "2019-04-19 02:40:06   @Ra_Ria_Rana: SO DO I\\n\\nI BELIEVE MR @prabow...   en   \n",
       "\n",
       "                     jokowi  prabowo polarity    newssource  \\\n",
       "created_at                                                    \n",
       "2019-04-19 02:40:05   False    False      NaN  unidentified   \n",
       "2019-04-19 02:40:05   False     True      NaN  unidentified   \n",
       "2019-04-19 02:40:05   False     True      NaN  unidentified   \n",
       "2019-04-19 02:40:05   False     True      NaN  unidentified   \n",
       "2019-04-19 02:40:06   False     True      NaN  unidentified   \n",
       "\n",
       "                                                         dominanttopic  \n",
       "created_at                                                              \n",
       "2019-04-19 02:40:05  (sanuno, kean, paai, sujud, nah, emak, kwikkia...  \n",
       "2019-04-19 02:40:05  (prabowo, jowi, demokrat, pilpres, seluruh, in...  \n",
       "2019-04-19 02:40:05  (prabowo, jowi, demokrat, pilpres, seluruh, in...  \n",
       "2019-04-19 02:40:05  (prabowo, jowi, demokrat, pilpres, seluruh, in...  \n",
       "2019-04-19 02:40:06  (prabowo, jowi, demokrat, pilpres, seluruh, in...  "
      ]
     },
     "execution_count": 229,
     "metadata": {},
     "output_type": "execute_result"
    }
   ],
   "source": [
    "# Identifying new column and newslist to scrape based on current tweets data\n",
    "tweets[\"newssource\"] = \"unidentified\"\n",
    "newslist=['nytimes','jurnal_IDN','tempoteve','KPU_ID','CNNIndonesia','kompas','Metro_TV','Berisatu','tvonetv','PaaiSocmed']\n",
    "\n",
    "# Looping through each news and give news sources\n",
    "for news in newslist:\n",
    "    tweets.ix[tweets.text.str.contains(\"@\"+news), 'newssource'] = news\n",
    "\n",
    "tweets.head()    "
   ]
  },
  {
   "cell_type": "code",
   "execution_count": 230,
   "metadata": {},
   "outputs": [
    {
     "data": {
      "text/plain": [
       "<matplotlib.axes._subplots.AxesSubplot at 0x28c322e4f98>"
      ]
     },
     "execution_count": 230,
     "metadata": {},
     "output_type": "execute_result"
    },
    {
     "data": {
      "image/png": "[encoded data removed]",
      "text/plain": [
       "<Figure size 1152x288 with 2 Axes>"
      ]
     },
     "metadata": {
      "needs_background": "light"
     },
     "output_type": "display_data"
    }
   ],
   "source": [
    "# Creating figure of pyplot to put graph side by side\n",
    "fig, axs = plt.subplots(1,2)\n",
    "fig.set_size_inches(16, 4)\n",
    "\n",
    "# Getting polarity text analysis based on tweetsnews\n",
    "jokowitweetsnews = tweets[(tweets.jokowi == True) & (tweets.newssource!=\"unidentified\")]\n",
    "prabowotweetsnews = tweets[(tweets.prabowo == True) & (tweets.newssource!=\"unidentified\")]\n",
    "\n",
    "jokowitweetsnewscnt = jokowitweetsnews.groupby([\"newssource\"]).text.count()\n",
    "jokowitweetsnewscnt.T.plot(kind='bar',stacked=True,rot=1,title=\"Jokowi news tweet\",ax=axs[0])\n",
    "\n",
    "prabowotweetsnewscnt = prabowotweetsnews.groupby([\"newssource\"]).text.count()\n",
    "prabowotweetsnewscnt.T.plot(kind='bar',stacked=True,rot=1,title=\"Prabowo news tweet\",ax=axs[1])"
   ]
  },
  {
   "cell_type": "markdown",
   "metadata": {},
   "source": [
    "**Conclusion**\n",
    "\n",
    "KPU_ID (which is the posts for elections) mentioned about Prabowo  a lot of times compared to other major social media channel. More or less, the coverage of both presidents remained the same."
   ]
  },
  {
   "cell_type": "markdown",
   "metadata": {},
   "source": [
    "# Topic extractions\n",
    "This section illustrates how to do approximate topic modeling in Python. We will use a technique called non-negative matrix factorization (NMF) that strongly resembles Latent Dirichlet Allocation (LDA) which is used to find extract topics from bags of words (list of words)"
   ]
  },
  {
   "cell_type": "markdown",
   "metadata": {},
   "source": [
    "## Preparing data for topic extractions by making texts into bags of words"
   ]
  },
  {
   "cell_type": "code",
   "execution_count": 141,
   "metadata": {},
   "outputs": [
    {
     "data": {
      "text/html": [
       "<div>\n",
       "<style scoped>\n",
       "    .dataframe tbody tr th:only-of-type {\n",
       "        vertical-align: middle;\n",
       "    }\n",
       "\n",
       "    .dataframe tbody tr th {\n",
       "        vertical-align: top;\n",
       "    }\n",
       "\n",
       "    .dataframe thead th {\n",
       "        text-align: right;\n",
       "    }\n",
       "</style>\n",
       "<table border=\"1\" class=\"dataframe\">\n",
       "  <thead>\n",
       "    <tr style=\"text-align: right;\">\n",
       "      <th></th>\n",
       "      <th>text</th>\n",
       "      <th>lang</th>\n",
       "      <th>jokowi</th>\n",
       "      <th>prabowo</th>\n",
       "      <th>polarity</th>\n",
       "      <th>newssource</th>\n",
       "    </tr>\n",
       "    <tr>\n",
       "      <th>created_at</th>\n",
       "      <th></th>\n",
       "      <th></th>\n",
       "      <th></th>\n",
       "      <th></th>\n",
       "      <th></th>\n",
       "      <th></th>\n",
       "    </tr>\n",
       "  </thead>\n",
       "  <tbody>\n",
       "    <tr>\n",
       "      <th>2019-04-19 02:40:05</th>\n",
       "      <td>RT @FerdinandHutah2: Menjawab kesimpang siuran...</td>\n",
       "      <td>in</td>\n",
       "      <td>False</td>\n",
       "      <td>False</td>\n",
       "      <td>NaN</td>\n",
       "      <td>unidentified</td>\n",
       "    </tr>\n",
       "    <tr>\n",
       "      <th>2019-04-19 02:40:05</th>\n",
       "      <td>@Suara_Bawah @prabowo Ngarep jadi menteri 👎</td>\n",
       "      <td>in</td>\n",
       "      <td>False</td>\n",
       "      <td>True</td>\n",
       "      <td>NaN</td>\n",
       "      <td>unidentified</td>\n",
       "    </tr>\n",
       "    <tr>\n",
       "      <th>2019-04-19 02:40:05</th>\n",
       "      <td>RT @thanos_idn: PERHATIAN dan SEBARKAN \\n\\nKep...</td>\n",
       "      <td>in</td>\n",
       "      <td>False</td>\n",
       "      <td>True</td>\n",
       "      <td>NaN</td>\n",
       "      <td>unidentified</td>\n",
       "    </tr>\n",
       "    <tr>\n",
       "      <th>2019-04-19 02:40:05</th>\n",
       "      <td>RT @IsmanTengku: VERY VERY URGENT FOR SHARING:...</td>\n",
       "      <td>in</td>\n",
       "      <td>False</td>\n",
       "      <td>True</td>\n",
       "      <td>NaN</td>\n",
       "      <td>unidentified</td>\n",
       "    </tr>\n",
       "    <tr>\n",
       "      <th>2019-04-19 02:40:06</th>\n",
       "      <td>RT @Ra_Ria_Rana: SO DO I\\n\\nI BELIEVE MR @prab...</td>\n",
       "      <td>en</td>\n",
       "      <td>False</td>\n",
       "      <td>True</td>\n",
       "      <td>NaN</td>\n",
       "      <td>unidentified</td>\n",
       "    </tr>\n",
       "  </tbody>\n",
       "</table>\n",
       "</div>"
      ],
      "text/plain": [
       "                                                                  text lang  \\\n",
       "created_at                                                                    \n",
       "2019-04-19 02:40:05  RT @FerdinandHutah2: Menjawab kesimpang siuran...   in   \n",
       "2019-04-19 02:40:05        @Suara_Bawah @prabowo Ngarep jadi menteri 👎   in   \n",
       "2019-04-19 02:40:05  RT @thanos_idn: PERHATIAN dan SEBARKAN \\n\\nKep...   in   \n",
       "2019-04-19 02:40:05  RT @IsmanTengku: VERY VERY URGENT FOR SHARING:...   in   \n",
       "2019-04-19 02:40:06  RT @Ra_Ria_Rana: SO DO I\\n\\nI BELIEVE MR @prab...   en   \n",
       "\n",
       "                     jokowi  prabowo polarity    newssource  \n",
       "created_at                                                   \n",
       "2019-04-19 02:40:05   False    False      NaN  unidentified  \n",
       "2019-04-19 02:40:05   False     True      NaN  unidentified  \n",
       "2019-04-19 02:40:05   False     True      NaN  unidentified  \n",
       "2019-04-19 02:40:05   False     True      NaN  unidentified  \n",
       "2019-04-19 02:40:06   False     True      NaN  unidentified  "
      ]
     },
     "execution_count": 141,
     "metadata": {},
     "output_type": "execute_result"
    }
   ],
   "source": [
    "tweets.head()"
   ]
  },
  {
   "cell_type": "code",
   "execution_count": 204,
   "metadata": {},
   "outputs": [
    {
     "data": {
      "text/html": [
       "<div>\n",
       "<style scoped>\n",
       "    .dataframe tbody tr th:only-of-type {\n",
       "        vertical-align: middle;\n",
       "    }\n",
       "\n",
       "    .dataframe tbody tr th {\n",
       "        vertical-align: top;\n",
       "    }\n",
       "\n",
       "    .dataframe thead th {\n",
       "        text-align: right;\n",
       "    }\n",
       "</style>\n",
       "<table border=\"1\" class=\"dataframe\">\n",
       "  <thead>\n",
       "    <tr style=\"text-align: right;\">\n",
       "      <th></th>\n",
       "      <th>text</th>\n",
       "      <th>lang</th>\n",
       "      <th>jokowi</th>\n",
       "      <th>prabowo</th>\n",
       "      <th>polarity</th>\n",
       "      <th>newssource</th>\n",
       "      <th>dominanttopic</th>\n",
       "    </tr>\n",
       "    <tr>\n",
       "      <th>created_at</th>\n",
       "      <th></th>\n",
       "      <th></th>\n",
       "      <th></th>\n",
       "      <th></th>\n",
       "      <th></th>\n",
       "      <th></th>\n",
       "      <th></th>\n",
       "    </tr>\n",
       "  </thead>\n",
       "  <tbody>\n",
       "    <tr>\n",
       "      <th>2019-04-19 02:40:05</th>\n",
       "      <td>@FernandHuh2: Menjawab kesimpang siuran infor...</td>\n",
       "      <td>in</td>\n",
       "      <td>False</td>\n",
       "      <td>False</td>\n",
       "      <td>NaN</td>\n",
       "      <td>unidentified</td>\n",
       "      <td>(san, kalah, paai, umat, klaim, kwikkiangie_, ...</td>\n",
       "    </tr>\n",
       "    <tr>\n",
       "      <th>2019-04-19 02:40:05</th>\n",
       "      <td>@Suara_Bawah @prabowo Ngarep ja menteri 👎</td>\n",
       "      <td>in</td>\n",
       "      <td>False</td>\n",
       "      <td>True</td>\n",
       "      <td>NaN</td>\n",
       "      <td>unidentified</td>\n",
       "      <td>(prabowo, jowi, demokrat, kepada, menang, da, ...</td>\n",
       "    </tr>\n",
       "    <tr>\n",
       "      <th>2019-04-19 02:40:05</th>\n",
       "      <td>@thanos_idn: PERHATIAN  SEBARKAN \\n\\n relawan...</td>\n",
       "      <td>in</td>\n",
       "      <td>False</td>\n",
       "      <td>True</td>\n",
       "      <td>NaN</td>\n",
       "      <td>unidentified</td>\n",
       "      <td>(prabowo, jowi, demokrat, kepada, menang, da, ...</td>\n",
       "    </tr>\n",
       "    <tr>\n",
       "      <th>2019-04-19 02:40:05</th>\n",
       "      <td>@IsmanTengku: VERY VERY URGENT FOR SHARING: \\...</td>\n",
       "      <td>in</td>\n",
       "      <td>False</td>\n",
       "      <td>True</td>\n",
       "      <td>NaN</td>\n",
       "      <td>unidentified</td>\n",
       "      <td>(prabowo, jowi, demokrat, kepada, menang, da, ...</td>\n",
       "    </tr>\n",
       "    <tr>\n",
       "      <th>2019-04-19 02:40:06</th>\n",
       "      <td>@Ra_Ria_Rana: SO DO I\\n\\nI BELIEVE MR @prabow...</td>\n",
       "      <td>en</td>\n",
       "      <td>False</td>\n",
       "      <td>True</td>\n",
       "      <td>NaN</td>\n",
       "      <td>unidentified</td>\n",
       "      <td>(prabowo, jowi, demokrat, kepada, menang, da, ...</td>\n",
       "    </tr>\n",
       "  </tbody>\n",
       "</table>\n",
       "</div>"
      ],
      "text/plain": [
       "                                                                  text lang  \\\n",
       "created_at                                                                    \n",
       "2019-04-19 02:40:05   @FernandHuh2: Menjawab kesimpang siuran infor...   in   \n",
       "2019-04-19 02:40:05          @Suara_Bawah @prabowo Ngarep ja menteri 👎   in   \n",
       "2019-04-19 02:40:05   @thanos_idn: PERHATIAN  SEBARKAN \\n\\n relawan...   in   \n",
       "2019-04-19 02:40:05   @IsmanTengku: VERY VERY URGENT FOR SHARING: \\...   in   \n",
       "2019-04-19 02:40:06   @Ra_Ria_Rana: SO DO I\\n\\nI BELIEVE MR @prabow...   en   \n",
       "\n",
       "                     jokowi  prabowo polarity    newssource  \\\n",
       "created_at                                                    \n",
       "2019-04-19 02:40:05   False    False      NaN  unidentified   \n",
       "2019-04-19 02:40:05   False     True      NaN  unidentified   \n",
       "2019-04-19 02:40:05   False     True      NaN  unidentified   \n",
       "2019-04-19 02:40:05   False     True      NaN  unidentified   \n",
       "2019-04-19 02:40:06   False     True      NaN  unidentified   \n",
       "\n",
       "                                                         dominanttopic  \n",
       "created_at                                                              \n",
       "2019-04-19 02:40:05  (san, kalah, paai, umat, klaim, kwikkiangie_, ...  \n",
       "2019-04-19 02:40:05  (prabowo, jowi, demokrat, kepada, menang, da, ...  \n",
       "2019-04-19 02:40:05  (prabowo, jowi, demokrat, kepada, menang, da, ...  \n",
       "2019-04-19 02:40:05  (prabowo, jowi, demokrat, kepada, menang, da, ...  \n",
       "2019-04-19 02:40:06  (prabowo, jowi, demokrat, kepada, menang, da, ...  "
      ]
     },
     "execution_count": 204,
     "metadata": {},
     "output_type": "execute_result"
    }
   ],
   "source": [
    "# Cleanup\n",
    "# remove stopwords \n",
    "for word in ['(?i)RT','(?i)di','(?i)https','(?i)yg','(?i)yang','(?i)ta','(?i)pak','(?i)ibu','(?i)sya','(?i)saya',\n",
    "             '(?i)dan','(?i)ko','(?i)dari','(?i)kepada']:\n",
    "    tweets.text = tweets.text.str.replace(word,'',regex=True)\n",
    "tweets.head()"
   ]
  },
  {
   "cell_type": "code",
   "execution_count": 234,
   "metadata": {},
   "outputs": [
    {
     "name": "stdout",
     "output_type": "stream",
     "text": [
      "(20509, 16575)\n",
      "16575\n"
     ]
    }
   ],
   "source": [
    "# Importing necessary model values\n",
    "import numpy as np\n",
    "from sklearn.feature_extraction.text import CountVectorizer\n",
    "\n",
    "# Getting the X_train\n",
    "X_train = tweets.text\n",
    "# print(X_train.head())\n",
    "\n",
    "# tokenize and vectorize the words inside the list of documents/tweets\n",
    "vectorizer = CountVectorizer(stop_words='english')\n",
    "X_train_dtm = vectorizer.fit_transform(X_train)\n",
    "vocab = np.array(vectorizer.get_feature_names())\n",
    "\n",
    "print(X_train_dtm.shape)\n",
    "print(len(vocab))"
   ]
  },
  {
   "cell_type": "code",
   "execution_count": 240,
   "metadata": {},
   "outputs": [
    {
     "data": {
      "text/plain": [
       "20509"
      ]
     },
     "execution_count": 240,
     "metadata": {},
     "output_type": "execute_result"
    }
   ],
   "source": [
    "X_train.size"
   ]
  },
  {
   "cell_type": "markdown",
   "metadata": {},
   "source": [
    "## Generating Decomposition Model to extract topic\n",
    "**By analogy with LDA, we will use NMF to get a document-topic matrix (topics here will also be referred to as “components”) and a list of top words for each topic. We will make analogy clear by using the same variable names: doctopic and topic_words**"
   ]
  },
  {
   "cell_type": "code",
   "execution_count": 241,
   "metadata": {},
   "outputs": [
    {
     "name": "stdout",
     "output_type": "stream",
     "text": [
      "(20509, 8)\n",
      "(8, 16575)\n"
     ]
    }
   ],
   "source": [
    "# Using sklearn library to get the necessary LDA model\n",
    "from sklearn import decomposition\n",
    "\n",
    "num_topics = 8\n",
    "num_top_words = 8\n",
    "clf = decomposition.NMF(n_components=num_topics, random_state=1)\n",
    "\n",
    "# this next step may take some time to train depending on the texts you have\n",
    "doctopic = clf.fit_transform(X_train_dtm)\n",
    "print(doctopic.shape)\n",
    "print(clf.components_.shape)"
   ]
  },
  {
   "cell_type": "code",
   "execution_count": 209,
   "metadata": {},
   "outputs": [
    {
     "data": {
      "text/plain": [
       "array([[0.00000000e+00, 0.00000000e+00, 0.00000000e+00, ...,\n",
       "        9.67489409e-04, 9.67489409e-04, 9.67489409e-04],\n",
       "       [0.00000000e+00, 0.00000000e+00, 3.18866474e-05, ...,\n",
       "        0.00000000e+00, 0.00000000e+00, 0.00000000e+00],\n",
       "       [0.00000000e+00, 0.00000000e+00, 6.21901828e-06, ...,\n",
       "        0.00000000e+00, 0.00000000e+00, 0.00000000e+00],\n",
       "       ...,\n",
       "       [0.00000000e+00, 8.22198875e-03, 3.20546301e-04, ...,\n",
       "        0.00000000e+00, 0.00000000e+00, 0.00000000e+00],\n",
       "       [0.00000000e+00, 3.28326809e-03, 0.00000000e+00, ...,\n",
       "        0.00000000e+00, 0.00000000e+00, 0.00000000e+00],\n",
       "       [8.93689776e-01, 1.21484538e-02, 3.90320343e-05, ...,\n",
       "        0.00000000e+00, 0.00000000e+00, 0.00000000e+00]])"
      ]
     },
     "execution_count": 209,
     "metadata": {},
     "output_type": "execute_result"
    }
   ],
   "source": [
    "clf.components_"
   ]
  },
  {
   "cell_type": "code",
   "execution_count": 210,
   "metadata": {},
   "outputs": [],
   "source": [
    "# Getting the dominant topic for each word\n",
    "topic_words = []\n",
    "\n",
    "# Appending top important vocabset list onto topic_words list\n",
    "for topic in clf.components_:\n",
    "#     npargsort gets the index based on the order, [::-1] order it descending and finally num_top_words will filter it\n",
    "    word_idx = np.argsort(topic)[::-1][0:num_top_words]\n",
    "    topic_words.append([vocab[i] for i in word_idx])"
   ]
  },
  {
   "cell_type": "code",
   "execution_count": 211,
   "metadata": {},
   "outputs": [
    {
     "data": {
      "text/plain": [
       "[['prabowo',\n",
       "  'san',\n",
       "  'sanuno',\n",
       "  'propinsi',\n",
       "  'kean',\n",
       "  'indonesia',\n",
       "  'suara',\n",
       "  'pendukung']]"
      ]
     },
     "execution_count": 211,
     "metadata": {},
     "output_type": "execute_result"
    }
   ],
   "source": [
    "topic_words[:1]"
   ]
  },
  {
   "cell_type": "code",
   "execution_count": 212,
   "metadata": {},
   "outputs": [
    {
     "name": "stdout",
     "output_type": "stream",
     "text": [
      "Topic 0: prabowo san sanuno propinsi kean indonesia suara pendukung\n",
      "Topic 1: jowi suara kean ireneviena hasil selamat naku18 pilpres\n",
      "Topic 2: demokrat kami paai tep bahwa beredar sejak informasi\n",
      "Topic 3: pilpres klaim sujud syukur usai netijen gabikinkembung mclpz2ahmp\n",
      "Topic 4: seluruh umat nah saudara jowi air kristiani saudaraku\n",
      "Topic 5: ini sudah emak ki pi karena sama luar\n",
      "Topic 6: da c1 kwikkiangie_ sempat kpu ma dalam cek\n",
      "Topic 7: tps bpn dumai count real suara 10 c1\n"
     ]
    }
   ],
   "source": [
    "for t in range(len(topic_words)):\n",
    "    print(\"Topic {}: {}\".format(t, ' '.join(topic_words[t][:15])))"
   ]
  },
  {
   "cell_type": "markdown",
   "metadata": {},
   "source": [
    "# Visualizing the topics"
   ]
  },
  {
   "cell_type": "code",
   "execution_count": 213,
   "metadata": {},
   "outputs": [
    {
     "name": "stderr",
     "output_type": "stream",
     "text": [
      "C:\\new_software\\Anaconda\\lib\\site-packages\\ipykernel_launcher.py:10: FutureWarning: 'argmax' is deprecated, use 'idxmax' instead. The behavior of 'argmax'\n",
      "will be corrected to return the positional maximum in the future.\n",
      "Use 'series.values.argmax' to get the position of the maximum now.\n",
      "  # Remove the CWD from sys.path while we load stuff.\n"
     ]
    },
    {
     "name": "stdout",
     "output_type": "stream",
     "text": [
      "(20509, 9)\n",
      "(20509, 7)\n"
     ]
    }
   ],
   "source": [
    "import matplotlib.pyplot as plt\n",
    "\n",
    "# Making DataFrame that gets the doctopic (values of topics for each text)\n",
    "dftopic = pd.DataFrame(doctopic,columns=topic_words)\n",
    "dftopicinv=dftopic.T\n",
    "\n",
    "# Getting the dominant topic\n",
    "topic_series = []\n",
    "for i in np.arange(dftopic.shape[0]):\n",
    "    topic_series.append(dftopicinv[i].argmax())\n",
    "\n",
    "dftopic['dominanttopic'] = topic_series\n",
    "tweets['dominanttopic'] = topic_series\n",
    "\n",
    "print(dftopic.shape)\n",
    "print(tweets.shape)"
   ]
  },
  {
   "cell_type": "code",
   "execution_count": 214,
   "metadata": {},
   "outputs": [
    {
     "name": "stdout",
     "output_type": "stream",
     "text": [
      "(prabowo, jowi, demokrat, pilpres, seluruh, ini, da, tps)                6763\n",
      "(san, suara, kami, klaim, umat, sudah, c1, bpn)                          5293\n",
      "(indonesia, selamat, beredar, netijen, air, karena, ma, suara)           2710\n",
      "(pendukung, pilpres, informasi, mclpz2ahmp, saudaraku, luar, cek, c1)    1870\n",
      "(suara, naku18, sejak, gabikinkembung, kristiani, sama, dalam, 10)       1151\n",
      "(sanuno, kean, paai, sujud, nah, emak, kwikkiangie_, dumai)              1081\n",
      "(kean, hasil, bahwa, usai, jowi, pi, kpu, real)                           841\n",
      "(propinsi, ireneviena, tep, syukur, saudara, ki, sempat, count)           800\n",
      "Name: dominanttopic, dtype: int64\n"
     ]
    },
    {
     "data": {
      "image/png": "[encoded data removed]",
      "text/plain": [
       "<Figure size 432x288 with 1 Axes>"
      ]
     },
     "metadata": {},
     "output_type": "display_data"
    }
   ],
   "source": [
    "# Getting top dominant topics and count them\n",
    "topic_count =tweets.dominanttopic.value_counts()\n",
    "print(topic_count)\n",
    "\n",
    "# Visualizing dominant topics count\n",
    "\n",
    "#The pie chart is oval by default. To make it a circle use pyplot.axis(\"equal\")\n",
    "plt.axis(\"equal\") \n",
    "\n",
    "#To show the percentage of each pie slice, pass an output format to the autopctparameter \n",
    "plt.pie(topic_count.values,labels=topic_count.index,autopct=\"%1.1f%%\") \n",
    "plt.title(\"Topics most talked\")\n",
    "plt.show()"
   ]
  },
  {
   "cell_type": "markdown",
   "metadata": {},
   "source": [
    "## Plotting Out Sentimental Analysis Timeline"
   ]
  },
  {
   "cell_type": "code",
   "execution_count": 215,
   "metadata": {},
   "outputs": [
    {
     "data": {
      "text/plain": [
       "<matplotlib.axes._subplots.AxesSubplot at 0x28a4051be10>"
      ]
     },
     "execution_count": 215,
     "metadata": {},
     "output_type": "execute_result"
    },
    {
     "data": {
      "image/png": "[encoded data removed]",
      "text/plain": [
       "<Figure size 1080x504 with 1 Axes>"
      ]
     },
     "metadata": {
      "needs_background": "light"
     },
     "output_type": "display_data"
    }
   ],
   "source": [
    "topic_time_count =tweets.loc[:,'dominanttopic']\n",
    "topic_time_count\n",
    "# Make a timeline\n",
    "topic_day_count = topic_time_count.groupby([topic_time_count.index.date,topic_time_count.values]).count()\n",
    "topic_day_count.unstack(level=0).T.plot(kind='bar',legend=True,figsize=(15, 7))"
   ]
  },
  {
   "cell_type": "markdown",
   "metadata": {},
   "source": [
    "# Challenges (To Be Continued):\n",
    "* Analysing fake news\n",
    "* Analysing geographic locations sentiments given charts\n",
    "* Applying these techniques for companies, commodities, and stocks"
   ]
  },
  {
   "cell_type": "markdown",
   "metadata": {},
   "source": [
    "# Next lesson:\n",
    "## Lesson 6 Basic Python for Data Analytics (Optimization Model for Operations Management)"
   ]
  }
 ],
 "metadata": {
  "kernelspec": {
   "display_name": "Python 3",
   "language": "python",
   "name": "python3"
  },
  "language_info": {
   "codemirror_mode": {
    "name": "ipython",
    "version": 3
   },
   "file_extension": ".py",
   "mimetype": "text/x-python",
   "name": "python",
   "nbconvert_exporter": "python",
   "pygments_lexer": "ipython3",
   "version": "3.7.1"
  }
 },
 "nbformat": 4,
 "nbformat_minor": 1
}
