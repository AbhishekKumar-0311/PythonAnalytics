{
 "cells": [
  {
   "cell_type": "markdown",
   "metadata": {},
   "source": [
    "# Value Investing Program\n",
    "# Introduction\n",
    "\n",
    "Inspired by Sean Seah Book -- Gone Fishing with Warren Buffetthttp://www.aceprofitsacademy.com/wp-content/uploads/2016/09/Gone-Fishing-with-Buffett.pdf\n",
    "\n",
    "In here we are going to try to scrape financial data:\n",
    "Input: List of the companies\n",
    "\n",
    "Web scraping: \n",
    "1. Find the shareprice by year and the following metrics:\n",
    "    a. EPS\n",
    "    b. ROE\n",
    "    c. ROA\n",
    "    d. Long term debt\n",
    "    e. Total Income\n",
    "    f. Debt to Equity\n",
    "    g. Interest Coverage Ratio\n",
    "\n",
    "Methods:\n",
    "1. Given list of the companies, find out the feasibility to invest\n",
    "    a. Been in market minimal 10 years\n",
    "    b. Have the track records (EPS per year)\n",
    "    c. Have efficiency (ROE > 15%) -- Net income / shareholder equity\n",
    "    d. Determine manipulation (ROA > 7%) -- Net income / Total Asset\n",
    "    e. Have small long term debt (Long term debt <5* total income)\n",
    "    f. Low Debt to Equity\n",
    "    g. Ability to pay interest: (Interest Coverage Ratio >3) -- EBIT / Interest expenses\n",
    "\n",
    "Outputs:\n",
    "1. Ranking of each company in terms of return rate given the value investing methodology\n",
    "    a. Find EPS Annual Compounded Growth Rate\n",
    "    b. Estimate EPS 10 years from now\n",
    "    c. Estimate stock price 10 years from now (Stock Price EPS * Average PE)\n",
    "    d. Determine target by price today based on returns(discount rate 15%/20%)\n",
    "    e. Add margin of safety (Safety net 15%)\n",
    "\n",
    "Additional:\n",
    "1. Qualitative Assessment of the companies\n",
    "    a. Advantages in business (product differentiation, branding, low price producer, high switching cost, legal barriers to entry)\n",
    "    b. Ability of foolhardy management (even a fool can run)\n",
    "    c. Avoid price competitive business    "
   ]
  },
  {
   "cell_type": "markdown",
   "metadata": {},
   "source": [
    "# Web scraping"
   ]
  },
  {
   "cell_type": "markdown",
   "metadata": {},
   "source": [
    "## Scraping Wikipedia SP500 Data Using Beautiful Soup"
   ]
  },
  {
   "cell_type": "code",
   "execution_count": 160,
   "metadata": {
    "collapsed": true
   },
   "outputs": [],
   "source": [
    "import bs4 as bs\n",
    "import pickle\n",
    "import requests\n",
    "\n",
    "# This will keep tickers + gics industries & sub industries\n",
    "def save_sp500_stocks_info():\n",
    "    resp = requests.get('http://en.wikipedia.org/wiki/List_of_S%26P_500_companies')\n",
    "    soup = bs.BeautifulSoup(resp.text, 'lxml')\n",
    "    table = soup.find('table', {'class': 'wikitable sortable'})\n",
    "    stocks_info=[]\n",
    "    tickers = []\n",
    "    gics_industries = []\n",
    "    gics_sub_industries = []\n",
    "    for row in table.findAll('tr')[1:]:\n",
    "        ticker = row.findAll('td')[0].text\n",
    "        gics_industry = row.findAll('td')[3].text\n",
    "        gics_sub_industry = row.findAll('td')[4].text\n",
    "\n",
    "        tickers.append(ticker.lower())\n",
    "        gics_industries.append(gics_industry.lower())\n",
    "        gics_sub_industries.append(gics_sub_industry.lower())\n",
    "    \n",
    "    stocks_info.append(tickers)\n",
    "    stocks_info.append(gics_industries)\n",
    "    stocks_info.append(gics_sub_industries)\n",
    "    return stocks_info\n",
    "\n",
    "stocks_info = save_sp500_stocks_info()\n",
    "stocks_info_df = pd.DataFrame(stocks_info).T\n",
    "stocks_info_df.columns=['tickers','gics_industry','gics_sub_industry']\n",
    "stocks_info_df.set_index('tickers',inplace=True)\n",
    "\n",
    "# Extract just the tickers list\n",
    "tickers= stocks_info[0]"
   ]
  },
  {
   "cell_type": "code",
   "execution_count": 251,
   "metadata": {
    "collapsed": true
   },
   "outputs": [],
   "source": [
    "tickersshort = tickers[:10]\n",
    "tickersmedium = tickers[:50]\n",
    "tickersmediumlarge = tickers[:300]"
   ]
  },
  {
   "cell_type": "markdown",
   "metadata": {},
   "source": [
    "## Scraping marketwatch Data Using Beautiful Soup"
   ]
  },
  {
   "cell_type": "code",
   "execution_count": 425,
   "metadata": {
    "collapsed": false
   },
   "outputs": [
    {
     "name": "stdout",
     "output_type": "stream",
     "text": [
      "Wall time: 41.2 s\n"
     ]
    }
   ],
   "source": [
    "%%time\n",
    "\n",
    "from urllib import urlopen\n",
    "from bs4 import BeautifulSoup\n",
    "\n",
    "dflist = []\n",
    "\n",
    "for ticker in tickersshort: \n",
    "    try:\n",
    "        urlfinancials = 'http://www.marketwatch.com/investing/stock/'+ticker+'/financials'\n",
    "        urlbalancesheet = 'http://www.marketwatch.com/investing/stock/'+ticker+'/financials/balance-sheet'\n",
    "\n",
    "        text_soup_financials = BeautifulSoup(urlopen(urlfinancials).read()) #read in\n",
    "        text_soup_balancesheet = BeautifulSoup(urlopen(url).read()) #read in\n",
    "\n",
    "        # Income statement\n",
    "        titlesfinancials = text_soup_financials.findAll('td', {'class': 'rowTitle'})\n",
    "        epslist=[]\n",
    "        netincomelist = []\n",
    "        longtermdebtlist = [] \n",
    "        interestexpenselist = []\n",
    "        ebitdalist= []\n",
    "\n",
    "        for title in titlesfinancials:\n",
    "            if 'EPS (Basic)' in title.text:\n",
    "                epslist.append ([td.text for td in title.findNextSiblings(attrs={'class': 'valueCell'}) if td.text])\n",
    "            if 'Net Income' in title.text:\n",
    "                netincomelist.append ([td.text for td in title.findNextSiblings(attrs={'class': 'valueCell'}) if td.text])\n",
    "            if 'Interest Expense' in title.text:\n",
    "                interestexpenselist.append ([td.text for td in title.findNextSiblings(attrs={'class': 'valueCell'}) if td.text])\n",
    "            if 'EBITDA' in title.text:\n",
    "                ebitdalist.append ([td.text for td in title.findNextSiblings(attrs={'class': 'valueCell'}) if td.text])\n",
    "\n",
    "\n",
    "        # Balance sheet\n",
    "        titlesbalancesheet = text_soup_balancesheet.findAll('td', {'class': 'rowTitle'})\n",
    "        equitylist=[]\n",
    "        for title in titlesbalancesheet:\n",
    "            if 'Total Shareholders\\' Equity' in title.text:\n",
    "                equitylist.append( [td.text for td in title.findNextSiblings(attrs={'class': 'valueCell'}) if td.text])\n",
    "            if 'Long-Term Debt' in title.text:\n",
    "                longtermdebtlist.append( [td.text for td in title.findNextSiblings(attrs={'class': 'valueCell'}) if td.text])\n",
    "\n",
    "        # Variables        \n",
    "        eps = epslist[0]\n",
    "        epsgrowth = epslist[1]\n",
    "        netincome = netincomelist[0]\n",
    "        shareholderequity = equitylist[0]\n",
    "        roa = equitylist[1]\n",
    "\n",
    "        longtermdebt = longtermdebtlist[0]\n",
    "        interestexpense = interestexpenselist[0]\n",
    "        ebitda = ebitdalist[0]\n",
    "        # Don't forget to add in roe, interest coverage ratio\n",
    "\n",
    "        ## Make it into Dataframes\n",
    "        df= pd.DataFrame({'eps': eps,'epsgrowth': epsgrowth,'netincome': netincome,'shareholderequity': shareholderequity,'roa': \n",
    "                      roa,'longtermdebt': longtermdebt,'interestexpense': interestexpense,'ebitda': ebitda},index=[2012,2013,2014,2015,2016])\n",
    "\n",
    "        # Format all the number in dataframe\n",
    "        dfformatted = df.apply(format)\n",
    "\n",
    "        # Adding roe, interest coverage ratio\n",
    "        dfformatted['roe'] = dfformatted.netincome/dfformatted.shareholderequity\n",
    "        dfformatted['interestcoverageratio'] = dfformatted.ebitda/dfformatted.interestexpense\n",
    "\n",
    "    #     Insert ticker and df\n",
    "        dflist.append((ticker,dfformatted))\n",
    "    except:\n",
    "        print(ticker,' ticker is not found')"
   ]
  },
  {
   "cell_type": "code",
   "execution_count": 426,
   "metadata": {
    "collapsed": false
   },
   "outputs": [
    {
     "data": {
      "text/plain": [
       "10"
      ]
     },
     "execution_count": 426,
     "metadata": {},
     "output_type": "execute_result"
    }
   ],
   "source": [
    "len(dflist)"
   ]
  },
  {
   "cell_type": "markdown",
   "metadata": {},
   "source": [
    "## Time\n",
    "40 seconds for 10 tickers\n",
    "\n",
    "3 minutes for 50 tickers\n"
   ]
  },
  {
   "cell_type": "markdown",
   "metadata": {},
   "source": [
    "## Formatting all the values to numerical"
   ]
  },
  {
   "cell_type": "code",
   "execution_count": 427,
   "metadata": {
    "collapsed": true
   },
   "outputs": [],
   "source": [
    "def format(list):\n",
    "    newlist=[]\n",
    "    posornegnumber = 1\n",
    "    for text in list:\n",
    "        if text.endswith(')'):\n",
    "            text = text[1:-1] # remove the parentheses\n",
    "            posornegnumber = -1\n",
    "            \n",
    "        if text.endswith('%'):\n",
    "#             Then please make it into comma float\n",
    "            endtext = float(text[:-1])/100.0 * posornegnumber \n",
    "        elif text.endswith('B'):\n",
    "#             Then please times 1000000000\n",
    "#             Change it into integer\n",
    "            endtext = int(float(text[:-1])*1000000000)* posornegnumber \n",
    "        elif text.endswith('M'):\n",
    "#             Then please times 1000000\n",
    "#             Change it into integer\n",
    "            endtext = int(float(text[:-1])*1000000)* posornegnumber \n",
    "        elif text.endswith('-'):\n",
    "#             Insert 0\n",
    "            endtext = 0\n",
    "        else:\n",
    "#             change to float\n",
    "            endtext = float(text)* posornegnumber \n",
    "        newlist.append(endtext)\n",
    "    return newlist   "
   ]
  },
  {
   "cell_type": "markdown",
   "metadata": {},
   "source": [
    "## Determining legibility\n",
    "Find whether this particular stocks is legitimate using this and filter accordingly\n",
    "    1. EPS increases over the year (consistent)\n",
    "    2. ROE > 0.15\n",
    "    3. ROA > 0.07 (also consider debt to equity cause Assets = liabilities + equity)\n",
    "    4. Long term debt < 5 * income\n",
    "    5. Interest Coverage Ratio > 3"
   ]
  },
  {
   "cell_type": "code",
   "execution_count": 298,
   "metadata": {
    "collapsed": false
   },
   "outputs": [],
   "source": [
    "def eligibilitycheck(df):\n",
    "    ticker,dfformatted = df\n",
    "    \n",
    "    legiblestock = True\n",
    "    reasonlist=[]\n",
    "\n",
    "    # EPS increases over the year (consistent)\n",
    "    for growth in dfformatted.epsgrowth:\n",
    "        if growth<0:\n",
    "            legiblestock = False\n",
    "            reasonlist.append('there is negative growth '+str(growth))\n",
    "            break\n",
    "    # ROE > 0.15\n",
    "    if dfformatted.roe.mean()<0.13:\n",
    "            legiblestock = False\n",
    "            reasonlist.append('roe mean is less than 0.13 '+ str(dfformatted.roe.mean()))\n",
    "    # ROA > 0.07 (also consider debt to equity cause Assets = liabilities + equity)\n",
    "    if dfformatted.roa.mean()<0.07:\n",
    "            legiblestock = False\n",
    "            reasonlist.append('roa mean is less than 0.07 ' + str(dfformatted.roa.mean()))\n",
    "    # Long term debt < 5 * income\n",
    "    if dfformatted.longtermdebt.tail(1).values[0]>5*dfformatted.netincome.tail(1).values[0]:\n",
    "            legiblestock = False\n",
    "            reasonlist.append('longtermdebt is 5 times the netincome ')\n",
    "    # Interest Coverage Ratio > 3\n",
    "    if dfformatted.interestcoverageratio.tail(1).values[0]<3:\n",
    "            legiblestock = False\n",
    "            reasonlist.append('Interestcoverageratio is less than 3 ')\n",
    "#     print ticker,legiblestock,reasonlist\n",
    "    return ticker,legiblestock"
   ]
  },
  {
   "cell_type": "code",
   "execution_count": 429,
   "metadata": {
    "collapsed": false
   },
   "outputs": [
    {
     "data": {
      "text/plain": [
       "[(u'mmm',\n",
       "            ebitda   eps  epsgrowth  interestexpense  longtermdebt   netincome  \\\n",
       "  2012  7760000000  6.40     0.0000        221000000    2990000000  4510000000   \n",
       "  2013  8029999999  6.83     0.0672                0    2240000000  4720000000   \n",
       "  2014  8529999999  7.63     0.1171        101000000    3230000000  5000000000   \n",
       "  2015  8310000000  7.73     0.0125        117000000    2000000000  4840000000   \n",
       "  2016  8490000000  8.35     0.0809        207000000    3940000000  5060000000   \n",
       "  \n",
       "           roa  shareholderequity       roe  interestcoverageratio  \n",
       "  2012  0.7646        71720000000  0.062883              35.113122  \n",
       "  2013  0.7871        87310000000  0.054060                    inf  \n",
       "  2014  0.8040       103860000000  0.048142              84.455446  \n",
       "  2015  0.8160       120330000000  0.040223              71.025641  \n",
       "  2016  0.8301       139040000000  0.036392              41.014493  ),\n",
       " (u'abt',\n",
       "            ebitda   eps  epsgrowth  interestexpense  longtermdebt   netincome  \\\n",
       "  2012  4790000000  3.76     0.0000        409000000    2990000000   533000000   \n",
       "  2013  3870000000  1.64    -0.5638         47000000    2240000000  1970000000   \n",
       "  2014  4390000000  1.50    -0.0858        164000000    3230000000  1710000000   \n",
       "  2015  4420000000  1.77     0.1820        178000000    2000000000  2590000000   \n",
       "  2016  4600000000  0.93    -0.4739        304000000    3940000000  1060000000   \n",
       "  \n",
       "           roa  shareholderequity       roe  interestcoverageratio  \n",
       "  2012  0.7646        71720000000  0.007432              11.711491  \n",
       "  2013  0.7871        87310000000  0.022563              82.340426  \n",
       "  2014  0.8040       103860000000  0.016464              26.768293  \n",
       "  2015  0.8160       120330000000  0.021524              24.831461  \n",
       "  2016  0.8301       139040000000  0.007624              15.131579  )]"
      ]
     },
     "execution_count": 429,
     "metadata": {},
     "output_type": "execute_result"
    }
   ],
   "source": [
    "dflist[:2]"
   ]
  },
  {
   "cell_type": "code",
   "execution_count": 300,
   "metadata": {
    "collapsed": false
   },
   "outputs": [
    {
     "name": "stdout",
     "output_type": "stream",
     "text": [
      "mmm False ['roe mean is less than 0.13 0.0483401071703']\n",
      "abt False ['there is negative growth -0.5638', 'roe mean is less than 0.13 0.0151214555543']\n",
      "abbv False ['there is negative growth -0.2287', 'roe mean is less than 0.13 0.0445496491725']\n",
      "acn False ['there is negative growth -0.0866', 'roe mean is less than 0.13 0.0338117326132']\n",
      "atvi False ['there is negative growth -0.0495', 'roe mean is less than 0.13 0.00983340539427']\n",
      "ayi False ['roe mean is less than 0.13 0.00172609663005', 'longtermdebt is 5 times the netincome ']\n",
      "adbe False ['there is negative growth -0.6548', 'roe mean is less than 0.13 0.00623277670333']\n",
      "amd False ['there is negative growth -3.77', 'roe mean is less than 0.13 -0.0060686317473', 'longtermdebt is 5 times the netincome ', 'Interestcoverageratio is less than 3 ']\n",
      "aap False ['there is negative growth -0.0444', 'roe mean is less than 0.13 0.00436678953041', 'longtermdebt is 5 times the netincome ']\n",
      "aes False ['there is negative growth -0.6113', 'roe mean is less than 0.13 -0.00674281890558', 'longtermdebt is 5 times the netincome ', 'Interestcoverageratio is less than 3 ']\n",
      "a False ['there is negative growth -0.3595', 'roe mean is less than 0.13 0.00722846637955', 'longtermdebt is 5 times the netincome ']\n",
      "apd False ['there is negative growth -0.0301', 'roe mean is less than 0.13 0.0115816617688']\n",
      "akam False ['there is negative growth -0.0374', 'roe mean is less than 0.13 0.00287316912654', 'longtermdebt is 5 times the netincome ']\n",
      "alk False ['there is negative growth -0.003', 'roe mean is less than 0.13 0.00579024761713']\n",
      "alb False ['there is negative growth -0.487', 'roe mean is less than 0.13 0.00365881935197', 'longtermdebt is 5 times the netincome ']\n",
      "alxn False ['there is negative growth -0.0373', 'roe mean is less than 0.13 0.00336882876941', 'longtermdebt is 5 times the netincome ']\n",
      "algn False ['there is negative growth -0.0055', 'roe mean is less than 0.13 0.00110399324542', 'longtermdebt is 5 times the netincome ']\n",
      "alle False ['there is negative growth -0.8507', 'roe mean is less than 0.13 0.0016807212366', 'longtermdebt is 5 times the netincome ']\n",
      "agn False ['there is negative growth -7.8442', 'roe mean is less than 0.13 -0.0107004071346', 'longtermdebt is 5 times the netincome ']\n",
      "ads False ['there is negative growth -0.1358', 'roe mean is less than 0.13 0.00483543046462', 'longtermdebt is 5 times the netincome ']\n",
      "lnt False ['there is negative growth -0.0289', 'roe mean is less than 0.13 0.00378969415257', 'longtermdebt is 5 times the netincome ']\n",
      "googl True []\n",
      "goog True []\n",
      "mo False ['roe mean is less than 0.13 0.0608736598712']\n",
      "amzn False ['there is negative growth -1.8667', 'roe mean is less than 0.13 -0.00560019122003', 'longtermdebt is 5 times the netincome ']\n",
      "aee False ['roe mean is less than 0.13 -0.00696487137852', 'longtermdebt is 5 times the netincome ']\n",
      "aal False ['there is negative growth -1.0089', 'roe mean is less than 0.13 -0.0314840526192', 'longtermdebt is 5 times the netincome ']\n",
      "aep False ['there is negative growth -0.6589', 'roe mean is less than 0.13 0.0138964391044', 'longtermdebt is 5 times the netincome ']\n",
      "awk False ['there is negative growth -0.0113', 'roe mean is less than 0.13 0.00418117338301', 'longtermdebt is 5 times the netincome ']\n",
      "ame False ['there is negative growth -0.1057', 'roe mean is less than 0.13 0.00530887753749', 'longtermdebt is 5 times the netincome ']\n",
      "amgn False ['roe mean is less than 0.13 0.0563433209072']\n",
      "aph False ['roe mean is less than 0.13 0.00688195553813']\n",
      "apc False ['there is negative growth -0.6675', 'roe mean is less than 0.13 -0.00948265086561', 'longtermdebt is 5 times the netincome ']\n",
      "adi False ['there is negative growth -0.0822', 'roe mean is less than 0.13 0.00696840356538']\n",
      "apa False ['there is negative growth -3.5401', 'roe mean is less than 0.13 -0.0161918005086', 'longtermdebt is 5 times the netincome ']\n",
      "aapl False ['there is negative growth -0.1033']\n"
     ]
    }
   ],
   "source": [
    "selectiondflist = []\n",
    "for df in dflist:\n",
    "    if eligibilitycheck(df)[1]:\n",
    "        selectiondflist.append(df)"
   ]
  },
  {
   "cell_type": "code",
   "execution_count": 301,
   "metadata": {
    "collapsed": false
   },
   "outputs": [
    {
     "data": {
      "text/plain": [
       "36"
      ]
     },
     "execution_count": 301,
     "metadata": {},
     "output_type": "execute_result"
    }
   ],
   "source": [
    "len(dflist)"
   ]
  },
  {
   "cell_type": "code",
   "execution_count": 302,
   "metadata": {
    "collapsed": false
   },
   "outputs": [
    {
     "data": {
      "text/plain": [
       "2"
      ]
     },
     "execution_count": 302,
     "metadata": {},
     "output_type": "execute_result"
    }
   ],
   "source": [
    "len(selectiondflist)"
   ]
  },
  {
   "cell_type": "code",
   "execution_count": 307,
   "metadata": {
    "collapsed": false
   },
   "outputs": [
    {
     "name": "stdout",
     "output_type": "stream",
     "text": [
      "[u'googl', u'goog']\n"
     ]
    }
   ],
   "source": [
    "# What are the tickers of these?\n",
    "print [x[0] for x in selectiondflist]"
   ]
  },
  {
   "cell_type": "markdown",
   "metadata": {},
   "source": [
    "## Scraping for latest shareprice using selectiondflist"
   ]
  },
  {
   "cell_type": "code",
   "execution_count": 428,
   "metadata": {
    "collapsed": false
   },
   "outputs": [],
   "source": [
    "import pandas as pd\n",
    "import datetime\n",
    "import pandas_datareader.data as web\n",
    "from pandas import Series, DataFrame\n",
    "\n",
    "\n",
    "days_per_year = 365.24\n",
    "\n",
    "# start = datetime.datetime.now()-datetime.timedelta(days=(5*days_per_year))\n",
    "start = datetime.datetime.now()-datetime.timedelta(days=1)\n",
    "end = datetime.datetime.now()\n",
    "\n",
    "# To pull individual stock\n",
    "# df = web.DataReader(\"AAPL\", 'google', start, end)\n",
    "# df.tail()\n",
    "\n",
    "# To pull group stocks\n",
    "dfcomp = web.DataReader(dfrank.index,'google',\n",
    "                               start=start, \n",
    "                               end=end)['Close']"
   ]
  },
  {
   "cell_type": "markdown",
   "metadata": {},
   "source": [
    "# Using selectiondflist to calculate stocks price value\n",
    "\n",
    "Outputs:\n",
    "1. Ranking of each company in terms of return rate given the value investing methodology\n",
    "    a. Find EPS Annual Compounded Growth Rate\n",
    "    b. Estimate EPS 10 years from now\n",
    "    c. Estimate stock price 10 years from now (Stock Price EPS * Average PE)\n",
    "    d. Determine target by price today based on returns(discount rate 15%/20%)\n",
    "    e. Add margin of safety (Safety net 15%)\n"
   ]
  },
  {
   "cell_type": "code",
   "execution_count": 416,
   "metadata": {
    "collapsed": false
   },
   "outputs": [],
   "source": [
    "import numpy as np\n",
    "dfrank = pd.DataFrame(columns =['ticker','annualgrowthrate','lasteps','futureeps'])\n",
    "i=0\n",
    "for tuple in selectiondflist:\n",
    "    ticker, df = tuple\n",
    "    \n",
    "    # Find EPS Annual Compounded Growth Rate\n",
    "    annualgrowthrate =  df.epsgrowth.mean() #growth rate\n",
    "    \n",
    "    # Estimate stock price 10 years from now (Stock Price EPS * Average PE)\n",
    "    lasteps = df.eps.tail(1).values[0] #presentvalue\n",
    "    years  = 10 #period\n",
    "    \n",
    "    futureeps = abs(np.fv(annualgrowthrate,years,0,lasteps))\n",
    "        \n",
    "    dfrank.loc[i] = [ticker,annualgrowthrate,lasteps,futureeps]\n",
    "    i+=1\n",
    "    \n",
    "dfrank.set_index('ticker',inplace=True)"
   ]
  },
  {
   "cell_type": "code",
   "execution_count": 418,
   "metadata": {
    "collapsed": false
   },
   "outputs": [],
   "source": [
    "dfrank['lastshareprice']=dfcomp.tail().T.values\n",
    "dfrank['peratio'] = dfrank['lastshareprice']/dfrank['lasteps']\n",
    "dfrank['futureshareprice'] = dfrank['futureeps']*dfrank['peratio']"
   ]
  },
  {
   "cell_type": "code",
   "execution_count": 423,
   "metadata": {
    "collapsed": true
   },
   "outputs": [],
   "source": [
    "discountrate = 0.20\n",
    "margin = 0.15\n",
    "\n",
    "dfrank['presentshareprice'] = abs(np.pv(discountrate,years,0,fv=dfrank['futureshareprice']))\n",
    "dfrank['marginalizedprice'] = dfrank['presentshareprice']*(1-0.15) "
   ]
  },
  {
   "cell_type": "code",
   "execution_count": 424,
   "metadata": {
    "collapsed": false
   },
   "outputs": [
    {
     "data": {
      "text/html": [
       "<div>\n",
       "<table border=\"1\" class=\"dataframe\">\n",
       "  <thead>\n",
       "    <tr style=\"text-align: right;\">\n",
       "      <th></th>\n",
       "      <th>annualgrowthrate</th>\n",
       "      <th>lasteps</th>\n",
       "      <th>futureeps</th>\n",
       "      <th>lastshareprice</th>\n",
       "      <th>peratio</th>\n",
       "      <th>futureshareprice</th>\n",
       "      <th>presentshareprice</th>\n",
       "      <th>marginalizedprice</th>\n",
       "    </tr>\n",
       "    <tr>\n",
       "      <th>ticker</th>\n",
       "      <th></th>\n",
       "      <th></th>\n",
       "      <th></th>\n",
       "      <th></th>\n",
       "      <th></th>\n",
       "      <th></th>\n",
       "      <th></th>\n",
       "      <th></th>\n",
       "    </tr>\n",
       "  </thead>\n",
       "  <tbody>\n",
       "    <tr>\n",
       "      <th>googl</th>\n",
       "      <td>0.11778</td>\n",
       "      <td>28.32</td>\n",
       "      <td>86.229645</td>\n",
       "      <td>965.59</td>\n",
       "      <td>34.095692</td>\n",
       "      <td>2940.059410</td>\n",
       "      <td>474.836009</td>\n",
       "      <td>403.610607</td>\n",
       "    </tr>\n",
       "    <tr>\n",
       "      <th>goog</th>\n",
       "      <td>0.11778</td>\n",
       "      <td>28.32</td>\n",
       "      <td>86.229645</td>\n",
       "      <td>986.09</td>\n",
       "      <td>34.819562</td>\n",
       "      <td>3002.478467</td>\n",
       "      <td>484.917035</td>\n",
       "      <td>412.179480</td>\n",
       "    </tr>\n",
       "  </tbody>\n",
       "</table>\n",
       "</div>"
      ],
      "text/plain": [
       "        annualgrowthrate  lasteps  futureeps  lastshareprice    peratio  \\\n",
       "ticker                                                                    \n",
       "googl            0.11778    28.32  86.229645          965.59  34.095692   \n",
       "goog             0.11778    28.32  86.229645          986.09  34.819562   \n",
       "\n",
       "        futureshareprice  presentshareprice  marginalizedprice  \n",
       "ticker                                                          \n",
       "googl        2940.059410         474.836009         403.610607  \n",
       "goog         3002.478467         484.917035         412.179480  "
      ]
     },
     "execution_count": 424,
     "metadata": {},
     "output_type": "execute_result"
    }
   ],
   "source": [
    "dfrank"
   ]
  }
 ],
 "metadata": {
  "kernelspec": {
   "display_name": "Python 2",
   "language": "python",
   "name": "python2"
  },
  "language_info": {
   "codemirror_mode": {
    "name": "ipython",
    "version": 2
   },
   "file_extension": ".py",
   "mimetype": "text/x-python",
   "name": "python",
   "nbconvert_exporter": "python",
   "pygments_lexer": "ipython2",
   "version": "2.7.11"
  }
 },
 "nbformat": 4,
 "nbformat_minor": 0
}
